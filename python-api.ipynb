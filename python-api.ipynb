{
 "cells": [
  {
   "cell_type": "markdown",
   "metadata": {},
   "source": [
    "# sqlite_utils Python library"
   ]
  },
  {
   "cell_type": "code",
   "execution_count": null,
   "metadata": {},
   "outputs": [],
   "source": [
    "#|hide\n",
    "from pathlib import Path"
   ]
  },
  {
   "cell_type": "markdown",
   "metadata": {},
   "source": [
    "## Getting started"
   ]
  },
  {
   "cell_type": "markdown",
   "metadata": {},
   "source": [
    "Here's how to create a new SQLite database file containing a new `chickens` table, populated with four records:"
   ]
  },
  {
   "cell_type": "code",
   "execution_count": null,
   "metadata": {},
   "outputs": [],
   "source": [
    "from sqlite_utils import Database\n",
    "from sqlite_utils.utils import sqlite3"
   ]
  },
  {
   "cell_type": "code",
   "execution_count": null,
   "metadata": {},
   "outputs": [],
   "source": [
    "#|hide\n",
    "Path(\"chickens.db\").unlink(missing_ok=True) # Start with a fresh db"
   ]
  },
  {
   "cell_type": "code",
   "execution_count": null,
   "metadata": {},
   "outputs": [],
   "source": [
    "db = Database(\"chickens.db\")\n",
    "db[\"chickens\"].insert_all([{\n",
    "    \"name\": \"Azi\",\n",
    "    \"color\": \"blue\",\n",
    "}, {\n",
    "    \"name\": \"Lila\",\n",
    "    \"color\": \"blue\",\n",
    "}, {\n",
    "    \"name\": \"Suna\",\n",
    "    \"color\": \"gold\",\n",
    "}, {\n",
    "    \"name\": \"Cardi\",\n",
    "    \"color\": \"black\",\n",
    "}]);"
   ]
  },
  {
   "cell_type": "markdown",
   "metadata": {},
   "source": [
    "You can loop through those rows like this:"
   ]
  },
  {
   "cell_type": "code",
   "execution_count": null,
   "metadata": {},
   "outputs": [
    {
     "name": "stdout",
     "output_type": "stream",
     "text": [
      "{'name': 'Azi', 'color': 'blue'}\n",
      "{'name': 'Lila', 'color': 'blue'}\n",
      "{'name': 'Suna', 'color': 'gold'}\n",
      "{'name': 'Cardi', 'color': 'black'}\n"
     ]
    }
   ],
   "source": [
    "for row in db[\"chickens\"].rows:\n",
    "    print(row)"
   ]
  },
  {
   "cell_type": "markdown",
   "metadata": {},
   "source": [
    "To run a SQL query, use `db.query()`:"
   ]
  },
  {
   "cell_type": "code",
   "execution_count": null,
   "metadata": {},
   "outputs": [
    {
     "name": "stdout",
     "output_type": "stream",
     "text": [
      "{'color': 'blue', 'count(*)': 2}\n",
      "{'color': 'gold', 'count(*)': 1}\n",
      "{'color': 'black', 'count(*)': 1}\n"
     ]
    }
   ],
   "source": [
    "for row in db.query(\"\"\"\n",
    "    select color, count(*)\n",
    "    from chickens group by color\n",
    "    order by count(*) desc\n",
    "\"\"\"):\n",
    "    print(row)"
   ]
  },
  {
   "cell_type": "markdown",
   "metadata": {},
   "source": [
    "## Connecting to or creating a database"
   ]
  },
  {
   "cell_type": "markdown",
   "metadata": {},
   "source": [
    "Database objects are constructed by passing in either a path to a file on disk or an existing SQLite3 database connection:"
   ]
  },
  {
   "cell_type": "code",
   "execution_count": null,
   "metadata": {},
   "outputs": [],
   "source": [
    "#|hide\n",
    "Path(\"my_database.db\").unlink(missing_ok=True)"
   ]
  },
  {
   "cell_type": "code",
   "execution_count": null,
   "metadata": {},
   "outputs": [],
   "source": [
    "db = Database(\"my_database.db\")"
   ]
  },
  {
   "cell_type": "markdown",
   "metadata": {},
   "source": [
    "This will create `my_database.db` if it does not already exist."
   ]
  },
  {
   "cell_type": "markdown",
   "metadata": {},
   "source": [
    "If you want to recreate a database from scratch (first removing the existing file from disk if it already exists) you can use the `recreate=True` argument:"
   ]
  },
  {
   "cell_type": "code",
   "execution_count": null,
   "metadata": {},
   "outputs": [],
   "source": [
    "db = Database(\"my_database.db\", recreate=True)"
   ]
  },
  {
   "cell_type": "markdown",
   "metadata": {},
   "source": [
    "Instead of a file path you can pass in an existing SQLite connection:"
   ]
  },
  {
   "cell_type": "code",
   "execution_count": null,
   "metadata": {},
   "outputs": [],
   "source": [
    "db = Database(sqlite3.connect(\"my_database.db\"))"
   ]
  },
  {
   "cell_type": "markdown",
   "metadata": {},
   "source": [
    "If you want to create an in-memory database, you can do so like this:"
   ]
  },
  {
   "cell_type": "code",
   "execution_count": null,
   "metadata": {},
   "outputs": [],
   "source": [
    "db = Database(memory=True)"
   ]
  },
  {
   "cell_type": "markdown",
   "metadata": {},
   "source": [
    "You can also create a named in-memory database. Unlike regular memory databases these can be accessed by multiple threads, provided at least one reference to the database still exists. `del db` will clear the database from memory."
   ]
  },
  {
   "cell_type": "code",
   "execution_count": null,
   "metadata": {},
   "outputs": [],
   "source": [
    "db = Database(memory_name=\"my_shared_database\")"
   ]
  },
  {
   "cell_type": "markdown",
   "metadata": {},
   "source": [
    "Connections use `PRAGMA recursive_triggers=on` by default. If you don't want to use `recursive triggers` you can turn them off using:"
   ]
  },
  {
   "cell_type": "code",
   "execution_count": null,
   "metadata": {},
   "outputs": [],
   "source": [
    "db = Database(memory=True, recursive_triggers=False)"
   ]
  },
  {
   "cell_type": "markdown",
   "metadata": {},
   "source": [
    "### Attaching additional databases"
   ]
  },
  {
   "cell_type": "markdown",
   "metadata": {},
   "source": [
    "SQLite supports cross-database SQL queries, which can join data from tables in more than one database file."
   ]
  },
  {
   "cell_type": "markdown",
   "metadata": {},
   "source": [
    "You can attach an additional database using the `.attach()` method, providing an alias to use for that database and the path to the SQLite file on disk."
   ]
  },
  {
   "cell_type": "code",
   "execution_count": null,
   "metadata": {},
   "outputs": [],
   "source": [
    "Database(\"first.db\", recreate=True)[\"table_in_first\"].insert({\"color\": \"blue\"})\n",
    "Database(\"second.db\", recreate=True)[\"table_in_second\"].insert({\"color\": \"red\"});"
   ]
  },
  {
   "cell_type": "code",
   "execution_count": null,
   "metadata": {},
   "outputs": [],
   "source": [
    "db = Database(\"first.db\")\n",
    "db.attach(\"second\", \"second.db\")"
   ]
  },
  {
   "cell_type": "markdown",
   "metadata": {},
   "source": [
    "Now you can run queries like this one:"
   ]
  },
  {
   "cell_type": "code",
   "execution_count": null,
   "metadata": {},
   "outputs": [
    {
     "name": "stdout",
     "output_type": "stream",
     "text": [
      "{'color': 'blue'}\n",
      "{'color': 'red'}\n"
     ]
    }
   ],
   "source": [
    "for row in db.query(\"\"\"\n",
    "select * from table_in_first\n",
    "    union all\n",
    "select * from second.table_in_second\n",
    "\"\"\"):\n",
    "    print(row)"
   ]
  },
  {
   "cell_type": "markdown",
   "metadata": {},
   "source": [
    "You can reference tables in the attached database using the alias value you passed to `db.attach(alias, filepath)` as a prefix, for example the `second.table_in_second` reference in the SQL query above."
   ]
  },
  {
   "cell_type": "markdown",
   "metadata": {},
   "source": [
    "### Tracing queries"
   ]
  },
  {
   "cell_type": "markdown",
   "metadata": {},
   "source": [
    "You can use the `tracer` mechanism to see SQL queries that are being executed by SQLite. A tracer is a function that you provide which will be called with `sql` and `params` arguments every time SQL is executed, for example:"
   ]
  },
  {
   "cell_type": "code",
   "execution_count": null,
   "metadata": {},
   "outputs": [],
   "source": [
    "def tracer(sql, params):\n",
    "    print(\"SQL: {} - params: {}\".format(sql, params))"
   ]
  },
  {
   "cell_type": "markdown",
   "metadata": {},
   "source": [
    "You can pass this function to the `Database()` constructor like so:"
   ]
  },
  {
   "cell_type": "code",
   "execution_count": null,
   "metadata": {},
   "outputs": [
    {
     "name": "stdout",
     "output_type": "stream",
     "text": [
      "SQL: PRAGMA recursive_triggers=on; - params: None\n"
     ]
    }
   ],
   "source": [
    "db = Database(memory=True, tracer=tracer)"
   ]
  },
  {
   "cell_type": "markdown",
   "metadata": {},
   "source": [
    "You can also turn on a tracer function temporarily for a block of code using the `with db.tracer(...)` context manager:"
   ]
  },
  {
   "cell_type": "code",
   "execution_count": null,
   "metadata": {},
   "outputs": [
    {
     "name": "stdout",
     "output_type": "stream",
     "text": [
      "select name from sqlite_master where type = 'view' None\n",
      "select name from sqlite_master where type = 'table' None\n",
      "select name from sqlite_master where type = 'view' None\n",
      "CREATE TABLE [dogs] (\n",
      "   [name] TEXT\n",
      ");\n",
      "         None\n",
      "select name from sqlite_master where type = 'view' None\n",
      "INSERT INTO [dogs] ([name]) VALUES (?); ['Cleo']\n"
     ]
    }
   ],
   "source": [
    "db = Database(memory=True)\n",
    "# ... later\n",
    "with db.tracer(print):\n",
    "    db[\"dogs\"].insert({\"name\": \"Cleo\"})"
   ]
  },
  {
   "cell_type": "markdown",
   "metadata": {},
   "source": [
    "This example will print queries only for the duration of the `with` block."
   ]
  },
  {
   "cell_type": "markdown",
   "metadata": {},
   "source": [
    "## Executing queries"
   ]
  },
  {
   "cell_type": "markdown",
   "metadata": {},
   "source": [
    "The `Database` class offers several methods for directly executing SQL queries."
   ]
  },
  {
   "cell_type": "markdown",
   "metadata": {},
   "source": [
    "### db.query(sql, params)"
   ]
  },
  {
   "cell_type": "markdown",
   "metadata": {},
   "source": [
    "The `db.query(sql)` function executes a SQL query and returns an iterator over Python dictionaries representing the resulting rows:"
   ]
  },
  {
   "cell_type": "code",
   "execution_count": null,
   "metadata": {},
   "outputs": [
    {
     "name": "stdout",
     "output_type": "stream",
     "text": [
      "{'name': 'Cleo'}\n",
      "{'name': 'Pancakes'}\n"
     ]
    }
   ],
   "source": [
    "db = Database(memory=True)\n",
    "db[\"dogs\"].insert_all([{\"name\": \"Cleo\"}, {\"name\": \"Pancakes\"}]) #|hide_line\n",
    "for row in db.query(\"select * from dogs\"):\n",
    "    print(row)"
   ]
  },
  {
   "cell_type": "markdown",
   "metadata": {},
   "source": [
    "### db.execute(sql, params)"
   ]
  },
  {
   "cell_type": "markdown",
   "metadata": {},
   "source": [
    "The `db.execute()` and `db.executescript()` methods provide wrappers around `.execute()` and `.executescript()` on the underlying SQLite connection. These wrappers log to the `tracer` if one has been registered."
   ]
  },
  {
   "cell_type": "markdown",
   "metadata": {},
   "source": [
    "`db.execute(sql)` returns a `sqlite3.Cursor` that was used to execute the SQL."
   ]
  },
  {
   "cell_type": "code",
   "execution_count": null,
   "metadata": {},
   "outputs": [
    {
     "data": {
      "text/plain": [
       "2"
      ]
     },
     "execution_count": null,
     "metadata": {},
     "output_type": "execute_result"
    }
   ],
   "source": [
    "cursor = db.execute(\"update dogs set name = 'Cleopaws'\")\n",
    "# Outputs the number of rows affected by the update\n",
    "cursor.rowcount"
   ]
  },
  {
   "cell_type": "markdown",
   "metadata": {},
   "source": [
    "Other cursor methods such as `.fetchone()` and `.fetchall()` are also available, see the `standard library documentation`."
   ]
  },
  {
   "cell_type": "markdown",
   "metadata": {},
   "source": [
    "### Passing parameters"
   ]
  },
  {
   "cell_type": "markdown",
   "metadata": {},
   "source": [
    "Both `db.query()` and `db.execute()` accept an optional second argument for parameters to be passed to the SQL query."
   ]
  },
  {
   "cell_type": "markdown",
   "metadata": {},
   "source": [
    "This can take the form of either a tuple/list or a dictionary, depending on the type of parameters used in the query. Values passed in this way will be correctly quoted and escaped, helping avoid SQL injection vulnerabilities."
   ]
  },
  {
   "cell_type": "markdown",
   "metadata": {},
   "source": [
    "`?` parameters in the SQL query can be filled in using a list:"
   ]
  },
  {
   "cell_type": "code",
   "execution_count": null,
   "metadata": {},
   "outputs": [],
   "source": [
    "db.execute(\"update dogs set name = ?\", [\"Cleopaws\"]);\n",
    "# This will rename ALL dogs to be called \"Cleopaws\""
   ]
  },
  {
   "cell_type": "markdown",
   "metadata": {},
   "source": [
    "Named parameters using `:name` can be filled using a dictionary:"
   ]
  },
  {
   "cell_type": "code",
   "execution_count": null,
   "metadata": {},
   "outputs": [
    {
     "data": {
      "text/plain": [
       "{'rowid': 1, 'name': 'Cleopaws'}"
      ]
     },
     "execution_count": null,
     "metadata": {},
     "output_type": "execute_result"
    }
   ],
   "source": [
    "next(db.query(\n",
    "    \"select rowid, name from dogs where name = :name\",\n",
    "    {\"name\": \"Cleopaws\"}\n",
    "))"
   ]
  },
  {
   "cell_type": "markdown",
   "metadata": {},
   "source": [
    "In this example `next()` is used to retrieve the first result in the iterator returned by the `db.query()` method."
   ]
  },
  {
   "cell_type": "markdown",
   "metadata": {},
   "source": [
    "## Accessing tables"
   ]
  },
  {
   "cell_type": "markdown",
   "metadata": {},
   "source": [
    "Tables are accessed using the indexing operator, like so:"
   ]
  },
  {
   "cell_type": "code",
   "execution_count": null,
   "metadata": {},
   "outputs": [],
   "source": [
    "table = db[\"my_table\"]"
   ]
  },
  {
   "cell_type": "markdown",
   "metadata": {},
   "source": [
    "If the table does not yet exist, it will be created the first time you attempt to insert or upsert data into it."
   ]
  },
  {
   "cell_type": "markdown",
   "metadata": {},
   "source": [
    "You can also access tables using the `.table()` method like so:"
   ]
  },
  {
   "cell_type": "code",
   "execution_count": null,
   "metadata": {},
   "outputs": [],
   "source": [
    "table = db.table(\"my_table\")"
   ]
  },
  {
   "cell_type": "markdown",
   "metadata": {},
   "source": [
    "Using this factory function allows you to set `python_api_table_configuration`."
   ]
  },
  {
   "cell_type": "markdown",
   "metadata": {},
   "source": [
    "## Listing tables"
   ]
  },
  {
   "cell_type": "markdown",
   "metadata": {},
   "source": [
    "You can list the names of tables in a database using the `.table_names()` method:"
   ]
  },
  {
   "cell_type": "code",
   "execution_count": null,
   "metadata": {},
   "outputs": [
    {
     "data": {
      "text/plain": [
       "['dogs']"
      ]
     },
     "execution_count": null,
     "metadata": {},
     "output_type": "execute_result"
    }
   ],
   "source": [
    "db.table_names()"
   ]
  },
  {
   "cell_type": "markdown",
   "metadata": {},
   "source": [
    "To see just the FTS4 tables, use `.table_names(fts4=True)`. For FTS5, use `.table_names(fts5=True)`."
   ]
  },
  {
   "cell_type": "markdown",
   "metadata": {},
   "source": [
    "You can also iterate through the table objects themselves using the `.tables` property:"
   ]
  },
  {
   "cell_type": "code",
   "execution_count": null,
   "metadata": {},
   "outputs": [
    {
     "data": {
      "text/plain": [
       "[<Table dogs (name)>]"
      ]
     },
     "execution_count": null,
     "metadata": {},
     "output_type": "execute_result"
    }
   ],
   "source": [
    "db.tables"
   ]
  },
  {
   "cell_type": "markdown",
   "metadata": {},
   "source": [
    "## Listing views"
   ]
  },
  {
   "cell_type": "code",
   "execution_count": null,
   "metadata": {},
   "outputs": [],
   "source": [
    "#|hide\n",
    "db.create_view('good_dogs', 'select * from dogs', replace=True);"
   ]
  },
  {
   "cell_type": "markdown",
   "metadata": {},
   "source": [
    "`.view_names()` shows you a list of views in the database:"
   ]
  },
  {
   "cell_type": "code",
   "execution_count": null,
   "metadata": {},
   "outputs": [
    {
     "data": {
      "text/plain": [
       "['good_dogs']"
      ]
     },
     "execution_count": null,
     "metadata": {},
     "output_type": "execute_result"
    }
   ],
   "source": [
    "db.view_names()"
   ]
  },
  {
   "cell_type": "markdown",
   "metadata": {},
   "source": [
    "You can iterate through view objects using the `.views` property:"
   ]
  },
  {
   "cell_type": "code",
   "execution_count": null,
   "metadata": {},
   "outputs": [
    {
     "data": {
      "text/plain": [
       "[<View good_dogs (name)>]"
      ]
     },
     "execution_count": null,
     "metadata": {},
     "output_type": "execute_result"
    }
   ],
   "source": [
    "db.views"
   ]
  },
  {
   "cell_type": "markdown",
   "metadata": {},
   "source": [
    "View objects are similar to Table objects, except that any attempts to insert or update data will throw an error. The full list of methods and properties available on a view object is as follows:"
   ]
  },
  {
   "cell_type": "markdown",
   "metadata": {},
   "source": [
    "`columns`"
   ]
  },
  {
   "cell_type": "markdown",
   "metadata": {},
   "source": [
    "`columns_dict`"
   ]
  },
  {
   "cell_type": "markdown",
   "metadata": {},
   "source": [
    "`count`"
   ]
  },
  {
   "cell_type": "markdown",
   "metadata": {},
   "source": [
    "`schema`"
   ]
  },
  {
   "cell_type": "markdown",
   "metadata": {},
   "source": [
    "`rows`"
   ]
  },
  {
   "cell_type": "markdown",
   "metadata": {},
   "source": [
    "`rows_where(where, where_args, order_by, select)`"
   ]
  },
  {
   "cell_type": "markdown",
   "metadata": {},
   "source": [
    "`drop()`"
   ]
  },
  {
   "cell_type": "markdown",
   "metadata": {},
   "source": [
    "## Listing rows"
   ]
  },
  {
   "cell_type": "markdown",
   "metadata": {},
   "source": [
    "To iterate through dictionaries for each of the rows in a table, use `.rows`:"
   ]
  },
  {
   "cell_type": "code",
   "execution_count": null,
   "metadata": {},
   "outputs": [],
   "source": [
    "#|hide\n",
    "def recreate_dogs_db():\n",
    "    db = Database(\"dogs.db\", recreate=True)\n",
    "    db[\"dogs\"].insert_all([\n",
    "        {'id': 1, 'age': 4, 'name': 'Cleo'},\n",
    "        {'id': 2, 'age': 2, 'name': 'Pancakes'}]\n",
    "    )\n",
    "    db[\"compound_dogs\"].insert(\n",
    "        {\"species\": \"mixed\", \"id\": 3, \"name\": \"Axel\"},\n",
    "        pk=(\"species\", \"id\"),\n",
    "    )\n",
    "\n",
    "recreate_dogs_db()"
   ]
  },
  {
   "cell_type": "code",
   "execution_count": null,
   "metadata": {},
   "outputs": [
    {
     "name": "stdout",
     "output_type": "stream",
     "text": [
      "{'id': 1, 'age': 4, 'name': 'Cleo'}\n",
      "{'id': 2, 'age': 2, 'name': 'Pancakes'}\n"
     ]
    }
   ],
   "source": [
    "db = Database(\"dogs.db\")\n",
    "for row in db[\"dogs\"].rows:\n",
    "    print(row)"
   ]
  },
  {
   "cell_type": "markdown",
   "metadata": {},
   "source": [
    "You can filter rows by a WHERE clause using `.rows_where(where, where_args)`:"
   ]
  },
  {
   "cell_type": "code",
   "execution_count": null,
   "metadata": {},
   "outputs": [
    {
     "name": "stdout",
     "output_type": "stream",
     "text": [
      "{'id': 1, 'age': 4, 'name': 'Cleo'}\n"
     ]
    }
   ],
   "source": [
    "for row in db[\"dogs\"].rows_where(\"age > ?\", [3]):\n",
    "    print(row)"
   ]
  },
  {
   "cell_type": "markdown",
   "metadata": {},
   "source": [
    "The first argument is a fragment of SQL. The second, optional argument is values to be passed to that fragment - you can use `?` placeholders and pass an array, or you can use `:named` parameters and pass a dictionary, like this:"
   ]
  },
  {
   "cell_type": "code",
   "execution_count": null,
   "metadata": {},
   "outputs": [
    {
     "name": "stdout",
     "output_type": "stream",
     "text": [
      "{'id': 1, 'age': 4, 'name': 'Cleo'}\n"
     ]
    }
   ],
   "source": [
    "for row in db[\"dogs\"].rows_where(\"age > :age\", {\"age\": 3}):\n",
    "    print(row)"
   ]
  },
  {
   "cell_type": "markdown",
   "metadata": {},
   "source": [
    "To return custom columns (instead of the default that uses `select *`) pass `select=\"column1, column2\"`:"
   ]
  },
  {
   "cell_type": "code",
   "execution_count": null,
   "metadata": {},
   "outputs": [
    {
     "name": "stdout",
     "output_type": "stream",
     "text": [
      "{'name': 'Cleo', 'age': 4}\n",
      "{'name': 'Pancakes', 'age': 2}\n"
     ]
    }
   ],
   "source": [
    "for row in db[\"dogs\"].rows_where(select='name, age'):\n",
    "    print(row)"
   ]
  },
  {
   "cell_type": "markdown",
   "metadata": {},
   "source": [
    "To specify an order, use the `order_by=` argument:"
   ]
  },
  {
   "cell_type": "code",
   "execution_count": null,
   "metadata": {},
   "outputs": [
    {
     "name": "stdout",
     "output_type": "stream",
     "text": [
      "{'id': 2, 'age': 2, 'name': 'Pancakes'}\n",
      "{'id': 1, 'age': 4, 'name': 'Cleo'}\n"
     ]
    }
   ],
   "source": [
    "for row in db[\"dogs\"].rows_where(\"age > 1\", order_by=\"age\"):\n",
    "    print(row)"
   ]
  },
  {
   "cell_type": "markdown",
   "metadata": {},
   "source": [
    "You can use `order_by=\"age desc\"` for descending order."
   ]
  },
  {
   "cell_type": "markdown",
   "metadata": {},
   "source": [
    "You can order all records in the table by excluding the `where` argument:"
   ]
  },
  {
   "cell_type": "code",
   "execution_count": null,
   "metadata": {},
   "outputs": [
    {
     "name": "stdout",
     "output_type": "stream",
     "text": [
      "{'id': 1, 'age': 4, 'name': 'Cleo'}\n",
      "{'id': 2, 'age': 2, 'name': 'Pancakes'}\n"
     ]
    }
   ],
   "source": [
    "for row in db[\"dogs\"].rows_where(order_by=\"age desc\"):\n",
    "    print(row)"
   ]
  },
  {
   "cell_type": "markdown",
   "metadata": {},
   "source": [
    "This method also accepts `offset=` and `limit=` arguments, for specifying an OFFSET and a LIMIT for the SQL query:"
   ]
  },
  {
   "cell_type": "code",
   "execution_count": null,
   "metadata": {},
   "outputs": [
    {
     "name": "stdout",
     "output_type": "stream",
     "text": [
      "{'id': 1, 'age': 4, 'name': 'Cleo'}\n"
     ]
    }
   ],
   "source": [
    "for row in db[\"dogs\"].rows_where(order_by=\"age desc\", limit=1):\n",
    "    print(row)"
   ]
  },
  {
   "cell_type": "markdown",
   "metadata": {},
   "source": [
    "### Counting rows"
   ]
  },
  {
   "cell_type": "markdown",
   "metadata": {},
   "source": [
    "To count the number of rows that would be returned by a where filter, use `.count_where(where, where_args)`:"
   ]
  },
  {
   "cell_type": "code",
   "execution_count": null,
   "metadata": {},
   "outputs": [
    {
     "data": {
      "text/plain": [
       "2"
      ]
     },
     "execution_count": null,
     "metadata": {},
     "output_type": "execute_result"
    }
   ],
   "source": [
    "db[\"dogs\"].count_where(\"age > 1\")"
   ]
  },
  {
   "cell_type": "markdown",
   "metadata": {},
   "source": [
    "## Listing rows with their primary keys"
   ]
  },
  {
   "cell_type": "markdown",
   "metadata": {},
   "source": [
    "Sometimes it can be useful to retrieve the primary key along with each row, in order to pass that key (or primary key tuple) to the `.get()` or `.update()` methods."
   ]
  },
  {
   "cell_type": "markdown",
   "metadata": {},
   "source": [
    "The `.pks_and_rows_where()` method takes the same signature as `.rows_where()` (with the exception of the `select=` parameter) but returns a generator that yields pairs of `(primary key, row dictionary)`."
   ]
  },
  {
   "cell_type": "markdown",
   "metadata": {},
   "source": [
    "The primary key value will usually be a single value but can also be a tuple if the table has a compound primary key."
   ]
  },
  {
   "cell_type": "markdown",
   "metadata": {},
   "source": [
    "If the table is a `rowid` table (with no explicit primary key column) then that ID will be returned."
   ]
  },
  {
   "cell_type": "code",
   "execution_count": null,
   "metadata": {},
   "outputs": [
    {
     "name": "stdout",
     "output_type": "stream",
     "text": [
      "1 {'rowid': 1, 'name': 'Cleo'}\n"
     ]
    }
   ],
   "source": [
    "db = Database(memory=True)\n",
    "db[\"dogs\"].insert({\"name\": \"Cleo\"})\n",
    "for pk, row in db[\"dogs\"].pks_and_rows_where():\n",
    "    print(pk, row)"
   ]
  },
  {
   "cell_type": "code",
   "execution_count": null,
   "metadata": {},
   "outputs": [
    {
     "name": "stdout",
     "output_type": "stream",
     "text": [
      "5 {'id': 5, 'name': 'Cleo'}\n"
     ]
    }
   ],
   "source": [
    "db[\"dogs_with_pk\"].insert({\"id\": 5, \"name\": \"Cleo\"}, pk=\"id\")\n",
    "for pk, row in db[\"dogs_with_pk\"].pks_and_rows_where():\n",
    "    print(pk, row)"
   ]
  },
  {
   "cell_type": "code",
   "execution_count": null,
   "metadata": {},
   "outputs": [
    {
     "name": "stdout",
     "output_type": "stream",
     "text": [
      "('dog', 3) {'species': 'dog', 'id': 3, 'name': 'Cleo'}\n"
     ]
    }
   ],
   "source": [
    "db[\"dogs_with_compound_pk\"].insert(\n",
    "    {\"species\": \"dog\", \"id\": 3, \"name\": \"Cleo\"},\n",
    "    pk=(\"species\", \"id\")\n",
    ")\n",
    "for pk, row in db[\"dogs_with_compound_pk\"].pks_and_rows_where():\n",
    "    print(pk, row)"
   ]
  },
  {
   "cell_type": "markdown",
   "metadata": {},
   "source": [
    "## Retrieving a specific record"
   ]
  },
  {
   "cell_type": "markdown",
   "metadata": {},
   "source": [
    "You can retrieve a record by its primary key using `table.get()`:"
   ]
  },
  {
   "cell_type": "code",
   "execution_count": null,
   "metadata": {},
   "outputs": [],
   "source": [
    "#|hide\n",
    "recreate_dogs_db()"
   ]
  },
  {
   "cell_type": "code",
   "execution_count": null,
   "metadata": {},
   "outputs": [
    {
     "data": {
      "text/plain": [
       "{'id': 1, 'age': 4, 'name': 'Cleo'}"
      ]
     },
     "execution_count": null,
     "metadata": {},
     "output_type": "execute_result"
    }
   ],
   "source": [
    "db = Database(\"dogs.db\")\n",
    "db[\"dogs\"].get(1)"
   ]
  },
  {
   "cell_type": "markdown",
   "metadata": {},
   "source": [
    "If the table has a compound primary key you can pass in the primary key values as a tuple:"
   ]
  },
  {
   "cell_type": "code",
   "execution_count": null,
   "metadata": {},
   "outputs": [
    {
     "data": {
      "text/plain": [
       "{'species': 'mixed', 'id': 3, 'name': 'Axel'}"
      ]
     },
     "execution_count": null,
     "metadata": {},
     "output_type": "execute_result"
    }
   ],
   "source": [
    "db[\"compound_dogs\"].get((\"mixed\", 3))"
   ]
  },
  {
   "cell_type": "markdown",
   "metadata": {},
   "source": [
    "If the record does not exist a `NotFoundError` will be raised:"
   ]
  },
  {
   "cell_type": "code",
   "execution_count": null,
   "metadata": {},
   "outputs": [],
   "source": [
    "from sqlite_utils.db import NotFoundError"
   ]
  },
  {
   "cell_type": "code",
   "execution_count": null,
   "metadata": {},
   "outputs": [
    {
     "name": "stdout",
     "output_type": "stream",
     "text": [
      "Dog not found\n"
     ]
    }
   ],
   "source": [
    "try:\n",
    "    row = db[\"dogs\"].get(5)\n",
    "except NotFoundError:\n",
    "    print(\"Dog not found\")"
   ]
  },
  {
   "cell_type": "markdown",
   "metadata": {},
   "source": [
    "## Showing the schema"
   ]
  },
  {
   "cell_type": "markdown",
   "metadata": {},
   "source": [
    "The `db.schema` property returns the full SQL schema for the database as a string:"
   ]
  },
  {
   "cell_type": "code",
   "execution_count": null,
   "metadata": {},
   "outputs": [
    {
     "name": "stdout",
     "output_type": "stream",
     "text": [
      "CREATE TABLE [dogs] (\n",
      "   [id] INTEGER,\n",
      "   [age] INTEGER,\n",
      "   [name] TEXT\n",
      ");\n",
      "CREATE TABLE [compound_dogs] (\n",
      "   [species] TEXT,\n",
      "   [id] INTEGER,\n",
      "   [name] TEXT,\n",
      "   PRIMARY KEY ([species], [id])\n",
      ");\n"
     ]
    }
   ],
   "source": [
    "db = Database(\"dogs.db\")\n",
    "print(db.schema)"
   ]
  },
  {
   "cell_type": "markdown",
   "metadata": {},
   "source": [
    "## Creating tables"
   ]
  },
  {
   "cell_type": "markdown",
   "metadata": {},
   "source": [
    "The easiest way to create a new table is to insert a record into it:"
   ]
  },
  {
   "cell_type": "code",
   "execution_count": null,
   "metadata": {},
   "outputs": [],
   "source": [
    "db = Database(memory=True)\n",
    "dogs = db[\"dogs\"]\n",
    "dogs.insert({\n",
    "    \"name\": \"Cleo\",\n",
    "    \"twitter\": \"cleopaws\",\n",
    "    \"age\": 3,\n",
    "    \"is_good_dog\": True,\n",
    "});"
   ]
  },
  {
   "cell_type": "markdown",
   "metadata": {},
   "source": [
    "This will automatically create a new table called \"dogs\" with the following schema:"
   ]
  },
  {
   "cell_type": "code",
   "execution_count": null,
   "metadata": {},
   "outputs": [
    {
     "name": "stdout",
     "output_type": "stream",
     "text": [
      "CREATE TABLE [dogs] (\n",
      "   [name] TEXT,\n",
      "   [twitter] TEXT,\n",
      "   [age] INTEGER,\n",
      "   [is_good_dog] INTEGER\n",
      ")\n"
     ]
    }
   ],
   "source": [
    "print(dogs.schema)"
   ]
  },
  {
   "cell_type": "markdown",
   "metadata": {},
   "source": [
    "You can also specify a primary key by passing the `pk=` parameter to the `.insert()` call. This will only be obeyed if the record being inserted causes the table to be created:"
   ]
  },
  {
   "cell_type": "code",
   "execution_count": null,
   "metadata": {},
   "outputs": [],
   "source": [
    "db = Database(memory=True)\n",
    "dogs = db[\"dogs\"]\n",
    "db[\"dogs\"].insert({\n",
    "    \"id\": 1,\n",
    "    \"name\": \"Cleo\",\n",
    "    \"twitter\": \"cleopaws\",\n",
    "    \"age\": 3,\n",
    "    \"is_good_dog\": True,\n",
    "}, pk=\"id\");"
   ]
  },
  {
   "cell_type": "markdown",
   "metadata": {},
   "source": [
    "After inserting a row like this, the `dogs.last_rowid` property will return the SQLite `rowid` assigned to the most recently inserted record."
   ]
  },
  {
   "cell_type": "code",
   "execution_count": null,
   "metadata": {},
   "outputs": [],
   "source": [
    "dogs.last_rowid"
   ]
  },
  {
   "cell_type": "markdown",
   "metadata": {},
   "source": [
    "The `dogs.last_pk` property will return the last inserted primary key value, if you specified one. This can be very useful when writing code that creates foreign keys or many-to-many relationships."
   ]
  },
  {
   "cell_type": "code",
   "execution_count": null,
   "metadata": {},
   "outputs": [],
   "source": [
    "dogs.last_pk"
   ]
  },
  {
   "cell_type": "markdown",
   "metadata": {},
   "source": [
    "### Custom column order and column types"
   ]
  },
  {
   "cell_type": "markdown",
   "metadata": {},
   "source": [
    "The order of the columns in the table will be derived from the order of the keys in the dictionary, provided you are using Python 3.6 or later."
   ]
  },
  {
   "cell_type": "markdown",
   "metadata": {},
   "source": [
    "If you want to explicitly set the order of the columns you can do so using the `column_order=` parameter:"
   ]
  },
  {
   "cell_type": "code",
   "execution_count": null,
   "metadata": {},
   "outputs": [],
   "source": [
    "db = Database(memory=True)\n",
    "db[\"dogs\"].insert({\n",
    "    \"id\": 1,\n",
    "    \"name\": \"Cleo\",\n",
    "    \"twitter\": \"cleopaws\",\n",
    "    \"age\": 3,\n",
    "    \"is_good_dog\": True,\n",
    "}, pk=\"id\", column_order=(\"id\", \"twitter\", \"name\"));"
   ]
  },
  {
   "cell_type": "markdown",
   "metadata": {},
   "source": [
    "You don't need to pass all of the columns to the `column_order` parameter. If you only pass a subset of the columns the remaining columns will be ordered based on the key order of the dictionary."
   ]
  },
  {
   "cell_type": "markdown",
   "metadata": {},
   "source": [
    "Column types are detected based on the example data provided. Sometimes you may find you need to over-ride these detected types - to create an integer column for data that was provided as a string for example, or to ensure that a table where the first example was `None` is created as an `INTEGER` rather than a `TEXT` column. You can do this using the `columns=` parameter:"
   ]
  },
  {
   "cell_type": "code",
   "execution_count": null,
   "metadata": {},
   "outputs": [],
   "source": [
    "db = Database(memory=True)\n",
    "db[\"dogs\"].insert({\n",
    "    \"id\": 1,\n",
    "    \"name\": \"Cleo\",\n",
    "    \"age\": \"5\",\n",
    "}, pk=\"id\", columns={\"age\": int, \"weight\": float});"
   ]
  },
  {
   "cell_type": "markdown",
   "metadata": {},
   "source": [
    "This will create a table with the following schema:"
   ]
  },
  {
   "cell_type": "code",
   "execution_count": null,
   "metadata": {},
   "outputs": [
    {
     "name": "stdout",
     "output_type": "stream",
     "text": [
      "CREATE TABLE [dogs] (\n",
      "   [id] INTEGER PRIMARY KEY,\n",
      "   [name] TEXT,\n",
      "   [age] INTEGER,\n",
      "   [weight] FLOAT\n",
      ")\n"
     ]
    }
   ],
   "source": [
    "print(db[\"dogs\"].schema)"
   ]
  },
  {
   "cell_type": "markdown",
   "metadata": {},
   "source": [
    "### Explicitly creating a table"
   ]
  },
  {
   "cell_type": "markdown",
   "metadata": {},
   "source": [
    "You can directly create a new table without inserting any data into it using the `.create()` method:"
   ]
  },
  {
   "cell_type": "code",
   "execution_count": null,
   "metadata": {},
   "outputs": [],
   "source": [
    "db = Database(memory=True)\n",
    "db[\"cats\"].create({\n",
    "    \"id\": int,\n",
    "    \"name\": str,\n",
    "    \"weight\": float,\n",
    "}, pk=\"id\");"
   ]
  },
  {
   "cell_type": "markdown",
   "metadata": {},
   "source": [
    "The first argument here is a dictionary specifying the columns you would like to create. Each column is paired with a Python type indicating the type of column. See `python_api_add_column` for full details on how these types work."
   ]
  },
  {
   "cell_type": "markdown",
   "metadata": {},
   "source": [
    "This method takes optional arguments `pk=`, `column_order=`, `foreign_keys=`, `not_null=set()` and `defaults=dict()` - explained below."
   ]
  },
  {
   "cell_type": "markdown",
   "metadata": {},
   "source": [
    "A `sqlite_utils.utils.sqlite3.OperationalError` will be raised if a table of that name already exists."
   ]
  },
  {
   "cell_type": "markdown",
   "metadata": {},
   "source": [
    "To do nothing if the table already exists, add `if_not_exists=True`:"
   ]
  },
  {
   "cell_type": "code",
   "execution_count": null,
   "metadata": {},
   "outputs": [],
   "source": [
    "db[\"cats\"].create({\n",
    "    \"id\": int,\n",
    "    \"name\": str,\n",
    "    \"weight\": float,\n",
    "}, pk=\"id\", if_not_exists=True);"
   ]
  },
  {
   "cell_type": "markdown",
   "metadata": {},
   "source": [
    "### Compound primary keys"
   ]
  },
  {
   "cell_type": "markdown",
   "metadata": {},
   "source": [
    "If you want to create a table with a compound primary key that spans multiple columns, you can do so by passing a tuple of column names to any of the methods that accept a `pk=` parameter. For example:"
   ]
  },
  {
   "cell_type": "code",
   "execution_count": null,
   "metadata": {},
   "outputs": [],
   "source": [
    "db = Database(memory=True)\n",
    "db[\"cats\"].create({\n",
    "    \"id\": int,\n",
    "    \"breed\": str,\n",
    "    \"name\": str,\n",
    "    \"weight\": float,\n",
    "}, pk=(\"breed\", \"id\"));"
   ]
  },
  {
   "cell_type": "markdown",
   "metadata": {},
   "source": [
    "This also works for the `.insert()`, `.insert_all()`, `.upsert()` and `.upsert_all()` methods."
   ]
  },
  {
   "cell_type": "markdown",
   "metadata": {},
   "source": [
    "### Specifying foreign keys"
   ]
  },
  {
   "cell_type": "markdown",
   "metadata": {},
   "source": [
    "Any operation that can create a table (`.create()`, `.insert()`, `.insert_all()`, `.upsert()` and `.upsert_all()`) accepts an optional `foreign_keys=` argument which can be used to set up foreign key constraints for the table that is being created."
   ]
  },
  {
   "cell_type": "markdown",
   "metadata": {},
   "source": [
    "If you are using your database with `Datasette`, Datasette will detect these constraints and use them to generate hyperlinks to associated records."
   ]
  },
  {
   "cell_type": "markdown",
   "metadata": {},
   "source": [
    "The `foreign_keys` argument takes a list that indicates which foreign keys should be created. The list can take several forms. The simplest is a list of columns:"
   ]
  },
  {
   "cell_type": "markdown",
   "metadata": {},
   "source": [
    "```python\n",
    "foreign_keys=[\"author_id\"]\n",
    "```"
   ]
  },
  {
   "cell_type": "markdown",
   "metadata": {},
   "source": [
    "The library will guess which tables you wish to reference based on the column names using the rules described in `python_api_add_foreign_key`."
   ]
  },
  {
   "cell_type": "markdown",
   "metadata": {},
   "source": [
    "You can also be more explicit, by passing in a list of tuples:"
   ]
  },
  {
   "cell_type": "markdown",
   "metadata": {},
   "source": [
    "```python\n",
    "foreign_keys=[\n",
    "    (\"author_id\", \"authors\", \"id\")\n",
    "]\n",
    "```"
   ]
  },
  {
   "cell_type": "markdown",
   "metadata": {},
   "source": [
    "This means that the `author_id` column should be a foreign key that references the `id` column in the `authors` table."
   ]
  },
  {
   "cell_type": "markdown",
   "metadata": {},
   "source": [
    "You can leave off the third item in the tuple to have the referenced column automatically set to the primary key of that table. A full example:"
   ]
  },
  {
   "cell_type": "code",
   "execution_count": null,
   "metadata": {},
   "outputs": [],
   "source": [
    "db = Database(memory=True)\n",
    "db[\"authors\"].insert_all([\n",
    "    {\"id\": 1, \"name\": \"Sally\"},\n",
    "    {\"id\": 2, \"name\": \"Asheesh\"}\n",
    "], pk=\"id\")\n",
    "db[\"books\"].insert_all([\n",
    "    {\"title\": \"Hedgehogs of the world\", \"author_id\": 1},\n",
    "    {\"title\": \"How to train your wolf\", \"author_id\": 2},\n",
    "], foreign_keys=[\n",
    "    (\"author_id\", \"authors\")\n",
    "]);"
   ]
  },
  {
   "cell_type": "markdown",
   "metadata": {},
   "source": [
    "## Table configuration options"
   ]
  },
  {
   "cell_type": "markdown",
   "metadata": {},
   "source": [
    "The `.insert()`, `.upsert()`, `.insert_all()` and `.upsert_all()` methods each take a number of keyword arguments, some of which influence what happens should they cause a table to be created and some of which affect the behavior of those methods."
   ]
  },
  {
   "cell_type": "markdown",
   "metadata": {},
   "source": [
    "You can set default values for these methods by accessing the table through the `db.table(...)` method (instead of using `db[\"table_name\"]`), like so:"
   ]
  },
  {
   "cell_type": "code",
   "execution_count": null,
   "metadata": {},
   "outputs": [],
   "source": [
    "db = Database(memory=True)\n",
    "authors = db.table(\n",
    "    \"authors\",\n",
    "    pk=\"id\",\n",
    "    not_null={\"name\", \"score\"},\n",
    "    column_order=(\"id\", \"name\", \"score\", \"url\")\n",
    ")"
   ]
  },
  {
   "cell_type": "markdown",
   "metadata": {},
   "source": [
    "Now you can call .insert() like so:    "
   ]
  },
  {
   "cell_type": "code",
   "execution_count": null,
   "metadata": {},
   "outputs": [],
   "source": [
    "authors.insert({\"id\": 1, \"name\": \"Tracy\", \"score\": 5});"
   ]
  },
  {
   "cell_type": "markdown",
   "metadata": {},
   "source": [
    "The configuration options that can be specified in this way are `pk`, `foreign_keys`, `column_order`, `not_null`, `defaults`, `batch_size`, `hash_id`, `hash_id_columns`, `alter`, `ignore`, `replace`, `extracts`, `conversions`, `columns`. These are all documented below."
   ]
  },
  {
   "cell_type": "markdown",
   "metadata": {},
   "source": [
    "## Setting defaults and not null constraints"
   ]
  },
  {
   "cell_type": "markdown",
   "metadata": {},
   "source": [
    "Each of the methods that can cause a table to be created take optional arguments `not_null=set()` and `defaults=dict()`. The methods that take these optional arguments are:"
   ]
  },
  {
   "cell_type": "markdown",
   "metadata": {},
   "source": [
    "`db.create_table(...)`"
   ]
  },
  {
   "cell_type": "markdown",
   "metadata": {},
   "source": [
    "`table.create(...)`"
   ]
  },
  {
   "cell_type": "markdown",
   "metadata": {},
   "source": [
    "`table.insert(...)`"
   ]
  },
  {
   "cell_type": "markdown",
   "metadata": {},
   "source": [
    "`table.insert_all(...)`"
   ]
  },
  {
   "cell_type": "markdown",
   "metadata": {},
   "source": [
    "`table.upsert(...)`"
   ]
  },
  {
   "cell_type": "markdown",
   "metadata": {},
   "source": [
    "`table.upsert_all(...)`"
   ]
  },
  {
   "cell_type": "markdown",
   "metadata": {},
   "source": [
    "You can use `not_null=` to pass a set of column names that should have a `NOT NULL` constraint set on them when they are created."
   ]
  },
  {
   "cell_type": "markdown",
   "metadata": {},
   "source": [
    "You can use `defaults=` to pass a dictionary mapping columns to the default value that should be specified in the `CREATE TABLE` statement."
   ]
  },
  {
   "cell_type": "markdown",
   "metadata": {},
   "source": [
    "Here's an example that uses these features:"
   ]
  },
  {
   "cell_type": "code",
   "execution_count": null,
   "metadata": {},
   "outputs": [
    {
     "data": {
      "text/plain": [
       "[{'id': 1, 'name': 'Sally', 'score': 2},\n",
       " {'id': 2, 'name': 'Dharma', 'score': 1}]"
      ]
     },
     "execution_count": null,
     "metadata": {},
     "output_type": "execute_result"
    }
   ],
   "source": [
    "db = Database(memory=True)\n",
    "db[\"authors\"].insert_all(\n",
    "    [{\"id\": 1, \"name\": \"Sally\", \"score\": 2}],\n",
    "    pk=\"id\",\n",
    "    not_null={\"name\", \"score\"},\n",
    "    defaults={\"score\": 1},\n",
    ")\n",
    "db[\"authors\"].insert({\"name\": \"Dharma\"})\n",
    "list(db[\"authors\"].rows)"
   ]
  },
  {
   "cell_type": "code",
   "execution_count": null,
   "metadata": {},
   "outputs": [
    {
     "name": "stdout",
     "output_type": "stream",
     "text": [
      "CREATE TABLE [authors] (\n",
      "   [id] INTEGER PRIMARY KEY,\n",
      "   [name] TEXT NOT NULL,\n",
      "   [score] INTEGER NOT NULL DEFAULT 1\n",
      ")\n"
     ]
    }
   ],
   "source": [
    "print(db[\"authors\"].schema)"
   ]
  },
  {
   "cell_type": "markdown",
   "metadata": {},
   "source": [
    "## Duplicating tables"
   ]
  },
  {
   "cell_type": "markdown",
   "metadata": {},
   "source": [
    "The `table.duplicate()` method creates a copy of the table, copying both the table schema and all of the rows in that table:"
   ]
  },
  {
   "cell_type": "code",
   "execution_count": null,
   "metadata": {},
   "outputs": [],
   "source": [
    "authors_copy = db[\"authors\"].duplicate(\"authors_copy\")"
   ]
  },
  {
   "cell_type": "markdown",
   "metadata": {},
   "source": [
    "The new `authors_copy` table will now contain a duplicate copy of the data from `authors`."
   ]
  },
  {
   "cell_type": "markdown",
   "metadata": {},
   "source": [
    "This method raises `sqlite_utils.db.NoTable` if the table does not exist."
   ]
  },
  {
   "cell_type": "markdown",
   "metadata": {},
   "source": [
    "## Bulk inserts"
   ]
  },
  {
   "cell_type": "markdown",
   "metadata": {},
   "source": [
    "If you have more than one record to insert, the `insert_all()` method is a much more efficient way of inserting them. Just like `insert()` it will automatically detect the columns that should be created, but it will inspect the first batch of 100 items to help decide what those column types should be."
   ]
  },
  {
   "cell_type": "markdown",
   "metadata": {},
   "source": [
    "Use it like this:"
   ]
  },
  {
   "cell_type": "code",
   "execution_count": null,
   "metadata": {},
   "outputs": [],
   "source": [
    "db = Database(memory=True)\n",
    "db[\"dogs\"].insert_all([{\n",
    "    \"id\": 1,\n",
    "    \"name\": \"Cleo\",\n",
    "    \"twitter\": \"cleopaws\",\n",
    "    \"age\": 3,\n",
    "    \"is_good_dog\": True,\n",
    "}, {\n",
    "    \"id\": 2,\n",
    "    \"name\": \"Marnie\",\n",
    "    \"twitter\": \"MarnieTheDog\",\n",
    "    \"age\": 16,\n",
    "    \"is_good_dog\": True,\n",
    "}], pk=\"id\", column_order=(\"id\", \"twitter\", \"name\"));"
   ]
  },
  {
   "cell_type": "markdown",
   "metadata": {},
   "source": [
    "The column types used in the `CREATE TABLE` statement are automatically derived from the types of data in that first batch of rows. Any additional columns in subsequent batches will cause a `sqlite3.OperationalError` exception to be raised unless the `alter=True` argument is supplied, in which case the new columns will be created."
   ]
  },
  {
   "cell_type": "markdown",
   "metadata": {},
   "source": [
    "The function can accept an iterator or generator of rows and will commit them according to the batch size. The default batch size is 100, but you can specify a different size using the `batch_size` parameter:"
   ]
  },
  {
   "cell_type": "code",
   "execution_count": null,
   "metadata": {},
   "outputs": [],
   "source": [
    "db[\"big_table\"].insert_all(({\n",
    "    \"id\": 1,\n",
    "    \"name\": \"Name {}\".format(i),\n",
    "} for i in range(10000)), batch_size=1000);"
   ]
  },
  {
   "cell_type": "markdown",
   "metadata": {},
   "source": [
    "You can skip inserting any records that have a primary key that already exists using `ignore=True`. This works with both `.insert({...}, ignore=True)` and `.insert_all([...], ignore=True)`."
   ]
  },
  {
   "cell_type": "markdown",
   "metadata": {},
   "source": [
    "You can delete all the existing rows in the table before inserting the new records using `truncate=True`. This is useful if you want to replace the data in the table."
   ]
  },
  {
   "cell_type": "markdown",
   "metadata": {},
   "source": [
    "Pass `analyze=True` to run `ANALYZE` against the table after inserting the new records."
   ]
  },
  {
   "cell_type": "markdown",
   "metadata": {},
   "source": [
    "## Insert-replacing data"
   ]
  },
  {
   "cell_type": "markdown",
   "metadata": {},
   "source": [
    "If you try to insert data using a primary key that already exists, the `.insert()` or `.insert_all()` method will raise a `sqlite3.IntegrityError` exception."
   ]
  },
  {
   "cell_type": "markdown",
   "metadata": {},
   "source": [
    "This example that catches that exception:"
   ]
  },
  {
   "cell_type": "code",
   "execution_count": null,
   "metadata": {},
   "outputs": [
    {
     "name": "stdout",
     "output_type": "stream",
     "text": [
      "Record already exists with that primary key\n"
     ]
    }
   ],
   "source": [
    "db = Database(memory=True)\n",
    "db[\"dogs\"].insert({\"id\": 1, \"name\": \"Cleo\"}, pk=\"id\")\n",
    "try:\n",
    "    db[\"dogs\"].insert({\"id\": 1, \"name\": \"Cleo\"}, pk=\"id\")\n",
    "except sqlite3.IntegrityError:\n",
    "    print(\"Record already exists with that primary key\")"
   ]
  },
  {
   "cell_type": "markdown",
   "metadata": {},
   "source": [
    "Importing from `sqlite_utils.utils.sqlite3` ensures your code continues to work even if you are using the `pysqlite3` library instead of the Python standard library `sqlite3` module."
   ]
  },
  {
   "cell_type": "markdown",
   "metadata": {},
   "source": [
    "Use the `ignore=True` parameter to ignore this error:"
   ]
  },
  {
   "cell_type": "code",
   "execution_count": null,
   "metadata": {},
   "outputs": [],
   "source": [
    "# This fails silently if a record with id=1 already exists\n",
    "db[\"dogs\"].insert({\"id\": 1, \"name\": \"Cleo\"}, pk=\"id\", ignore=True);"
   ]
  },
  {
   "cell_type": "markdown",
   "metadata": {},
   "source": [
    "To replace any existing records that have a matching primary key, use the `replace=True` parameter to `.insert()` or `.insert_all()`:"
   ]
  },
  {
   "cell_type": "code",
   "execution_count": null,
   "metadata": {},
   "outputs": [],
   "source": [
    "db[\"dogs\"].insert_all([{\n",
    "    \"id\": 1,\n",
    "    \"name\": \"Cleo\",\n",
    "}, {\n",
    "    \"id\": 2,\n",
    "    \"name\": \"Marnie\",\n",
    "}], pk=\"id\", replace=True);"
   ]
  },
  {
   "cell_type": "markdown",
   "metadata": {},
   "source": [
    "Prior to sqlite-utils 2.0 the `.upsert()` and `.upsert_all()` methods worked the same way as `.insert(replace=True)` does today. See `python_api_upsert` for the new behaviour of those methods introduced in 2.0."
   ]
  },
  {
   "cell_type": "markdown",
   "metadata": {},
   "source": [
    "## Updating a specific record"
   ]
  },
  {
   "cell_type": "markdown",
   "metadata": {},
   "source": [
    "You can update a record by its primary key using `table.update()`:"
   ]
  },
  {
   "cell_type": "code",
   "execution_count": null,
   "metadata": {},
   "outputs": [],
   "source": [
    "#|hide\n",
    "recreate_dogs_db()"
   ]
  },
  {
   "cell_type": "code",
   "execution_count": null,
   "metadata": {},
   "outputs": [
    {
     "name": "stdout",
     "output_type": "stream",
     "text": [
      "{'id': 1, 'age': 4, 'name': 'Cleo'}\n"
     ]
    }
   ],
   "source": [
    "db = Database(\"dogs.db\")\n",
    "print(db[\"dogs\"].get(1))"
   ]
  },
  {
   "cell_type": "code",
   "execution_count": null,
   "metadata": {},
   "outputs": [
    {
     "name": "stdout",
     "output_type": "stream",
     "text": [
      "{'id': 1, 'age': 5, 'name': 'Cleo'}\n"
     ]
    }
   ],
   "source": [
    "db[\"dogs\"].update(1, {\"age\": 5})\n",
    "print(db[\"dogs\"].get(1))"
   ]
  },
  {
   "cell_type": "markdown",
   "metadata": {},
   "source": [
    "The first argument to `update()` is the primary key. This can be a single value, or a tuple if that table has a compound primary key:"
   ]
  },
  {
   "cell_type": "code",
   "execution_count": null,
   "metadata": {},
   "outputs": [],
   "source": [
    "db[\"compound_dogs\"].update(('mixed', 3), {\"name\": \"Updated\"});"
   ]
  },
  {
   "cell_type": "markdown",
   "metadata": {},
   "source": [
    "The second argument is a dictionary of columns that should be updated, along with their new values."
   ]
  },
  {
   "cell_type": "markdown",
   "metadata": {},
   "source": [
    "You can cause any missing columns to be added automatically using `alter=True`:"
   ]
  },
  {
   "cell_type": "code",
   "execution_count": null,
   "metadata": {},
   "outputs": [],
   "source": [
    "db[\"dogs\"].update(1, {\"breed\": \"Mutt\"}, alter=True);"
   ]
  },
  {
   "cell_type": "markdown",
   "metadata": {},
   "source": [
    "## Deleting a specific record"
   ]
  },
  {
   "cell_type": "markdown",
   "metadata": {},
   "source": [
    "You can delete a record using `table.delete()`:"
   ]
  },
  {
   "cell_type": "code",
   "execution_count": null,
   "metadata": {},
   "outputs": [],
   "source": [
    "#|hide\n",
    "recreate_dogs_db()"
   ]
  },
  {
   "cell_type": "code",
   "execution_count": null,
   "metadata": {},
   "outputs": [],
   "source": [
    "db = Database(\"dogs.db\")\n",
    "db[\"dogs\"].delete(1);"
   ]
  },
  {
   "cell_type": "markdown",
   "metadata": {},
   "source": [
    "The `delete()` method takes the primary key of the record. This can be a tuple of values if the row has a compound primary key:"
   ]
  },
  {
   "cell_type": "code",
   "execution_count": null,
   "metadata": {},
   "outputs": [],
   "source": [
    "db[\"compound_dogs\"].delete(('mixed', 3));"
   ]
  },
  {
   "cell_type": "markdown",
   "metadata": {},
   "source": [
    "## Deleting multiple records"
   ]
  },
  {
   "cell_type": "markdown",
   "metadata": {},
   "source": [
    "You can delete all records in a table that match a specific WHERE statement using `table.delete_where()`:"
   ]
  },
  {
   "cell_type": "code",
   "execution_count": null,
   "metadata": {},
   "outputs": [],
   "source": [
    "#|hide\n",
    "recreate_dogs_db()"
   ]
  },
  {
   "cell_type": "code",
   "execution_count": null,
   "metadata": {},
   "outputs": [],
   "source": [
    "db = Database(\"dogs.db\")\n",
    "# Delete every dog with age less than 3\n",
    "db[\"dogs\"].delete_where(\"age < ?\", [3]);"
   ]
  },
  {
   "cell_type": "markdown",
   "metadata": {},
   "source": [
    "Calling `table.delete_where()` with no other arguments will delete every row in the table."
   ]
  },
  {
   "cell_type": "markdown",
   "metadata": {},
   "source": [
    "Pass `analyze=True` to run `ANALYZE` against the table after deleting the rows."
   ]
  },
  {
   "cell_type": "markdown",
   "metadata": {},
   "source": [
    "## Upserting data"
   ]
  },
  {
   "cell_type": "markdown",
   "metadata": {},
   "source": [
    "Upserting allows you to insert records if they do not exist and update them if they DO exist, based on matching against their primary key."
   ]
  },
  {
   "cell_type": "markdown",
   "metadata": {},
   "source": [
    "For example, given the dogs database you could upsert the record for Cleo like so:"
   ]
  },
  {
   "cell_type": "code",
   "execution_count": null,
   "metadata": {},
   "outputs": [],
   "source": [
    "db = Database(memory=True)\n",
    "db[\"dogs\"].upsert({\n",
    "    \"id\": 1,\n",
    "    \"name\": \"Cleo\",\n",
    "    \"twitter\": \"cleopaws\",\n",
    "    \"age\": 4,\n",
    "    \"is_good_dog\": True,\n",
    "}, pk=\"id\", column_order=(\"id\", \"twitter\", \"name\"));"
   ]
  },
  {
   "cell_type": "markdown",
   "metadata": {},
   "source": [
    "If a record exists with id=1, it will be updated to match those fields. If it does not exist it will be created."
   ]
  },
  {
   "cell_type": "markdown",
   "metadata": {},
   "source": [
    "Any existing columns that are not referenced in the dictionary passed to `.upsert()` will be unchanged. If you want to replace a record entirely, use `.insert(doc, replace=True)` instead."
   ]
  },
  {
   "cell_type": "markdown",
   "metadata": {},
   "source": [
    "Note that the `pk` and `column_order` parameters here are optional if you are certain that the table has already been created. You should pass them if the table may not exist at the time the first upsert is performed."
   ]
  },
  {
   "cell_type": "markdown",
   "metadata": {},
   "source": [
    "An `upsert_all()` method is also available, which behaves like `insert_all()` but performs upserts instead."
   ]
  },
  {
   "cell_type": "markdown",
   "metadata": {},
   "source": [
    "`.upsert()` and `.upsert_all()` in sqlite-utils 1.x worked like `.insert(..., replace=True)` and `.insert_all(..., replace=True)` do in 2.x. See [issue #66](https://github.com/simonw/sqlite-utils/issues/66) for details of this change."
   ]
  },
  {
   "cell_type": "markdown",
   "metadata": {},
   "source": [
    "## Converting data in columns"
   ]
  },
  {
   "cell_type": "markdown",
   "metadata": {},
   "source": [
    "The `table.convert(...)` method can be used to apply a conversion function to the values in a column, either to update that column or to populate new columns. It is the Python library equivalent of the `sqlite-utils` command."
   ]
  },
  {
   "cell_type": "markdown",
   "metadata": {},
   "source": [
    "This feature works by registering a custom SQLite function that applies a Python transformation, then running a SQL query equivalent to `UPDATE table SET column = convert_value(column);`"
   ]
  },
  {
   "cell_type": "markdown",
   "metadata": {},
   "source": [
    "To transform a specific column to uppercase, you would use the following:"
   ]
  },
  {
   "cell_type": "code",
   "execution_count": null,
   "metadata": {},
   "outputs": [],
   "source": [
    "db[\"dogs\"].convert(\"name\", lambda value: value.upper());"
   ]
  },
  {
   "cell_type": "markdown",
   "metadata": {},
   "source": [
    "You can pass a list of columns, in which case the transformation will be applied to each one:"
   ]
  },
  {
   "cell_type": "code",
   "execution_count": null,
   "metadata": {},
   "outputs": [],
   "source": [
    "db[\"dogs\"].convert([\"name\", \"twitter\"], lambda value: value.upper());"
   ]
  },
  {
   "cell_type": "markdown",
   "metadata": {},
   "source": [
    "To save the output to of the transformation to a different column, use the `output=` parameter:"
   ]
  },
  {
   "cell_type": "code",
   "execution_count": null,
   "metadata": {},
   "outputs": [],
   "source": [
    "db[\"dogs\"].convert(\"name\", lambda value: value.upper(), output=\"name_upper\")"
   ]
  },
  {
   "cell_type": "markdown",
   "metadata": {},
   "source": [
    "This will add the new column, if it does not already exist. You can pass `output_type=int` or some other type to control the type of the new column - otherwise it will default to text."
   ]
  },
  {
   "cell_type": "markdown",
   "metadata": {},
   "source": [
    "If you want to drop the original column after saving the results in a separate output column, pass `drop=True`."
   ]
  },
  {
   "cell_type": "markdown",
   "metadata": {},
   "source": [
    "You can create multiple new columns from a single input column by passing `multi=True` and a conversion function that returns a Python dictionary. This example creates new `upper` and `lower` columns populated from the single `title` column:"
   ]
  },
  {
   "cell_type": "markdown",
   "metadata": {},
   "source": [
    "```python\n",
    "table.convert(\n",
    "    \"title\", lambda v: {\"upper\": v.upper(), \"lower\": v.lower()}, multi=True\n",
    ")\n",
    "```"
   ]
  },
  {
   "cell_type": "markdown",
   "metadata": {},
   "source": [
    "The `.convert()` method accepts optional `where=` and `where_args=` parameters which can be used to apply the conversion to a subset of rows specified by a where clause. Here's how to apply the conversion only to rows with an `id` that is higher than 20:"
   ]
  },
  {
   "cell_type": "markdown",
   "metadata": {},
   "source": [
    "```python\n",
    "table.convert(\"title\", lambda v: v.upper(), where=\"id > :id\", where_args={\"id\": 20})\n",
    "```"
   ]
  },
  {
   "cell_type": "markdown",
   "metadata": {},
   "source": [
    "These behave the same as the corresponding parameters to the `.rows_where()` method, so you can use `?` placeholders and a list of values instead of `:named` placeholders with a dictionary."
   ]
  },
  {
   "cell_type": "markdown",
   "metadata": {},
   "source": [
    "## Working with lookup tables"
   ]
  },
  {
   "cell_type": "markdown",
   "metadata": {},
   "source": [
    "A useful pattern when populating large tables in to break common values out into lookup tables. Consider a table of `Trees`, where each tree has a species. Ideally these species would be split out into a separate `Species` table, with each one assigned an integer primary key that can be referenced from the `Trees` table `species_id` column."
   ]
  },
  {
   "cell_type": "markdown",
   "metadata": {},
   "source": [
    "### Creating lookup tables explicitly"
   ]
  },
  {
   "cell_type": "markdown",
   "metadata": {},
   "source": [
    "Calling `db[\"Species\"].lookup({\"name\": \"Palm\"})` creates a table called `Species` (if one does not already exist) with two columns: `id` and `name`. It sets up a unique constraint on the `name` column to guarantee it will not contain duplicate rows. It then inserts a new row with the `name` set to `Palm` and returns the new integer primary key value."
   ]
  },
  {
   "cell_type": "markdown",
   "metadata": {},
   "source": [
    "If the `Species` table already exists, it will insert the new row and return the primary key. If a row with that `name` already exists, it will return the corresponding primary key value directly."
   ]
  },
  {
   "cell_type": "markdown",
   "metadata": {},
   "source": [
    "If you call `.lookup()` against an existing table without the unique constraint it will attempt to add the constraint, raising an `IntegrityError` if the constraint cannot be created."
   ]
  },
  {
   "cell_type": "markdown",
   "metadata": {},
   "source": [
    "If you pass in a dictionary with multiple values, both values will be used to insert or retrieve the corresponding ID and any unique constraint that is created will cover all of those columns, for example:"
   ]
  },
  {
   "cell_type": "code",
   "execution_count": null,
   "metadata": {},
   "outputs": [],
   "source": [
    "db = Database(memory=True)\n",
    "db[\"Trees\"].insert({\n",
    "    \"latitude\": 49.1265976,\n",
    "    \"longitude\": 2.5496218,\n",
    "    \"species\": db[\"Species\"].lookup({\n",
    "        \"common_name\": \"Common Juniper\",\n",
    "        \"latin_name\": \"Juniperus communis\"\n",
    "    })\n",
    "});"
   ]
  },
  {
   "cell_type": "markdown",
   "metadata": {},
   "source": [
    "The `.lookup()` method has an optional second argument which can be used to populate other columns in the table but only if the row does not exist yet. These columns will not be included in the unique index."
   ]
  },
  {
   "cell_type": "markdown",
   "metadata": {},
   "source": [
    "To create a species record with a note on when it was first seen, you can use this:"
   ]
  },
  {
   "cell_type": "code",
   "execution_count": null,
   "metadata": {},
   "outputs": [
    {
     "data": {
      "text/plain": [
       "2"
      ]
     },
     "execution_count": null,
     "metadata": {},
     "output_type": "execute_result"
    }
   ],
   "source": [
    "db[\"Species\"].lookup({\"name\": \"Palm\"}, {\"first_seen\": \"2021-03-04\"})"
   ]
  },
  {
   "cell_type": "markdown",
   "metadata": {},
   "source": [
    "The first time this is called the record will be created for `name=\"Palm\"`. Any subsequent calls with that name will ignore the second argument, even if it includes different values."
   ]
  },
  {
   "cell_type": "markdown",
   "metadata": {},
   "source": [
    "`.lookup()` also accepts keyword arguments, which are passed through to the `insert()` and can be used to influence the shape of the created table. Supported parameters are:"
   ]
  },
  {
   "cell_type": "markdown",
   "metadata": {},
   "source": [
    "`pk` - which defaults to `id`"
   ]
  },
  {
   "cell_type": "markdown",
   "metadata": {},
   "source": [
    "`foreign_keys`"
   ]
  },
  {
   "cell_type": "markdown",
   "metadata": {},
   "source": [
    "`column_order`"
   ]
  },
  {
   "cell_type": "markdown",
   "metadata": {},
   "source": [
    "`not_null`"
   ]
  },
  {
   "cell_type": "markdown",
   "metadata": {},
   "source": [
    "`defaults`"
   ]
  },
  {
   "cell_type": "markdown",
   "metadata": {},
   "source": [
    "`extracts`"
   ]
  },
  {
   "cell_type": "markdown",
   "metadata": {},
   "source": [
    "`conversions`"
   ]
  },
  {
   "cell_type": "markdown",
   "metadata": {},
   "source": [
    "`columns`"
   ]
  },
  {
   "cell_type": "markdown",
   "metadata": {},
   "source": [
    "### Populating lookup tables automatically during insert/upsert"
   ]
  },
  {
   "cell_type": "markdown",
   "metadata": {},
   "source": [
    "A more efficient way to work with lookup tables is to define them using the `extracts=` parameter, which is accepted by `.insert()`, `.upsert()`, `.insert_all()`, `.upsert_all()` and by the `.table(...)` factory function."
   ]
  },
  {
   "cell_type": "markdown",
   "metadata": {},
   "source": [
    "`extracts=` specifies columns which should be \"extracted\" out into a separate lookup table during the data insertion."
   ]
  },
  {
   "cell_type": "markdown",
   "metadata": {},
   "source": [
    "It can be either a list of column names, in which case the extracted table names will match the column names exactly, or it can be a dictionary mapping column names to the desired name of the extracted table."
   ]
  },
  {
   "cell_type": "markdown",
   "metadata": {},
   "source": [
    "To extract the `species` column out to a separate `Species` table, you can do this:"
   ]
  },
  {
   "cell_type": "code",
   "execution_count": null,
   "metadata": {},
   "outputs": [],
   "source": [
    "# Using the table factory\n",
    "trees = db.table(\"Trees\", extracts={\"species\": \"Species\"})\n",
    "trees.insert({\n",
    "    \"latitude\": 49.1265976,\n",
    "    \"longitude\": 2.5496218,\n",
    "    \"species\": \"Common Juniper\"\n",
    "})\n",
    "\n",
    "# If you want the table to be called 'species', you can do this:\n",
    "trees = db.table(\"Trees\", extracts=[\"species\"])\n",
    "\n",
    "# Using .insert() directly\n",
    "db[\"Trees\"].insert({\n",
    "    \"latitude\": 49.1265976,\n",
    "    \"longitude\": 2.5496218,\n",
    "    \"species\": \"Common Juniper\"\n",
    "}, extracts={\"species\": \"Species\"});"
   ]
  },
  {
   "cell_type": "markdown",
   "metadata": {},
   "source": [
    "## Working with many-to-many relationships"
   ]
  },
  {
   "cell_type": "markdown",
   "metadata": {},
   "source": [
    "`sqlite-utils` includes a shortcut for creating records using many-to-many relationships in the form of the `table.m2m(...)` method."
   ]
  },
  {
   "cell_type": "markdown",
   "metadata": {},
   "source": [
    "Here's how to create two new records and connect them via a many-to-many table in a single line of code:"
   ]
  },
  {
   "cell_type": "code",
   "execution_count": null,
   "metadata": {},
   "outputs": [],
   "source": [
    "db = Database(memory=True)\n",
    "db[\"dogs\"].insert({\"id\": 1, \"name\": \"Cleo\"}, pk=\"id\").m2m(\n",
    "    \"humans\", {\"id\": 1, \"name\": \"Natalie\"}, pk=\"id\"\n",
    ");"
   ]
  },
  {
   "cell_type": "markdown",
   "metadata": {},
   "source": [
    "Running this example actually creates three tables: `dogs`, `humans` and a many-to-many `dogs_humans` table. It will insert a record into each of those tables."
   ]
  },
  {
   "cell_type": "markdown",
   "metadata": {},
   "source": [
    "The `.m2m()` method executes against the last record that was affected by `.insert()` or `.update()` - the record identified by the `table.last_pk` property. To execute `.m2m()` against a specific record you can first select it by passing its primary key to `.update()`:"
   ]
  },
  {
   "cell_type": "code",
   "execution_count": null,
   "metadata": {},
   "outputs": [],
   "source": [
    "db[\"dogs\"].update(1).m2m(\n",
    "    \"humans\", {\"id\": 2, \"name\": \"Simon\"}, pk=\"id\"\n",
    ");"
   ]
  },
  {
   "cell_type": "markdown",
   "metadata": {},
   "source": [
    "The first argument to `.m2m()` can be either the name of a table as a string or it can be the table object itself."
   ]
  },
  {
   "cell_type": "markdown",
   "metadata": {},
   "source": [
    "The second argument can be a single dictionary record or a list of dictionaries. These dictionaries will be passed to `.upsert()` against the specified table."
   ]
  },
  {
   "cell_type": "markdown",
   "metadata": {},
   "source": [
    "Here's alternative code that creates the dog record and adds two people to it:"
   ]
  },
  {
   "cell_type": "code",
   "execution_count": null,
   "metadata": {},
   "outputs": [],
   "source": [
    "db = Database(memory=True)\n",
    "dogs = db.table(\"dogs\", pk=\"id\")\n",
    "humans = db.table(\"humans\", pk=\"id\")\n",
    "dogs.insert({\"id\": 1, \"name\": \"Cleo\"}).m2m(\n",
    "    humans, [\n",
    "        {\"id\": 1, \"name\": \"Natalie\"},\n",
    "        {\"id\": 2, \"name\": \"Simon\"}\n",
    "    ]\n",
    ");"
   ]
  },
  {
   "cell_type": "markdown",
   "metadata": {},
   "source": [
    "The method will attempt to find an existing many-to-many table by looking for a table that has foreign key relationships against both of the tables in the relationship."
   ]
  },
  {
   "cell_type": "markdown",
   "metadata": {},
   "source": [
    "If it cannot find such a table, it will create a new one using the names of the two tables - `dogs_humans` in this example. You can customize the name of this table using the `m2m_table=` argument to `.m2m()`."
   ]
  },
  {
   "cell_type": "markdown",
   "metadata": {},
   "source": [
    "It it finds multiple candidate tables with foreign keys to both of the specified tables it will raise a `sqlite_utils.db.NoObviousTable` exception. You can avoid this error by specifying the correct table using `m2m_table=`."
   ]
  },
  {
   "cell_type": "markdown",
   "metadata": {},
   "source": [
    "The `.m2m()` method also takes an optional `pk=` argument to specify the primary key that should be used if the table is created, and an optional `alter=True` argument to specify that any missing columns of an existing table should be added if they are needed."
   ]
  },
  {
   "cell_type": "markdown",
   "metadata": {},
   "source": [
    "### Using m2m and lookup tables together"
   ]
  },
  {
   "cell_type": "markdown",
   "metadata": {},
   "source": [
    "You can work with (or create) lookup tables as part of a call to `.m2m()` using the `lookup=` parameter. This accepts the same argument as `table.lookup()` does - a dictionary of values that should be used to lookup or create a row in the lookup table."
   ]
  },
  {
   "cell_type": "markdown",
   "metadata": {},
   "source": [
    "This example creates a dogs table, populates it, creates a characteristics table, populates that and sets up a many-to-many relationship between the two. It chains `.m2m()` twice to create two associated characteristics:"
   ]
  },
  {
   "cell_type": "code",
   "execution_count": null,
   "metadata": {},
   "outputs": [],
   "source": [
    "db = Database(memory=True)\n",
    "dogs = db.table(\"dogs\", pk=\"id\")\n",
    "dogs.insert({\"id\": 1, \"name\": \"Cleo\"}).m2m(\n",
    "    \"characteristics\", lookup={\n",
    "        \"name\": \"Playful\"\n",
    "    }\n",
    ").m2m(\n",
    "    \"characteristics\", lookup={\n",
    "        \"name\": \"Opinionated\"\n",
    "    }\n",
    ");"
   ]
  },
  {
   "cell_type": "markdown",
   "metadata": {},
   "source": [
    "You can inspect the database to see the results like this:"
   ]
  },
  {
   "cell_type": "code",
   "execution_count": null,
   "metadata": {},
   "outputs": [
    {
     "data": {
      "text/plain": [
       "['dogs', 'characteristics', 'characteristics_dogs']"
      ]
     },
     "execution_count": null,
     "metadata": {},
     "output_type": "execute_result"
    }
   ],
   "source": [
    "db.table_names()"
   ]
  },
  {
   "cell_type": "code",
   "execution_count": null,
   "metadata": {},
   "outputs": [
    {
     "data": {
      "text/plain": [
       "[{'id': 1, 'name': 'Cleo'}]"
      ]
     },
     "execution_count": null,
     "metadata": {},
     "output_type": "execute_result"
    }
   ],
   "source": [
    "list(db[\"dogs\"].rows)"
   ]
  },
  {
   "cell_type": "code",
   "execution_count": null,
   "metadata": {},
   "outputs": [
    {
     "data": {
      "text/plain": [
       "[{'id': 1, 'name': 'Playful'}, {'id': 2, 'name': 'Opinionated'}]"
      ]
     },
     "execution_count": null,
     "metadata": {},
     "output_type": "execute_result"
    }
   ],
   "source": [
    "list(db[\"characteristics\"].rows)"
   ]
  },
  {
   "cell_type": "code",
   "execution_count": null,
   "metadata": {},
   "outputs": [
    {
     "data": {
      "text/plain": [
       "[{'characteristics_id': 1, 'dogs_id': 1},\n",
       " {'characteristics_id': 2, 'dogs_id': 1}]"
      ]
     },
     "execution_count": null,
     "metadata": {},
     "output_type": "execute_result"
    }
   ],
   "source": [
    "list(db[\"characteristics_dogs\"].rows)"
   ]
  },
  {
   "cell_type": "code",
   "execution_count": null,
   "metadata": {},
   "outputs": [
    {
     "name": "stdout",
     "output_type": "stream",
     "text": [
      "CREATE TABLE [characteristics_dogs] (\n",
      "   [characteristics_id] INTEGER REFERENCES [characteristics]([id]),\n",
      "   [dogs_id] INTEGER REFERENCES [dogs]([id]),\n",
      "   PRIMARY KEY ([characteristics_id], [dogs_id])\n",
      ")\n"
     ]
    }
   ],
   "source": [
    "print(db[\"characteristics_dogs\"].schema)"
   ]
  },
  {
   "cell_type": "markdown",
   "metadata": {},
   "source": [
    "## Analyzing a column"
   ]
  },
  {
   "cell_type": "markdown",
   "metadata": {},
   "source": [
    "The `table.analyze_column(column, common_limit=10, value_truncate=None)` method is used by the `analyze-tables` CLI command. It returns a `ColumnDetails` named tuple with the following fields:"
   ]
  },
  {
   "cell_type": "markdown",
   "metadata": {},
   "source": [
    "`table` -- The name of the table\n",
    "\n",
    "`column` -- The name of the column\n",
    "\n",
    "`total_rows` -- The total number of rows in the table\n",
    "\n",
    "`num_null` -- The number of rows for which this column is null\n",
    "\n",
    "`num_blank` -- The number of rows for which this column is blank (the empty string)\n",
    "\n",
    "`num_distinct` -- The number of distinct values in this column\n",
    "\n",
    "`most_common` -- The `N` most common values as a list of `(value, count)` tuples, or `None` if the table consists entirely of distinct values\n",
    "\n",
    "`least_common` -- The `N` least common values as a list of `(value, count)` tuples, or `None` if the table is entirely distinct or if the number of distinct values is less than N (since they will already have been returned in `most_common`)"
   ]
  },
  {
   "cell_type": "markdown",
   "metadata": {},
   "source": [
    "`N` defaults to 10, or you can pass a custom `N` using the `common_limit` parameter.\n",
    "\n",
    "You can use the `value_truncate` parameter to truncate values in the `most_common` and `least_common` lists to a specified number of characters."
   ]
  },
  {
   "cell_type": "markdown",
   "metadata": {},
   "source": [
    "## Adding columns"
   ]
  },
  {
   "cell_type": "markdown",
   "metadata": {},
   "source": [
    "You can add a new column to a table using the `.add_column(col_name, col_type)` method:"
   ]
  },
  {
   "cell_type": "code",
   "execution_count": null,
   "metadata": {},
   "outputs": [],
   "source": [
    "import datetime"
   ]
  },
  {
   "cell_type": "code",
   "execution_count": null,
   "metadata": {},
   "outputs": [],
   "source": [
    "#|hide\n",
    "recreate_dogs_db()"
   ]
  },
  {
   "cell_type": "code",
   "execution_count": null,
   "metadata": {},
   "outputs": [],
   "source": [
    "db = Database(\"dogs.db\")\n",
    "db[\"dogs\"].add_column(\"instagram\", str)\n",
    "db[\"dogs\"].add_column(\"weight\", float)\n",
    "db[\"dogs\"].add_column(\"dob\", datetime.date)\n",
    "db[\"dogs\"].add_column(\"image\", \"BLOB\")\n",
    "db[\"dogs\"].add_column(\"website\"); # str by default"
   ]
  },
  {
   "cell_type": "markdown",
   "metadata": {},
   "source": [
    "You can specify the `col_type` argument either using a SQLite type as a string, or by directly passing a Python type e.g. `str` or `float`."
   ]
  },
  {
   "cell_type": "markdown",
   "metadata": {},
   "source": [
    "The `col_type` is optional - if you omit it the type of `TEXT` will be used."
   ]
  },
  {
   "cell_type": "markdown",
   "metadata": {},
   "source": [
    "SQLite types you can specify are `\"TEXT\"`, `\"INTEGER\"`, `\"FLOAT\"` or `\"BLOB\"`."
   ]
  },
  {
   "cell_type": "markdown",
   "metadata": {},
   "source": [
    "If you pass a Python type, it will be mapped to SQLite types as shown here:"
   ]
  },
  {
   "cell_type": "markdown",
   "metadata": {},
   "source": [
    "```\n",
    "float: \"FLOAT\"\n",
    "int: \"INTEGER\"\n",
    "bool: \"INTEGER\"\n",
    "str: \"TEXT\"\n",
    "bytes: \"BLOB\"\n",
    "datetime.datetime: \"TEXT\"\n",
    "datetime.date: \"TEXT\"\n",
    "datetime.time: \"TEXT\"\n",
    "\n",
    "# If numpy is installed\n",
    "np.int8: \"INTEGER\"\n",
    "np.int16: \"INTEGER\"\n",
    "np.int32: \"INTEGER\"\n",
    "np.int64: \"INTEGER\"\n",
    "np.uint8: \"INTEGER\"\n",
    "np.uint16: \"INTEGER\"\n",
    "np.uint32: \"INTEGER\"\n",
    "np.uint64: \"INTEGER\"\n",
    "np.float16: \"FLOAT\"\n",
    "np.float32: \"FLOAT\"\n",
    "np.float64: \"FLOAT\"\n",
    "```"
   ]
  },
  {
   "cell_type": "markdown",
   "metadata": {},
   "source": [
    "You can also add a column that is a foreign key reference to another table using the `fk` parameter:"
   ]
  },
  {
   "cell_type": "code",
   "execution_count": null,
   "metadata": {},
   "outputs": [],
   "source": [
    "#|hide\n",
    "recreate_dogs_db()\n",
    "db = Database(\"dogs.db\")"
   ]
  },
  {
   "cell_type": "code",
   "execution_count": null,
   "metadata": {},
   "outputs": [
    {
     "ename": "OperationalError",
     "evalue": "table sqlite_master may not be modified",
     "output_type": "error",
     "traceback": [
      "\u001b[0;31m---------------------------------------------------------------------------\u001b[0m",
      "\u001b[0;31mOperationalError\u001b[0m                          Traceback (most recent call last)",
      "Input \u001b[0;32mIn [173]\u001b[0m, in \u001b[0;36m<cell line: 2>\u001b[0;34m()\u001b[0m\n\u001b[1;32m      1\u001b[0m db\u001b[38;5;241m.\u001b[39mcreate_table(\u001b[38;5;124m\"\u001b[39m\u001b[38;5;124mspecies\u001b[39m\u001b[38;5;124m\"\u001b[39m, {\u001b[38;5;124m\"\u001b[39m\u001b[38;5;124mref\u001b[39m\u001b[38;5;124m\"\u001b[39m: \u001b[38;5;28mint\u001b[39m, \u001b[38;5;124m\"\u001b[39m\u001b[38;5;124mname\u001b[39m\u001b[38;5;124m\"\u001b[39m: \u001b[38;5;28mstr\u001b[39m}, if_not_exists\u001b[38;5;241m=\u001b[39m\u001b[38;5;28;01mTrue\u001b[39;00m);\n\u001b[0;32m----> 2\u001b[0m \u001b[43mdb\u001b[49m\u001b[43m[\u001b[49m\u001b[38;5;124;43m\"\u001b[39;49m\u001b[38;5;124;43mdogs\u001b[39;49m\u001b[38;5;124;43m\"\u001b[39;49m\u001b[43m]\u001b[49m\u001b[38;5;241;43m.\u001b[39;49m\u001b[43madd_column\u001b[49m\u001b[43m(\u001b[49m\u001b[38;5;124;43m\"\u001b[39;49m\u001b[38;5;124;43mspecies_id\u001b[39;49m\u001b[38;5;124;43m\"\u001b[39;49m\u001b[43m,\u001b[49m\u001b[43m \u001b[49m\u001b[43mfk\u001b[49m\u001b[38;5;241;43m=\u001b[39;49m\u001b[38;5;124;43m\"\u001b[39;49m\u001b[38;5;124;43mspecies\u001b[39;49m\u001b[38;5;124;43m\"\u001b[39;49m\u001b[43m)\u001b[49m\n",
      "File \u001b[0;32m~/code/sqlite-utils/sqlite_utils/db.py:1952\u001b[0m, in \u001b[0;36mTable.add_column\u001b[0;34m(self, col_name, col_type, fk, fk_col, not_null_default)\u001b[0m\n\u001b[1;32m   1950\u001b[0m \u001b[38;5;28mself\u001b[39m\u001b[38;5;241m.\u001b[39mdb\u001b[38;5;241m.\u001b[39mexecute(sql)\n\u001b[1;32m   1951\u001b[0m \u001b[38;5;28;01mif\u001b[39;00m fk \u001b[38;5;129;01mis\u001b[39;00m \u001b[38;5;129;01mnot\u001b[39;00m \u001b[38;5;28;01mNone\u001b[39;00m:\n\u001b[0;32m-> 1952\u001b[0m     \u001b[38;5;28;43mself\u001b[39;49m\u001b[38;5;241;43m.\u001b[39;49m\u001b[43madd_foreign_key\u001b[49m\u001b[43m(\u001b[49m\u001b[43mcol_name\u001b[49m\u001b[43m,\u001b[49m\u001b[43m \u001b[49m\u001b[43mfk\u001b[49m\u001b[43m,\u001b[49m\u001b[43m \u001b[49m\u001b[43mfk_col\u001b[49m\u001b[43m)\u001b[49m\n\u001b[1;32m   1953\u001b[0m \u001b[38;5;28;01mreturn\u001b[39;00m \u001b[38;5;28mself\u001b[39m\n",
      "File \u001b[0;32m~/code/sqlite-utils/sqlite_utils/db.py:2055\u001b[0m, in \u001b[0;36mTable.add_foreign_key\u001b[0;34m(self, column, other_table, other_column, ignore)\u001b[0m\n\u001b[1;32m   2049\u001b[0m     \u001b[38;5;28;01melse\u001b[39;00m:\n\u001b[1;32m   2050\u001b[0m         \u001b[38;5;28;01mraise\u001b[39;00m AlterError(\n\u001b[1;32m   2051\u001b[0m             \u001b[38;5;124m\"\u001b[39m\u001b[38;5;124mForeign key already exists for \u001b[39m\u001b[38;5;132;01m{}\u001b[39;00m\u001b[38;5;124m => \u001b[39m\u001b[38;5;132;01m{}\u001b[39;00m\u001b[38;5;124m.\u001b[39m\u001b[38;5;132;01m{}\u001b[39;00m\u001b[38;5;124m\"\u001b[39m\u001b[38;5;241m.\u001b[39mformat(\n\u001b[1;32m   2052\u001b[0m                 column, other_table, other_column\n\u001b[1;32m   2053\u001b[0m             )\n\u001b[1;32m   2054\u001b[0m         )\n\u001b[0;32m-> 2055\u001b[0m \u001b[38;5;28;43mself\u001b[39;49m\u001b[38;5;241;43m.\u001b[39;49m\u001b[43mdb\u001b[49m\u001b[38;5;241;43m.\u001b[39;49m\u001b[43madd_foreign_keys\u001b[49m\u001b[43m(\u001b[49m\u001b[43m[\u001b[49m\u001b[43m(\u001b[49m\u001b[38;5;28;43mself\u001b[39;49m\u001b[38;5;241;43m.\u001b[39;49m\u001b[43mname\u001b[49m\u001b[43m,\u001b[49m\u001b[43m \u001b[49m\u001b[43mcolumn\u001b[49m\u001b[43m,\u001b[49m\u001b[43m \u001b[49m\u001b[43mother_table\u001b[49m\u001b[43m,\u001b[49m\u001b[43m \u001b[49m\u001b[43mother_column\u001b[49m\u001b[43m)\u001b[49m\u001b[43m]\u001b[49m\u001b[43m)\u001b[49m\n\u001b[1;32m   2056\u001b[0m \u001b[38;5;28;01mreturn\u001b[39;00m \u001b[38;5;28mself\u001b[39m\n",
      "File \u001b[0;32m~/code/sqlite-utils/sqlite_utils/db.py:1031\u001b[0m, in \u001b[0;36mDatabase.add_foreign_keys\u001b[0;34m(self, foreign_keys)\u001b[0m\n\u001b[1;32m   1029\u001b[0m cursor\u001b[38;5;241m.\u001b[39mexecute(\u001b[38;5;124m\"\u001b[39m\u001b[38;5;124mPRAGMA writable_schema = 1\u001b[39m\u001b[38;5;124m\"\u001b[39m)\n\u001b[1;32m   1030\u001b[0m \u001b[38;5;28;01mfor\u001b[39;00m table_name, new_sql \u001b[38;5;129;01min\u001b[39;00m table_sql\u001b[38;5;241m.\u001b[39mitems():\n\u001b[0;32m-> 1031\u001b[0m     \u001b[43mcursor\u001b[49m\u001b[38;5;241;43m.\u001b[39;49m\u001b[43mexecute\u001b[49m\u001b[43m(\u001b[49m\n\u001b[1;32m   1032\u001b[0m \u001b[43m        \u001b[49m\u001b[38;5;124;43m\"\u001b[39;49m\u001b[38;5;124;43mUPDATE sqlite_master SET sql = ? WHERE name = ?\u001b[39;49m\u001b[38;5;124;43m\"\u001b[39;49m\u001b[43m,\u001b[49m\n\u001b[1;32m   1033\u001b[0m \u001b[43m        \u001b[49m\u001b[43m(\u001b[49m\u001b[43mnew_sql\u001b[49m\u001b[43m,\u001b[49m\u001b[43m \u001b[49m\u001b[43mtable_name\u001b[49m\u001b[43m)\u001b[49m\u001b[43m,\u001b[49m\n\u001b[1;32m   1034\u001b[0m \u001b[43m    \u001b[49m\u001b[43m)\u001b[49m\n\u001b[1;32m   1035\u001b[0m cursor\u001b[38;5;241m.\u001b[39mexecute(\u001b[38;5;124m\"\u001b[39m\u001b[38;5;124mPRAGMA schema_version = \u001b[39m\u001b[38;5;132;01m%d\u001b[39;00m\u001b[38;5;124m\"\u001b[39m \u001b[38;5;241m%\u001b[39m (schema_version \u001b[38;5;241m+\u001b[39m \u001b[38;5;241m1\u001b[39m))\n\u001b[1;32m   1036\u001b[0m cursor\u001b[38;5;241m.\u001b[39mexecute(\u001b[38;5;124m\"\u001b[39m\u001b[38;5;124mPRAGMA writable_schema = 0\u001b[39m\u001b[38;5;124m\"\u001b[39m)\n",
      "\u001b[0;31mOperationalError\u001b[0m: table sqlite_master may not be modified"
     ]
    }
   ],
   "source": [
    "db.create_table(\"species\", {\"ref\": int, \"name\": str}, if_not_exists=True);\n",
    "db[\"dogs\"].add_column(\"species_id\", fk=\"species\")"
   ]
  },
  {
   "cell_type": "markdown",
   "metadata": {},
   "source": [
    "This will automatically detect the name of the primary key on the species table and use that (and its type) for the new column."
   ]
  },
  {
   "cell_type": "markdown",
   "metadata": {},
   "source": [
    "You can explicitly specify the column you wish to reference using `fk_col`:"
   ]
  },
  {
   "cell_type": "code",
   "execution_count": null,
   "metadata": {},
   "outputs": [
    {
     "ename": "OperationalError",
     "evalue": "duplicate column name: species_id",
     "output_type": "error",
     "traceback": [
      "\u001b[0;31m---------------------------------------------------------------------------\u001b[0m",
      "\u001b[0;31mOperationalError\u001b[0m                          Traceback (most recent call last)",
      "Input \u001b[0;32mIn [171]\u001b[0m, in \u001b[0;36m<cell line: 1>\u001b[0;34m()\u001b[0m\n\u001b[0;32m----> 1\u001b[0m \u001b[43mdb\u001b[49m\u001b[43m[\u001b[49m\u001b[38;5;124;43m\"\u001b[39;49m\u001b[38;5;124;43mdogs\u001b[39;49m\u001b[38;5;124;43m\"\u001b[39;49m\u001b[43m]\u001b[49m\u001b[38;5;241;43m.\u001b[39;49m\u001b[43madd_column\u001b[49m\u001b[43m(\u001b[49m\u001b[38;5;124;43m\"\u001b[39;49m\u001b[38;5;124;43mspecies_id\u001b[39;49m\u001b[38;5;124;43m\"\u001b[39;49m\u001b[43m,\u001b[49m\u001b[43m \u001b[49m\u001b[43mfk\u001b[49m\u001b[38;5;241;43m=\u001b[39;49m\u001b[38;5;124;43m\"\u001b[39;49m\u001b[38;5;124;43mspecies\u001b[39;49m\u001b[38;5;124;43m\"\u001b[39;49m\u001b[43m,\u001b[49m\u001b[43m \u001b[49m\u001b[43mfk_col\u001b[49m\u001b[38;5;241;43m=\u001b[39;49m\u001b[38;5;124;43m\"\u001b[39;49m\u001b[38;5;124;43mref\u001b[39;49m\u001b[38;5;124;43m\"\u001b[39;49m\u001b[43m)\u001b[49m\n",
      "File \u001b[0;32m~/code/sqlite-utils/sqlite_utils/db.py:1950\u001b[0m, in \u001b[0;36mTable.add_column\u001b[0;34m(self, col_name, col_type, fk, fk_col, not_null_default)\u001b[0m\n\u001b[1;32m   1943\u001b[0m     not_null_sql \u001b[38;5;241m=\u001b[39m \u001b[38;5;124m\"\u001b[39m\u001b[38;5;124mNOT NULL DEFAULT \u001b[39m\u001b[38;5;132;01m{}\u001b[39;00m\u001b[38;5;124m\"\u001b[39m\u001b[38;5;241m.\u001b[39mformat(\u001b[38;5;28mself\u001b[39m\u001b[38;5;241m.\u001b[39mdb\u001b[38;5;241m.\u001b[39mquote(not_null_default))\n\u001b[1;32m   1944\u001b[0m sql \u001b[38;5;241m=\u001b[39m \u001b[38;5;124m\"\u001b[39m\u001b[38;5;124mALTER TABLE [\u001b[39m\u001b[38;5;132;01m{table}\u001b[39;00m\u001b[38;5;124m] ADD COLUMN [\u001b[39m\u001b[38;5;132;01m{col_name}\u001b[39;00m\u001b[38;5;124m] \u001b[39m\u001b[38;5;132;01m{col_type}\u001b[39;00m\u001b[38;5;132;01m{not_null_default}\u001b[39;00m\u001b[38;5;124m;\u001b[39m\u001b[38;5;124m\"\u001b[39m\u001b[38;5;241m.\u001b[39mformat(\n\u001b[1;32m   1945\u001b[0m     table\u001b[38;5;241m=\u001b[39m\u001b[38;5;28mself\u001b[39m\u001b[38;5;241m.\u001b[39mname,\n\u001b[1;32m   1946\u001b[0m     col_name\u001b[38;5;241m=\u001b[39mcol_name,\n\u001b[1;32m   1947\u001b[0m     col_type\u001b[38;5;241m=\u001b[39mfk_col_type \u001b[38;5;129;01mor\u001b[39;00m COLUMN_TYPE_MAPPING[col_type],\n\u001b[1;32m   1948\u001b[0m     not_null_default\u001b[38;5;241m=\u001b[39m(\u001b[38;5;124m\"\u001b[39m\u001b[38;5;124m \u001b[39m\u001b[38;5;124m\"\u001b[39m \u001b[38;5;241m+\u001b[39m not_null_sql) \u001b[38;5;28;01mif\u001b[39;00m not_null_sql \u001b[38;5;28;01melse\u001b[39;00m \u001b[38;5;124m\"\u001b[39m\u001b[38;5;124m\"\u001b[39m,\n\u001b[1;32m   1949\u001b[0m )\n\u001b[0;32m-> 1950\u001b[0m \u001b[38;5;28;43mself\u001b[39;49m\u001b[38;5;241;43m.\u001b[39;49m\u001b[43mdb\u001b[49m\u001b[38;5;241;43m.\u001b[39;49m\u001b[43mexecute\u001b[49m\u001b[43m(\u001b[49m\u001b[43msql\u001b[49m\u001b[43m)\u001b[49m\n\u001b[1;32m   1951\u001b[0m \u001b[38;5;28;01mif\u001b[39;00m fk \u001b[38;5;129;01mis\u001b[39;00m \u001b[38;5;129;01mnot\u001b[39;00m \u001b[38;5;28;01mNone\u001b[39;00m:\n\u001b[1;32m   1952\u001b[0m     \u001b[38;5;28mself\u001b[39m\u001b[38;5;241m.\u001b[39madd_foreign_key(col_name, fk, fk_col)\n",
      "File \u001b[0;32m~/code/sqlite-utils/sqlite_utils/db.py:475\u001b[0m, in \u001b[0;36mDatabase.execute\u001b[0;34m(self, sql, parameters)\u001b[0m\n\u001b[1;32m    473\u001b[0m     \u001b[38;5;28;01mreturn\u001b[39;00m \u001b[38;5;28mself\u001b[39m\u001b[38;5;241m.\u001b[39mconn\u001b[38;5;241m.\u001b[39mexecute(sql, parameters)\n\u001b[1;32m    474\u001b[0m \u001b[38;5;28;01melse\u001b[39;00m:\n\u001b[0;32m--> 475\u001b[0m     \u001b[38;5;28;01mreturn\u001b[39;00m \u001b[38;5;28;43mself\u001b[39;49m\u001b[38;5;241;43m.\u001b[39;49m\u001b[43mconn\u001b[49m\u001b[38;5;241;43m.\u001b[39;49m\u001b[43mexecute\u001b[49m\u001b[43m(\u001b[49m\u001b[43msql\u001b[49m\u001b[43m)\u001b[49m\n",
      "\u001b[0;31mOperationalError\u001b[0m: duplicate column name: species_id"
     ]
    }
   ],
   "source": [
    "db[\"dogs\"].add_column(\"species_id\", fk=\"species\", fk_col=\"ref\")"
   ]
  },
  {
   "cell_type": "markdown",
   "metadata": {},
   "source": [
    "You can set a `NOT NULL DEFAULT 'x'` constraint on the new column using `not_null_default`:"
   ]
  },
  {
   "cell_type": "code",
   "execution_count": null,
   "metadata": {},
   "outputs": [],
   "source": [
    "#|hide\n",
    "recreate_dogs_db()\n",
    "db = Database(\"dogs.db\")"
   ]
  },
  {
   "cell_type": "code",
   "execution_count": null,
   "metadata": {},
   "outputs": [],
   "source": [
    "db[\"dogs\"].add_column(\"friends_count\", int, not_null_default=0);"
   ]
  },
  {
   "cell_type": "markdown",
   "metadata": {},
   "source": [
    "## Adding columns automatically on insert/update"
   ]
  },
  {
   "cell_type": "markdown",
   "metadata": {},
   "source": [
    "You can insert or update data that includes new columns and have the table automatically altered to fit the new schema using the `alter=True` argument. This can be passed to all four of `.insert()`, `.upsert()`, `.insert_all()` and `.upsert_all()`, or it can be passed to `db.table(table_name, alter=True)` to enable it by default for all method calls against that table instance."
   ]
  },
  {
   "cell_type": "code",
   "execution_count": null,
   "metadata": {},
   "outputs": [],
   "source": [
    "db = Database(memory=True)\n",
    "db[\"new_table\"].insert({\"name\": \"Gareth\"});"
   ]
  },
  {
   "cell_type": "markdown",
   "metadata": {},
   "source": [
    "This will throw an exception:"
   ]
  },
  {
   "cell_type": "code",
   "execution_count": null,
   "metadata": {},
   "outputs": [
    {
     "name": "stdout",
     "output_type": "stream",
     "text": [
      "table new_table has no column named age\n"
     ]
    }
   ],
   "source": [
    "try:\n",
    "    db[\"new_table\"].insert({\"name\": \"Gareth\", \"age\": 32})\n",
    "except sqlite3.OperationalError as e:\n",
    "    print(e)"
   ]
  },
  {
   "cell_type": "markdown",
   "metadata": {},
   "source": [
    "This will succeed and add a new \"age\" integer column:"
   ]
  },
  {
   "cell_type": "code",
   "execution_count": null,
   "metadata": {},
   "outputs": [],
   "source": [
    "db[\"new_table\"].insert({\"name\": \"Gareth\", \"age\": 32}, alter=True);"
   ]
  },
  {
   "cell_type": "markdown",
   "metadata": {},
   "source": [
    "You can see confirm the new column like so:"
   ]
  },
  {
   "cell_type": "code",
   "execution_count": null,
   "metadata": {},
   "outputs": [
    {
     "data": {
      "text/plain": [
       "{'name': str, 'age': int}"
      ]
     },
     "execution_count": null,
     "metadata": {},
     "output_type": "execute_result"
    }
   ],
   "source": [
    "db[\"new_table\"].columns_dict"
   ]
  },
  {
   "cell_type": "markdown",
   "metadata": {},
   "source": [
    "This works too:"
   ]
  },
  {
   "cell_type": "code",
   "execution_count": null,
   "metadata": {},
   "outputs": [],
   "source": [
    "new_table = db.table(\"new_table\", alter=True)\n",
    "new_table.insert({\"name\": \"Gareth\", \"age\": 32, \"shoe_size\": 11});"
   ]
  },
  {
   "cell_type": "markdown",
   "metadata": {},
   "source": [
    "## Adding foreign key constraints"
   ]
  },
  {
   "cell_type": "markdown",
   "metadata": {},
   "source": [
    "The SQLite `ALTER TABLE` statement doesn't have the ability to add foreign key references to an existing column."
   ]
  },
  {
   "cell_type": "markdown",
   "metadata": {},
   "source": [
    "It's possible to add these references through very careful manipulation of SQLite's `sqlite_master` table, using `PRAGMA writable_schema`."
   ]
  },
  {
   "cell_type": "markdown",
   "metadata": {},
   "source": [
    "`sqlite-utils` can do this for you, though there is a significant risk of data corruption if something goes wrong so it is advisable to create a fresh copy of your database file before attempting this."
   ]
  },
  {
   "cell_type": "markdown",
   "metadata": {},
   "source": [
    "Here's an example of this mechanism in action:"
   ]
  },
  {
   "cell_type": "code",
   "execution_count": null,
   "metadata": {},
   "outputs": [
    {
     "ename": "OperationalError",
     "evalue": "table sqlite_master may not be modified",
     "output_type": "error",
     "traceback": [
      "\u001b[0;31m---------------------------------------------------------------------------\u001b[0m",
      "\u001b[0;31mOperationalError\u001b[0m                          Traceback (most recent call last)",
      "Input \u001b[0;32mIn [181]\u001b[0m, in \u001b[0;36m<cell line: 10>\u001b[0;34m()\u001b[0m\n\u001b[1;32m      2\u001b[0m db[\u001b[38;5;124m\"\u001b[39m\u001b[38;5;124mauthors\u001b[39m\u001b[38;5;124m\"\u001b[39m]\u001b[38;5;241m.\u001b[39minsert_all([\n\u001b[1;32m      3\u001b[0m     {\u001b[38;5;124m\"\u001b[39m\u001b[38;5;124mid\u001b[39m\u001b[38;5;124m\"\u001b[39m: \u001b[38;5;241m1\u001b[39m, \u001b[38;5;124m\"\u001b[39m\u001b[38;5;124mname\u001b[39m\u001b[38;5;124m\"\u001b[39m: \u001b[38;5;124m\"\u001b[39m\u001b[38;5;124mSally\u001b[39m\u001b[38;5;124m\"\u001b[39m},\n\u001b[1;32m      4\u001b[0m     {\u001b[38;5;124m\"\u001b[39m\u001b[38;5;124mid\u001b[39m\u001b[38;5;124m\"\u001b[39m: \u001b[38;5;241m2\u001b[39m, \u001b[38;5;124m\"\u001b[39m\u001b[38;5;124mname\u001b[39m\u001b[38;5;124m\"\u001b[39m: \u001b[38;5;124m\"\u001b[39m\u001b[38;5;124mAsheesh\u001b[39m\u001b[38;5;124m\"\u001b[39m}\n\u001b[1;32m      5\u001b[0m ], pk\u001b[38;5;241m=\u001b[39m\u001b[38;5;124m\"\u001b[39m\u001b[38;5;124mid\u001b[39m\u001b[38;5;124m\"\u001b[39m)\n\u001b[1;32m      6\u001b[0m db[\u001b[38;5;124m\"\u001b[39m\u001b[38;5;124mbooks\u001b[39m\u001b[38;5;124m\"\u001b[39m]\u001b[38;5;241m.\u001b[39minsert_all([\n\u001b[1;32m      7\u001b[0m     {\u001b[38;5;124m\"\u001b[39m\u001b[38;5;124mtitle\u001b[39m\u001b[38;5;124m\"\u001b[39m: \u001b[38;5;124m\"\u001b[39m\u001b[38;5;124mHedgehogs of the world\u001b[39m\u001b[38;5;124m\"\u001b[39m, \u001b[38;5;124m\"\u001b[39m\u001b[38;5;124mauthor_id\u001b[39m\u001b[38;5;124m\"\u001b[39m: \u001b[38;5;241m1\u001b[39m},\n\u001b[1;32m      8\u001b[0m     {\u001b[38;5;124m\"\u001b[39m\u001b[38;5;124mtitle\u001b[39m\u001b[38;5;124m\"\u001b[39m: \u001b[38;5;124m\"\u001b[39m\u001b[38;5;124mHow to train your wolf\u001b[39m\u001b[38;5;124m\"\u001b[39m, \u001b[38;5;124m\"\u001b[39m\u001b[38;5;124mauthor_id\u001b[39m\u001b[38;5;124m\"\u001b[39m: \u001b[38;5;241m2\u001b[39m},\n\u001b[1;32m      9\u001b[0m ])\n\u001b[0;32m---> 10\u001b[0m \u001b[43mdb\u001b[49m\u001b[43m[\u001b[49m\u001b[38;5;124;43m\"\u001b[39;49m\u001b[38;5;124;43mbooks\u001b[39;49m\u001b[38;5;124;43m\"\u001b[39;49m\u001b[43m]\u001b[49m\u001b[38;5;241;43m.\u001b[39;49m\u001b[43madd_foreign_key\u001b[49m\u001b[43m(\u001b[49m\u001b[38;5;124;43m\"\u001b[39;49m\u001b[38;5;124;43mauthor_id\u001b[39;49m\u001b[38;5;124;43m\"\u001b[39;49m\u001b[43m,\u001b[49m\u001b[43m \u001b[49m\u001b[38;5;124;43m\"\u001b[39;49m\u001b[38;5;124;43mauthors\u001b[39;49m\u001b[38;5;124;43m\"\u001b[39;49m\u001b[43m,\u001b[49m\u001b[43m \u001b[49m\u001b[38;5;124;43m\"\u001b[39;49m\u001b[38;5;124;43mid\u001b[39;49m\u001b[38;5;124;43m\"\u001b[39;49m\u001b[43m)\u001b[49m\n",
      "File \u001b[0;32m~/code/sqlite-utils/sqlite_utils/db.py:2055\u001b[0m, in \u001b[0;36mTable.add_foreign_key\u001b[0;34m(self, column, other_table, other_column, ignore)\u001b[0m\n\u001b[1;32m   2049\u001b[0m     \u001b[38;5;28;01melse\u001b[39;00m:\n\u001b[1;32m   2050\u001b[0m         \u001b[38;5;28;01mraise\u001b[39;00m AlterError(\n\u001b[1;32m   2051\u001b[0m             \u001b[38;5;124m\"\u001b[39m\u001b[38;5;124mForeign key already exists for \u001b[39m\u001b[38;5;132;01m{}\u001b[39;00m\u001b[38;5;124m => \u001b[39m\u001b[38;5;132;01m{}\u001b[39;00m\u001b[38;5;124m.\u001b[39m\u001b[38;5;132;01m{}\u001b[39;00m\u001b[38;5;124m\"\u001b[39m\u001b[38;5;241m.\u001b[39mformat(\n\u001b[1;32m   2052\u001b[0m                 column, other_table, other_column\n\u001b[1;32m   2053\u001b[0m             )\n\u001b[1;32m   2054\u001b[0m         )\n\u001b[0;32m-> 2055\u001b[0m \u001b[38;5;28;43mself\u001b[39;49m\u001b[38;5;241;43m.\u001b[39;49m\u001b[43mdb\u001b[49m\u001b[38;5;241;43m.\u001b[39;49m\u001b[43madd_foreign_keys\u001b[49m\u001b[43m(\u001b[49m\u001b[43m[\u001b[49m\u001b[43m(\u001b[49m\u001b[38;5;28;43mself\u001b[39;49m\u001b[38;5;241;43m.\u001b[39;49m\u001b[43mname\u001b[49m\u001b[43m,\u001b[49m\u001b[43m \u001b[49m\u001b[43mcolumn\u001b[49m\u001b[43m,\u001b[49m\u001b[43m \u001b[49m\u001b[43mother_table\u001b[49m\u001b[43m,\u001b[49m\u001b[43m \u001b[49m\u001b[43mother_column\u001b[49m\u001b[43m)\u001b[49m\u001b[43m]\u001b[49m\u001b[43m)\u001b[49m\n\u001b[1;32m   2056\u001b[0m \u001b[38;5;28;01mreturn\u001b[39;00m \u001b[38;5;28mself\u001b[39m\n",
      "File \u001b[0;32m~/code/sqlite-utils/sqlite_utils/db.py:1031\u001b[0m, in \u001b[0;36mDatabase.add_foreign_keys\u001b[0;34m(self, foreign_keys)\u001b[0m\n\u001b[1;32m   1029\u001b[0m cursor\u001b[38;5;241m.\u001b[39mexecute(\u001b[38;5;124m\"\u001b[39m\u001b[38;5;124mPRAGMA writable_schema = 1\u001b[39m\u001b[38;5;124m\"\u001b[39m)\n\u001b[1;32m   1030\u001b[0m \u001b[38;5;28;01mfor\u001b[39;00m table_name, new_sql \u001b[38;5;129;01min\u001b[39;00m table_sql\u001b[38;5;241m.\u001b[39mitems():\n\u001b[0;32m-> 1031\u001b[0m     \u001b[43mcursor\u001b[49m\u001b[38;5;241;43m.\u001b[39;49m\u001b[43mexecute\u001b[49m\u001b[43m(\u001b[49m\n\u001b[1;32m   1032\u001b[0m \u001b[43m        \u001b[49m\u001b[38;5;124;43m\"\u001b[39;49m\u001b[38;5;124;43mUPDATE sqlite_master SET sql = ? WHERE name = ?\u001b[39;49m\u001b[38;5;124;43m\"\u001b[39;49m\u001b[43m,\u001b[49m\n\u001b[1;32m   1033\u001b[0m \u001b[43m        \u001b[49m\u001b[43m(\u001b[49m\u001b[43mnew_sql\u001b[49m\u001b[43m,\u001b[49m\u001b[43m \u001b[49m\u001b[43mtable_name\u001b[49m\u001b[43m)\u001b[49m\u001b[43m,\u001b[49m\n\u001b[1;32m   1034\u001b[0m \u001b[43m    \u001b[49m\u001b[43m)\u001b[49m\n\u001b[1;32m   1035\u001b[0m cursor\u001b[38;5;241m.\u001b[39mexecute(\u001b[38;5;124m\"\u001b[39m\u001b[38;5;124mPRAGMA schema_version = \u001b[39m\u001b[38;5;132;01m%d\u001b[39;00m\u001b[38;5;124m\"\u001b[39m \u001b[38;5;241m%\u001b[39m (schema_version \u001b[38;5;241m+\u001b[39m \u001b[38;5;241m1\u001b[39m))\n\u001b[1;32m   1036\u001b[0m cursor\u001b[38;5;241m.\u001b[39mexecute(\u001b[38;5;124m\"\u001b[39m\u001b[38;5;124mPRAGMA writable_schema = 0\u001b[39m\u001b[38;5;124m\"\u001b[39m)\n",
      "\u001b[0;31mOperationalError\u001b[0m: table sqlite_master may not be modified"
     ]
    }
   ],
   "source": [
    "db = Database(\"books.db\", recreate=True)\n",
    "db[\"authors\"].insert_all([\n",
    "    {\"id\": 1, \"name\": \"Sally\"},\n",
    "    {\"id\": 2, \"name\": \"Asheesh\"}\n",
    "], pk=\"id\")\n",
    "db[\"books\"].insert_all([\n",
    "    {\"title\": \"Hedgehogs of the world\", \"author_id\": 1},\n",
    "    {\"title\": \"How to train your wolf\", \"author_id\": 2},\n",
    "])\n",
    "db[\"books\"].add_foreign_key(\"author_id\", \"authors\", \"id\")"
   ]
  },
  {
   "cell_type": "markdown",
   "metadata": {},
   "source": [
    "The `table.add_foreign_key(column, other_table, other_column)` method takes the name of the column, the table that is being referenced and the key column within that other table. If you omit the `other_column` argument the primary key from that table will be used automatically. If you omit the `other_table` argument the table will be guessed based on some simple rules:"
   ]
  },
  {
   "cell_type": "markdown",
   "metadata": {},
   "source": [
    "If the column is of format `author_id`, look for tables called `author` or `authors`"
   ]
  },
  {
   "cell_type": "markdown",
   "metadata": {},
   "source": [
    "If the column does not end in `_id`, try looking for a table with the exact name of the column or that name with an added `s`"
   ]
  },
  {
   "cell_type": "markdown",
   "metadata": {},
   "source": [
    "This method first checks that the specified foreign key references tables and columns that exist and does not clash with an existing foreign key. It will raise a `sqlite_utils.db.AlterError` exception if these checks fail."
   ]
  },
  {
   "cell_type": "markdown",
   "metadata": {},
   "source": [
    "To ignore the case where the key already exists, use `ignore=True`:"
   ]
  },
  {
   "cell_type": "code",
   "execution_count": null,
   "metadata": {},
   "outputs": [
    {
     "ename": "OperationalError",
     "evalue": "table sqlite_master may not be modified",
     "output_type": "error",
     "traceback": [
      "\u001b[0;31m---------------------------------------------------------------------------\u001b[0m",
      "\u001b[0;31mOperationalError\u001b[0m                          Traceback (most recent call last)",
      "Input \u001b[0;32mIn [182]\u001b[0m, in \u001b[0;36m<cell line: 1>\u001b[0;34m()\u001b[0m\n\u001b[0;32m----> 1\u001b[0m \u001b[43mdb\u001b[49m\u001b[43m[\u001b[49m\u001b[38;5;124;43m\"\u001b[39;49m\u001b[38;5;124;43mbooks\u001b[39;49m\u001b[38;5;124;43m\"\u001b[39;49m\u001b[43m]\u001b[49m\u001b[38;5;241;43m.\u001b[39;49m\u001b[43madd_foreign_key\u001b[49m\u001b[43m(\u001b[49m\u001b[38;5;124;43m\"\u001b[39;49m\u001b[38;5;124;43mauthor_id\u001b[39;49m\u001b[38;5;124;43m\"\u001b[39;49m\u001b[43m,\u001b[49m\u001b[43m \u001b[49m\u001b[38;5;124;43m\"\u001b[39;49m\u001b[38;5;124;43mauthors\u001b[39;49m\u001b[38;5;124;43m\"\u001b[39;49m\u001b[43m,\u001b[49m\u001b[43m \u001b[49m\u001b[38;5;124;43m\"\u001b[39;49m\u001b[38;5;124;43mid\u001b[39;49m\u001b[38;5;124;43m\"\u001b[39;49m\u001b[43m,\u001b[49m\u001b[43m \u001b[49m\u001b[43mignore\u001b[49m\u001b[38;5;241;43m=\u001b[39;49m\u001b[38;5;28;43;01mTrue\u001b[39;49;00m\u001b[43m)\u001b[49m\n",
      "File \u001b[0;32m~/code/sqlite-utils/sqlite_utils/db.py:2055\u001b[0m, in \u001b[0;36mTable.add_foreign_key\u001b[0;34m(self, column, other_table, other_column, ignore)\u001b[0m\n\u001b[1;32m   2049\u001b[0m     \u001b[38;5;28;01melse\u001b[39;00m:\n\u001b[1;32m   2050\u001b[0m         \u001b[38;5;28;01mraise\u001b[39;00m AlterError(\n\u001b[1;32m   2051\u001b[0m             \u001b[38;5;124m\"\u001b[39m\u001b[38;5;124mForeign key already exists for \u001b[39m\u001b[38;5;132;01m{}\u001b[39;00m\u001b[38;5;124m => \u001b[39m\u001b[38;5;132;01m{}\u001b[39;00m\u001b[38;5;124m.\u001b[39m\u001b[38;5;132;01m{}\u001b[39;00m\u001b[38;5;124m\"\u001b[39m\u001b[38;5;241m.\u001b[39mformat(\n\u001b[1;32m   2052\u001b[0m                 column, other_table, other_column\n\u001b[1;32m   2053\u001b[0m             )\n\u001b[1;32m   2054\u001b[0m         )\n\u001b[0;32m-> 2055\u001b[0m \u001b[38;5;28;43mself\u001b[39;49m\u001b[38;5;241;43m.\u001b[39;49m\u001b[43mdb\u001b[49m\u001b[38;5;241;43m.\u001b[39;49m\u001b[43madd_foreign_keys\u001b[49m\u001b[43m(\u001b[49m\u001b[43m[\u001b[49m\u001b[43m(\u001b[49m\u001b[38;5;28;43mself\u001b[39;49m\u001b[38;5;241;43m.\u001b[39;49m\u001b[43mname\u001b[49m\u001b[43m,\u001b[49m\u001b[43m \u001b[49m\u001b[43mcolumn\u001b[49m\u001b[43m,\u001b[49m\u001b[43m \u001b[49m\u001b[43mother_table\u001b[49m\u001b[43m,\u001b[49m\u001b[43m \u001b[49m\u001b[43mother_column\u001b[49m\u001b[43m)\u001b[49m\u001b[43m]\u001b[49m\u001b[43m)\u001b[49m\n\u001b[1;32m   2056\u001b[0m \u001b[38;5;28;01mreturn\u001b[39;00m \u001b[38;5;28mself\u001b[39m\n",
      "File \u001b[0;32m~/code/sqlite-utils/sqlite_utils/db.py:1031\u001b[0m, in \u001b[0;36mDatabase.add_foreign_keys\u001b[0;34m(self, foreign_keys)\u001b[0m\n\u001b[1;32m   1029\u001b[0m cursor\u001b[38;5;241m.\u001b[39mexecute(\u001b[38;5;124m\"\u001b[39m\u001b[38;5;124mPRAGMA writable_schema = 1\u001b[39m\u001b[38;5;124m\"\u001b[39m)\n\u001b[1;32m   1030\u001b[0m \u001b[38;5;28;01mfor\u001b[39;00m table_name, new_sql \u001b[38;5;129;01min\u001b[39;00m table_sql\u001b[38;5;241m.\u001b[39mitems():\n\u001b[0;32m-> 1031\u001b[0m     \u001b[43mcursor\u001b[49m\u001b[38;5;241;43m.\u001b[39;49m\u001b[43mexecute\u001b[49m\u001b[43m(\u001b[49m\n\u001b[1;32m   1032\u001b[0m \u001b[43m        \u001b[49m\u001b[38;5;124;43m\"\u001b[39;49m\u001b[38;5;124;43mUPDATE sqlite_master SET sql = ? WHERE name = ?\u001b[39;49m\u001b[38;5;124;43m\"\u001b[39;49m\u001b[43m,\u001b[49m\n\u001b[1;32m   1033\u001b[0m \u001b[43m        \u001b[49m\u001b[43m(\u001b[49m\u001b[43mnew_sql\u001b[49m\u001b[43m,\u001b[49m\u001b[43m \u001b[49m\u001b[43mtable_name\u001b[49m\u001b[43m)\u001b[49m\u001b[43m,\u001b[49m\n\u001b[1;32m   1034\u001b[0m \u001b[43m    \u001b[49m\u001b[43m)\u001b[49m\n\u001b[1;32m   1035\u001b[0m cursor\u001b[38;5;241m.\u001b[39mexecute(\u001b[38;5;124m\"\u001b[39m\u001b[38;5;124mPRAGMA schema_version = \u001b[39m\u001b[38;5;132;01m%d\u001b[39;00m\u001b[38;5;124m\"\u001b[39m \u001b[38;5;241m%\u001b[39m (schema_version \u001b[38;5;241m+\u001b[39m \u001b[38;5;241m1\u001b[39m))\n\u001b[1;32m   1036\u001b[0m cursor\u001b[38;5;241m.\u001b[39mexecute(\u001b[38;5;124m\"\u001b[39m\u001b[38;5;124mPRAGMA writable_schema = 0\u001b[39m\u001b[38;5;124m\"\u001b[39m)\n",
      "\u001b[0;31mOperationalError\u001b[0m: table sqlite_master may not be modified"
     ]
    }
   ],
   "source": [
    "db[\"books\"].add_foreign_key(\"author_id\", \"authors\", \"id\", ignore=True)"
   ]
  },
  {
   "cell_type": "markdown",
   "metadata": {},
   "source": [
    "### Adding multiple foreign key constraints at once"
   ]
  },
  {
   "cell_type": "markdown",
   "metadata": {},
   "source": [
    "The final step in adding a new foreign key to a SQLite database is to run `VACUUM`, to ensure the new foreign key is available in future introspection queries."
   ]
  },
  {
   "cell_type": "markdown",
   "metadata": {},
   "source": [
    "`VACUUM` against a large (multi-GB) database can take several minutes or longer. If you are adding multiple foreign keys using `table.add_foreign_key(...)` these can quickly add up."
   ]
  },
  {
   "cell_type": "markdown",
   "metadata": {},
   "source": [
    "Instead, you can use `db.add_foreign_keys(...)` to add multiple foreign keys within a single transaction. This method takes a list of four-tuples, each one specifying a `table`, `column`, `other_table` and `other_column`."
   ]
  },
  {
   "cell_type": "markdown",
   "metadata": {},
   "source": [
    "Here's an example adding two foreign keys at once:"
   ]
  },
  {
   "cell_type": "code",
   "execution_count": null,
   "metadata": {},
   "outputs": [],
   "source": [
    "#|hide\n",
    "recreate_dogs_db()\n",
    "db = Database(\"dogs.db\")\n",
    "db[\"dogs\"].add_column(\"breed_id\")\n",
    "db[\"dogs\"].add_column(\"home_town_id\")\n",
    "db.create_table(\"breeds\", {\"id\": int})\n",
    "db.create_table(\"towns\", {\"id\": int});"
   ]
  },
  {
   "cell_type": "code",
   "execution_count": null,
   "metadata": {},
   "outputs": [
    {
     "ename": "OperationalError",
     "evalue": "table sqlite_master may not be modified",
     "output_type": "error",
     "traceback": [
      "\u001b[0;31m---------------------------------------------------------------------------\u001b[0m",
      "\u001b[0;31mOperationalError\u001b[0m                          Traceback (most recent call last)",
      "Input \u001b[0;32mIn [194]\u001b[0m, in \u001b[0;36m<cell line: 2>\u001b[0;34m()\u001b[0m\n\u001b[1;32m      1\u001b[0m db \u001b[38;5;241m=\u001b[39m Database(\u001b[38;5;124m\"\u001b[39m\u001b[38;5;124mdogs.db\u001b[39m\u001b[38;5;124m\"\u001b[39m)\n\u001b[0;32m----> 2\u001b[0m \u001b[43mdb\u001b[49m\u001b[38;5;241;43m.\u001b[39;49m\u001b[43madd_foreign_keys\u001b[49m\u001b[43m(\u001b[49m\u001b[43m[\u001b[49m\n\u001b[1;32m      3\u001b[0m \u001b[43m    \u001b[49m\u001b[43m(\u001b[49m\u001b[38;5;124;43m\"\u001b[39;49m\u001b[38;5;124;43mdogs\u001b[39;49m\u001b[38;5;124;43m\"\u001b[39;49m\u001b[43m,\u001b[49m\u001b[43m \u001b[49m\u001b[38;5;124;43m\"\u001b[39;49m\u001b[38;5;124;43mbreed_id\u001b[39;49m\u001b[38;5;124;43m\"\u001b[39;49m\u001b[43m,\u001b[49m\u001b[43m \u001b[49m\u001b[38;5;124;43m\"\u001b[39;49m\u001b[38;5;124;43mbreeds\u001b[39;49m\u001b[38;5;124;43m\"\u001b[39;49m\u001b[43m,\u001b[49m\u001b[43m \u001b[49m\u001b[38;5;124;43m\"\u001b[39;49m\u001b[38;5;124;43mid\u001b[39;49m\u001b[38;5;124;43m\"\u001b[39;49m\u001b[43m)\u001b[49m\u001b[43m,\u001b[49m\n\u001b[1;32m      4\u001b[0m \u001b[43m    \u001b[49m\u001b[43m(\u001b[49m\u001b[38;5;124;43m\"\u001b[39;49m\u001b[38;5;124;43mdogs\u001b[39;49m\u001b[38;5;124;43m\"\u001b[39;49m\u001b[43m,\u001b[49m\u001b[43m \u001b[49m\u001b[38;5;124;43m\"\u001b[39;49m\u001b[38;5;124;43mhome_town_id\u001b[39;49m\u001b[38;5;124;43m\"\u001b[39;49m\u001b[43m,\u001b[49m\u001b[43m \u001b[49m\u001b[38;5;124;43m\"\u001b[39;49m\u001b[38;5;124;43mtowns\u001b[39;49m\u001b[38;5;124;43m\"\u001b[39;49m\u001b[43m,\u001b[49m\u001b[43m \u001b[49m\u001b[38;5;124;43m\"\u001b[39;49m\u001b[38;5;124;43mid\u001b[39;49m\u001b[38;5;124;43m\"\u001b[39;49m\u001b[43m)\u001b[49m\n\u001b[1;32m      5\u001b[0m \u001b[43m]\u001b[49m\u001b[43m)\u001b[49m\n",
      "File \u001b[0;32m~/code/sqlite-utils/sqlite_utils/db.py:1031\u001b[0m, in \u001b[0;36mDatabase.add_foreign_keys\u001b[0;34m(self, foreign_keys)\u001b[0m\n\u001b[1;32m   1029\u001b[0m cursor\u001b[38;5;241m.\u001b[39mexecute(\u001b[38;5;124m\"\u001b[39m\u001b[38;5;124mPRAGMA writable_schema = 1\u001b[39m\u001b[38;5;124m\"\u001b[39m)\n\u001b[1;32m   1030\u001b[0m \u001b[38;5;28;01mfor\u001b[39;00m table_name, new_sql \u001b[38;5;129;01min\u001b[39;00m table_sql\u001b[38;5;241m.\u001b[39mitems():\n\u001b[0;32m-> 1031\u001b[0m     \u001b[43mcursor\u001b[49m\u001b[38;5;241;43m.\u001b[39;49m\u001b[43mexecute\u001b[49m\u001b[43m(\u001b[49m\n\u001b[1;32m   1032\u001b[0m \u001b[43m        \u001b[49m\u001b[38;5;124;43m\"\u001b[39;49m\u001b[38;5;124;43mUPDATE sqlite_master SET sql = ? WHERE name = ?\u001b[39;49m\u001b[38;5;124;43m\"\u001b[39;49m\u001b[43m,\u001b[49m\n\u001b[1;32m   1033\u001b[0m \u001b[43m        \u001b[49m\u001b[43m(\u001b[49m\u001b[43mnew_sql\u001b[49m\u001b[43m,\u001b[49m\u001b[43m \u001b[49m\u001b[43mtable_name\u001b[49m\u001b[43m)\u001b[49m\u001b[43m,\u001b[49m\n\u001b[1;32m   1034\u001b[0m \u001b[43m    \u001b[49m\u001b[43m)\u001b[49m\n\u001b[1;32m   1035\u001b[0m cursor\u001b[38;5;241m.\u001b[39mexecute(\u001b[38;5;124m\"\u001b[39m\u001b[38;5;124mPRAGMA schema_version = \u001b[39m\u001b[38;5;132;01m%d\u001b[39;00m\u001b[38;5;124m\"\u001b[39m \u001b[38;5;241m%\u001b[39m (schema_version \u001b[38;5;241m+\u001b[39m \u001b[38;5;241m1\u001b[39m))\n\u001b[1;32m   1036\u001b[0m cursor\u001b[38;5;241m.\u001b[39mexecute(\u001b[38;5;124m\"\u001b[39m\u001b[38;5;124mPRAGMA writable_schema = 0\u001b[39m\u001b[38;5;124m\"\u001b[39m)\n",
      "\u001b[0;31mOperationalError\u001b[0m: table sqlite_master may not be modified"
     ]
    }
   ],
   "source": [
    "db = Database(\"dogs.db\")\n",
    "db.add_foreign_keys([\n",
    "    (\"dogs\", \"breed_id\", \"breeds\", \"id\"),\n",
    "    (\"dogs\", \"home_town_id\", \"towns\", \"id\")\n",
    "])"
   ]
  },
  {
   "cell_type": "markdown",
   "metadata": {},
   "source": [
    "This method runs the same checks as `.add_foreign_keys()` and will raise `sqlite_utils.db.AlterError` if those checks fail."
   ]
  },
  {
   "cell_type": "markdown",
   "metadata": {},
   "source": [
    "### Adding indexes for all foreign keys"
   ]
  },
  {
   "cell_type": "markdown",
   "metadata": {},
   "source": [
    "If you want to ensure that every foreign key column in your database has a corresponding index, you can do so like this:"
   ]
  },
  {
   "cell_type": "code",
   "execution_count": null,
   "metadata": {},
   "outputs": [],
   "source": [
    "db.index_foreign_keys()"
   ]
  },
  {
   "cell_type": "markdown",
   "metadata": {},
   "source": [
    "## Dropping a table or view"
   ]
  },
  {
   "cell_type": "markdown",
   "metadata": {},
   "source": [
    "You can drop a table or view using the `.drop()` method:"
   ]
  },
  {
   "cell_type": "code",
   "execution_count": null,
   "metadata": {},
   "outputs": [],
   "source": [
    "#|hide\n",
    "recreate_dogs_db()"
   ]
  },
  {
   "cell_type": "code",
   "execution_count": null,
   "metadata": {},
   "outputs": [],
   "source": [
    "db = Database(\"dogs.db\")"
   ]
  },
  {
   "cell_type": "code",
   "execution_count": null,
   "metadata": {},
   "outputs": [],
   "source": [
    "db[\"dogs\"].drop()"
   ]
  },
  {
   "cell_type": "markdown",
   "metadata": {},
   "source": [
    "Pass `ignore=True` if you want to ignore the error caused by the table or view not existing."
   ]
  },
  {
   "cell_type": "code",
   "execution_count": null,
   "metadata": {},
   "outputs": [],
   "source": [
    "db[\"dogs\"].drop(ignore=True)"
   ]
  },
  {
   "cell_type": "markdown",
   "metadata": {},
   "source": [
    "## Transforming a table"
   ]
  },
  {
   "cell_type": "markdown",
   "metadata": {},
   "source": [
    "The SQLite `ALTER TABLE` statement is limited. It can add and drop columns and rename tables, but it cannot change column types, change `NOT NULL` status or change the primary key for a table."
   ]
  },
  {
   "cell_type": "markdown",
   "metadata": {},
   "source": [
    "The `table.transform()` method can do all of these things, by implementing a multi-step pattern `described in the SQLite documentation`:"
   ]
  },
  {
   "cell_type": "markdown",
   "metadata": {},
   "source": [
    "1. Start a transaction\n",
    "2. `CREATE TABLE tablename_new_x123` with the required changes\n",
    "3. Copy the old data into the new table using `INSERT INTO tablename_new_x123 SELECT * FROM tablename;`\n",
    "4. `DROP TABLE tablename;`\n",
    "5. `ALTER TABLE tablename_new_x123 RENAME TO tablename;`\n",
    "6. Commit the transaction"
   ]
  },
  {
   "cell_type": "markdown",
   "metadata": {},
   "source": [
    "The `.transform()` method takes a number of parameters, all of which are optional."
   ]
  },
  {
   "cell_type": "markdown",
   "metadata": {},
   "source": [
    "### Altering column types"
   ]
  },
  {
   "cell_type": "markdown",
   "metadata": {},
   "source": [
    "To alter the type of a column, use the `types=` argument:"
   ]
  },
  {
   "cell_type": "code",
   "execution_count": null,
   "metadata": {},
   "outputs": [],
   "source": [
    "#|hide\n",
    "recreate_dogs_db()\n",
    "Database(\"dogs.db\")[\"dogs\"].add_column(\"weight\", int)\n",
    "db = Database(\"dogs.db\")\n",
    "table = db[\"dogs\"]"
   ]
  },
  {
   "cell_type": "code",
   "execution_count": null,
   "metadata": {},
   "outputs": [],
   "source": [
    "# Convert the 'age' column to an integer, and 'weight' to a float\n",
    "table.transform(types={\"age\": int, \"weight\": float});"
   ]
  },
  {
   "cell_type": "markdown",
   "metadata": {},
   "source": [
    "See `python_api_add_column` for a list of available types."
   ]
  },
  {
   "cell_type": "markdown",
   "metadata": {},
   "source": [
    "### Renaming columns"
   ]
  },
  {
   "cell_type": "markdown",
   "metadata": {},
   "source": [
    "The `rename=` parameter can rename columns:"
   ]
  },
  {
   "cell_type": "code",
   "execution_count": null,
   "metadata": {},
   "outputs": [],
   "source": [
    "# Rename 'age' to 'initial_age':\n",
    "table.transform(rename={\"age\": \"initial_age\"});"
   ]
  },
  {
   "cell_type": "markdown",
   "metadata": {},
   "source": [
    "### Dropping columns"
   ]
  },
  {
   "cell_type": "markdown",
   "metadata": {},
   "source": [
    "To drop columns, pass them in the `drop=` set:"
   ]
  },
  {
   "cell_type": "code",
   "execution_count": null,
   "metadata": {},
   "outputs": [],
   "source": [
    "# Drop the 'age' column:\n",
    "table.transform(drop={\"age\"});"
   ]
  },
  {
   "cell_type": "markdown",
   "metadata": {},
   "source": [
    "### Changing primary keys"
   ]
  },
  {
   "cell_type": "markdown",
   "metadata": {},
   "source": [
    "To change the primary key for a table, use `pk=`. This can be passed a single column for a regular primary key, or a tuple of columns to create a compound primary key. Passing `pk=None` will remove the primary key and convert the table into a `rowid` table."
   ]
  },
  {
   "cell_type": "code",
   "execution_count": null,
   "metadata": {},
   "outputs": [],
   "source": [
    "# Make `user_id` the new primary key\n",
    "table.transform(pk=\"user_id\");"
   ]
  },
  {
   "cell_type": "markdown",
   "metadata": {},
   "source": [
    "### Changing not null status"
   ]
  },
  {
   "cell_type": "markdown",
   "metadata": {},
   "source": [
    "You can change the `NOT NULL` status of columns by using `not_null=`. You can pass this a set of columns to make those columns `NOT NULL`:"
   ]
  },
  {
   "cell_type": "code",
   "execution_count": null,
   "metadata": {},
   "outputs": [],
   "source": [
    "#|hide\n",
    "recreate_dogs_db()\n",
    "table = Database(\"dogs.db\")[\"dogs\"].add_column(\"weight\", int, not_null_default=False)"
   ]
  },
  {
   "cell_type": "code",
   "execution_count": null,
   "metadata": {},
   "outputs": [],
   "source": [
    "# Make the 'age' and 'weight' columns NOT NULL\n",
    "table.transform(not_null={\"age\", \"weight\"});"
   ]
  },
  {
   "cell_type": "markdown",
   "metadata": {},
   "source": [
    "If you want to take existing `NOT NULL` columns and change them to allow null values, you can do so by passing a dictionary of true/false values instead:"
   ]
  },
  {
   "cell_type": "code",
   "execution_count": null,
   "metadata": {},
   "outputs": [],
   "source": [
    "# 'age' is NOT NULL but we want to allow NULL:\n",
    "table.transform(not_null={\"age\": False})\n",
    "\n",
    "# Make age allow NULL and switch weight to being NOT NULL:\n",
    "table.transform(not_null={\"age\": False, \"weight\": True});"
   ]
  },
  {
   "cell_type": "markdown",
   "metadata": {},
   "source": [
    "### Altering column defaults"
   ]
  },
  {
   "cell_type": "markdown",
   "metadata": {},
   "source": [
    "The `defaults=` parameter can be used to set or change the defaults for different columns:"
   ]
  },
  {
   "cell_type": "code",
   "execution_count": null,
   "metadata": {},
   "outputs": [],
   "source": [
    "# Set default age to 1:\n",
    "table.transform(defaults={\"age\": 1})\n",
    "\n",
    "# Now remove the default from that column:\n",
    "table.transform(defaults={\"age\": None});"
   ]
  },
  {
   "cell_type": "markdown",
   "metadata": {},
   "source": [
    "### Changing column order"
   ]
  },
  {
   "cell_type": "markdown",
   "metadata": {},
   "source": [
    "The `column_order=` parameter can be used to change the order of the columns. If you pass the names of a subset of the columns those will go first and columns you omitted will appear in their existing order after them."
   ]
  },
  {
   "cell_type": "code",
   "execution_count": null,
   "metadata": {},
   "outputs": [],
   "source": [
    "# Change column order\n",
    "table.transform(column_order=(\"name\", \"age\", \"id\"));"
   ]
  },
  {
   "cell_type": "markdown",
   "metadata": {},
   "source": [
    "### Dropping foreign key constraints"
   ]
  },
  {
   "cell_type": "markdown",
   "metadata": {},
   "source": [
    "You can use `.transform()` to remove foreign key constraints from a table."
   ]
  },
  {
   "cell_type": "markdown",
   "metadata": {},
   "source": [
    "This example drops two foreign keys - the one from `places.country` to `country.id` and the one from `places.continent` to `continent.id`:"
   ]
  },
  {
   "cell_type": "code",
   "execution_count": null,
   "metadata": {},
   "outputs": [],
   "source": [
    "#|hide\n",
    "db = Database(memory=True)\n",
    "db.create_table(\"countrys\", {\"id\": int}, pk=\"id\")\n",
    "db.create_table(\"continents\", {\"id\": int}, pk=\"id\")\n",
    "db.create_table(\"places\", {\"country\": int, \"continent\": int}, foreign_keys=[\"country\", \"continent\"]);"
   ]
  },
  {
   "cell_type": "code",
   "execution_count": null,
   "metadata": {},
   "outputs": [],
   "source": [
    "db[\"places\"].transform(\n",
    "    drop_foreign_keys=(\"country\", \"continent\")\n",
    ");"
   ]
  },
  {
   "cell_type": "markdown",
   "metadata": {},
   "source": [
    "### Custom transformations with .transform_sql()"
   ]
  },
  {
   "cell_type": "markdown",
   "metadata": {},
   "source": [
    "The `.transform()` method can handle most cases, but it does not automatically upgrade indexes, views or triggers associated with the table that is being transformed."
   ]
  },
  {
   "cell_type": "markdown",
   "metadata": {},
   "source": [
    "If you want to do something more advanced, you can call the `table.transform_sql(...)` method with the same arguments that you would have passed to `table.transform(...)`."
   ]
  },
  {
   "cell_type": "markdown",
   "metadata": {},
   "source": [
    "This method will return a list of SQL statements that should be executed to implement the change. You can then make modifications to that SQL - or add additional SQL statements - before executing it yourself."
   ]
  },
  {
   "cell_type": "markdown",
   "metadata": {},
   "source": [
    "## Extracting columns into a separate table"
   ]
  },
  {
   "cell_type": "markdown",
   "metadata": {},
   "source": [
    "The `table.extract()` method can be used to extract specified columns into a separate table."
   ]
  },
  {
   "cell_type": "markdown",
   "metadata": {},
   "source": [
    "Imagine a `Trees` table that looks like this:"
   ]
  },
  {
   "cell_type": "code",
   "execution_count": null,
   "metadata": {},
   "outputs": [],
   "source": [
    "#|hide\n",
    "def create_trees_db():\n",
    "    db = Database(memory=True)\n",
    "    db[\"Trees\"].insert_all([\n",
    "        {\"id\": 1, \"TreeAddress\": \"52 Vine St\", \"Species\": \"Palm\"},\n",
    "        {\"id\": 2, \"TreeAddress\": \"12 Draft St\", \"Species\": \"Oak\"},\n",
    "        {\"id\": 3, \"TreeAddress\": \"51 Dark Ave\", \"Species\": \"Palm\"},\n",
    "        {\"id\": 4, \"TreeAddress\": \"1252 Left St\", \"Species\": \"Palm\"}],\n",
    "        pk=\"id\")\n",
    "    return db"
   ]
  },
  {
   "cell_type": "code",
   "execution_count": null,
   "metadata": {},
   "outputs": [],
   "source": [
    "#|hide\n",
    "from IPython.display import HTML"
   ]
  },
  {
   "cell_type": "code",
   "execution_count": null,
   "metadata": {},
   "outputs": [],
   "source": [
    "#|hide\n",
    "def _tr(row): return ''.join('<td>' + str(v) + '</td>' for v in row.values())"
   ]
  },
  {
   "cell_type": "code",
   "execution_count": null,
   "metadata": {},
   "outputs": [],
   "source": [
    "#|hide\n",
    "def show_table(rows):\n",
    "    rows = list(rows)\n",
    "    thead = '<thead><tr>' + ''.join(f'<th>{k}</th>' for k in rows[0].keys()) + '</tr></thead>'\n",
    "    tbody = '<tbody>' + ''.join(f'<tr>{_tr(row)}</tr>' for row in rows) + '</tbody>'\n",
    "    table = '<table>' + thead + tbody + '</table>'\n",
    "    return HTML(table)"
   ]
  },
  {
   "cell_type": "code",
   "execution_count": null,
   "metadata": {},
   "outputs": [],
   "source": [
    "#|hide\n",
    "db = create_trees_db()"
   ]
  },
  {
   "cell_type": "code",
   "execution_count": null,
   "metadata": {},
   "outputs": [
    {
     "data": {
      "text/html": [
       "<table><thead><tr><th>id</th><th>TreeAddress</th><th>Species</th></tr></thead><tbody><tr><td>1</td><td>52 Vine St</td><td>Palm</td></tr><tr><td>2</td><td>12 Draft St</td><td>Oak</td></tr><tr><td>3</td><td>51 Dark Ave</td><td>Palm</td></tr><tr><td>4</td><td>1252 Left St</td><td>Palm</td></tr></tbody></table>"
      ],
      "text/plain": [
       "<IPython.core.display.HTML object>"
      ]
     },
     "execution_count": null,
     "metadata": {},
     "output_type": "execute_result"
    }
   ],
   "source": [
    "show_table(db[\"Trees\"].rows)"
   ]
  },
  {
   "cell_type": "markdown",
   "metadata": {},
   "source": [
    "The `Species` column contains duplicate values. This database could be improved by extracting that column out into a separate `Species` table and pointing to it using a foreign key column."
   ]
  },
  {
   "cell_type": "markdown",
   "metadata": {},
   "source": [
    "The schema of the above table is:"
   ]
  },
  {
   "cell_type": "code",
   "execution_count": null,
   "metadata": {},
   "outputs": [
    {
     "name": "stdout",
     "output_type": "stream",
     "text": [
      "CREATE TABLE [Trees] (\n",
      "   [id] INTEGER PRIMARY KEY,\n",
      "   [TreeAddress] TEXT,\n",
      "   [Species] TEXT\n",
      ")\n"
     ]
    }
   ],
   "source": [
    "print(db[\"Trees\"].schema)"
   ]
  },
  {
   "cell_type": "markdown",
   "metadata": {},
   "source": [
    "Here's how to extract the `Species` column using `.extract()`:"
   ]
  },
  {
   "cell_type": "code",
   "execution_count": null,
   "metadata": {},
   "outputs": [
    {
     "ename": "OperationalError",
     "evalue": "table sqlite_master may not be modified",
     "output_type": "error",
     "traceback": [
      "\u001b[0;31m---------------------------------------------------------------------------\u001b[0m",
      "\u001b[0;31mOperationalError\u001b[0m                          Traceback (most recent call last)",
      "Input \u001b[0;32mIn [392]\u001b[0m, in \u001b[0;36m<cell line: 1>\u001b[0;34m()\u001b[0m\n\u001b[0;32m----> 1\u001b[0m \u001b[43mdb\u001b[49m\u001b[43m[\u001b[49m\u001b[38;5;124;43m\"\u001b[39;49m\u001b[38;5;124;43mTrees\u001b[39;49m\u001b[38;5;124;43m\"\u001b[39;49m\u001b[43m]\u001b[49m\u001b[38;5;241;43m.\u001b[39;49m\u001b[43mextract\u001b[49m\u001b[43m(\u001b[49m\u001b[38;5;124;43m\"\u001b[39;49m\u001b[38;5;124;43mSpecies\u001b[39;49m\u001b[38;5;124;43m\"\u001b[39;49m\u001b[43m)\u001b[49m\n",
      "File \u001b[0;32m~/code/sqlite-utils/sqlite_utils/db.py:1822\u001b[0m, in \u001b[0;36mTable.extract\u001b[0;34m(self, columns, table, fk_column, rename)\u001b[0m\n\u001b[1;32m   1815\u001b[0m \u001b[38;5;28mself\u001b[39m\u001b[38;5;241m.\u001b[39mtransform(\n\u001b[1;32m   1816\u001b[0m     drop\u001b[38;5;241m=\u001b[39m\u001b[38;5;28mset\u001b[39m(columns),\n\u001b[1;32m   1817\u001b[0m     rename\u001b[38;5;241m=\u001b[39m{magic_lookup_column: fk_column},\n\u001b[1;32m   1818\u001b[0m     column_order\u001b[38;5;241m=\u001b[39mcolumn_order,\n\u001b[1;32m   1819\u001b[0m )\n\u001b[1;32m   1821\u001b[0m \u001b[38;5;66;03m# And add the foreign key constraint\u001b[39;00m\n\u001b[0;32m-> 1822\u001b[0m \u001b[38;5;28;43mself\u001b[39;49m\u001b[38;5;241;43m.\u001b[39;49m\u001b[43madd_foreign_key\u001b[49m\u001b[43m(\u001b[49m\u001b[43mfk_column\u001b[49m\u001b[43m,\u001b[49m\u001b[43m \u001b[49m\u001b[43mtable\u001b[49m\u001b[43m,\u001b[49m\u001b[43m \u001b[49m\u001b[38;5;124;43m\"\u001b[39;49m\u001b[38;5;124;43mid\u001b[39;49m\u001b[38;5;124;43m\"\u001b[39;49m\u001b[43m)\u001b[49m\n\u001b[1;32m   1823\u001b[0m \u001b[38;5;28;01mreturn\u001b[39;00m \u001b[38;5;28mself\u001b[39m\n",
      "File \u001b[0;32m~/code/sqlite-utils/sqlite_utils/db.py:2055\u001b[0m, in \u001b[0;36mTable.add_foreign_key\u001b[0;34m(self, column, other_table, other_column, ignore)\u001b[0m\n\u001b[1;32m   2049\u001b[0m     \u001b[38;5;28;01melse\u001b[39;00m:\n\u001b[1;32m   2050\u001b[0m         \u001b[38;5;28;01mraise\u001b[39;00m AlterError(\n\u001b[1;32m   2051\u001b[0m             \u001b[38;5;124m\"\u001b[39m\u001b[38;5;124mForeign key already exists for \u001b[39m\u001b[38;5;132;01m{}\u001b[39;00m\u001b[38;5;124m => \u001b[39m\u001b[38;5;132;01m{}\u001b[39;00m\u001b[38;5;124m.\u001b[39m\u001b[38;5;132;01m{}\u001b[39;00m\u001b[38;5;124m\"\u001b[39m\u001b[38;5;241m.\u001b[39mformat(\n\u001b[1;32m   2052\u001b[0m                 column, other_table, other_column\n\u001b[1;32m   2053\u001b[0m             )\n\u001b[1;32m   2054\u001b[0m         )\n\u001b[0;32m-> 2055\u001b[0m \u001b[38;5;28;43mself\u001b[39;49m\u001b[38;5;241;43m.\u001b[39;49m\u001b[43mdb\u001b[49m\u001b[38;5;241;43m.\u001b[39;49m\u001b[43madd_foreign_keys\u001b[49m\u001b[43m(\u001b[49m\u001b[43m[\u001b[49m\u001b[43m(\u001b[49m\u001b[38;5;28;43mself\u001b[39;49m\u001b[38;5;241;43m.\u001b[39;49m\u001b[43mname\u001b[49m\u001b[43m,\u001b[49m\u001b[43m \u001b[49m\u001b[43mcolumn\u001b[49m\u001b[43m,\u001b[49m\u001b[43m \u001b[49m\u001b[43mother_table\u001b[49m\u001b[43m,\u001b[49m\u001b[43m \u001b[49m\u001b[43mother_column\u001b[49m\u001b[43m)\u001b[49m\u001b[43m]\u001b[49m\u001b[43m)\u001b[49m\n\u001b[1;32m   2056\u001b[0m \u001b[38;5;28;01mreturn\u001b[39;00m \u001b[38;5;28mself\u001b[39m\n",
      "File \u001b[0;32m~/code/sqlite-utils/sqlite_utils/db.py:1031\u001b[0m, in \u001b[0;36mDatabase.add_foreign_keys\u001b[0;34m(self, foreign_keys)\u001b[0m\n\u001b[1;32m   1029\u001b[0m cursor\u001b[38;5;241m.\u001b[39mexecute(\u001b[38;5;124m\"\u001b[39m\u001b[38;5;124mPRAGMA writable_schema = 1\u001b[39m\u001b[38;5;124m\"\u001b[39m)\n\u001b[1;32m   1030\u001b[0m \u001b[38;5;28;01mfor\u001b[39;00m table_name, new_sql \u001b[38;5;129;01min\u001b[39;00m table_sql\u001b[38;5;241m.\u001b[39mitems():\n\u001b[0;32m-> 1031\u001b[0m     \u001b[43mcursor\u001b[49m\u001b[38;5;241;43m.\u001b[39;49m\u001b[43mexecute\u001b[49m\u001b[43m(\u001b[49m\n\u001b[1;32m   1032\u001b[0m \u001b[43m        \u001b[49m\u001b[38;5;124;43m\"\u001b[39;49m\u001b[38;5;124;43mUPDATE sqlite_master SET sql = ? WHERE name = ?\u001b[39;49m\u001b[38;5;124;43m\"\u001b[39;49m\u001b[43m,\u001b[49m\n\u001b[1;32m   1033\u001b[0m \u001b[43m        \u001b[49m\u001b[43m(\u001b[49m\u001b[43mnew_sql\u001b[49m\u001b[43m,\u001b[49m\u001b[43m \u001b[49m\u001b[43mtable_name\u001b[49m\u001b[43m)\u001b[49m\u001b[43m,\u001b[49m\n\u001b[1;32m   1034\u001b[0m \u001b[43m    \u001b[49m\u001b[43m)\u001b[49m\n\u001b[1;32m   1035\u001b[0m cursor\u001b[38;5;241m.\u001b[39mexecute(\u001b[38;5;124m\"\u001b[39m\u001b[38;5;124mPRAGMA schema_version = \u001b[39m\u001b[38;5;132;01m%d\u001b[39;00m\u001b[38;5;124m\"\u001b[39m \u001b[38;5;241m%\u001b[39m (schema_version \u001b[38;5;241m+\u001b[39m \u001b[38;5;241m1\u001b[39m))\n\u001b[1;32m   1036\u001b[0m cursor\u001b[38;5;241m.\u001b[39mexecute(\u001b[38;5;124m\"\u001b[39m\u001b[38;5;124mPRAGMA writable_schema = 0\u001b[39m\u001b[38;5;124m\"\u001b[39m)\n",
      "\u001b[0;31mOperationalError\u001b[0m: table sqlite_master may not be modified"
     ]
    }
   ],
   "source": [
    "db[\"Trees\"].extract(\"Species\")"
   ]
  },
  {
   "cell_type": "markdown",
   "metadata": {},
   "source": [
    "After running this code the table schema now looks like this:"
   ]
  },
  {
   "cell_type": "code",
   "execution_count": null,
   "metadata": {},
   "outputs": [
    {
     "name": "stdout",
     "output_type": "stream",
     "text": [
      "CREATE TABLE \"Trees\" (\n",
      "   [id] INTEGER PRIMARY KEY,\n",
      "   [TreeAddress] TEXT,\n",
      "   [Species_id] INTEGER\n",
      ")\n"
     ]
    }
   ],
   "source": [
    "print(db[\"Trees\"].schema)"
   ]
  },
  {
   "cell_type": "code",
   "execution_count": null,
   "metadata": {},
   "outputs": [],
   "source": [
    "#|hide\n",
    "# CREATE TABLE \"Trees\" (\n",
    "#     [id] INTEGER PRIMARY KEY,\n",
    "#     [TreeAddress] TEXT,\n",
    "#     [Species_id] INTEGER,\n",
    "#     FOREIGN KEY(Species_id) REFERENCES Species(id)\n",
    "# )"
   ]
  },
  {
   "cell_type": "markdown",
   "metadata": {},
   "source": [
    "A new `Species` table will have been created with the following schema:"
   ]
  },
  {
   "cell_type": "code",
   "execution_count": null,
   "metadata": {},
   "outputs": [
    {
     "name": "stdout",
     "output_type": "stream",
     "text": [
      "CREATE TABLE [Species] (\n",
      "   [id] INTEGER PRIMARY KEY,\n",
      "   [Species] TEXT\n",
      ")\n"
     ]
    }
   ],
   "source": [
    "print(db[\"Species\"].schema)"
   ]
  },
  {
   "cell_type": "code",
   "execution_count": null,
   "metadata": {},
   "outputs": [],
   "source": [
    "#|hide\n",
    "# CREATE TABLE [Species] (\n",
    "#     [id] INTEGER PRIMARY KEY,\n",
    "#     [Species] TEXT\n",
    "# )"
   ]
  },
  {
   "cell_type": "markdown",
   "metadata": {},
   "source": [
    "The `.extract()` method defaults to creating a table with the same name as the column that was extracted, and adding a foreign key column called `tablename_id`."
   ]
  },
  {
   "cell_type": "markdown",
   "metadata": {},
   "source": [
    "You can specify a custom table name using `table=`, and a custom foreign key name using `fk_column=`. This example creates a table called `tree_species` and a foreign key column called `tree_species_id`:"
   ]
  },
  {
   "cell_type": "code",
   "execution_count": null,
   "metadata": {},
   "outputs": [],
   "source": [
    "#|hide\n",
    "db = create_trees_db()"
   ]
  },
  {
   "cell_type": "code",
   "execution_count": null,
   "metadata": {},
   "outputs": [
    {
     "ename": "OperationalError",
     "evalue": "table sqlite_master may not be modified",
     "output_type": "error",
     "traceback": [
      "\u001b[0;31m---------------------------------------------------------------------------\u001b[0m",
      "\u001b[0;31mOperationalError\u001b[0m                          Traceback (most recent call last)",
      "Input \u001b[0;32mIn [398]\u001b[0m, in \u001b[0;36m<cell line: 1>\u001b[0;34m()\u001b[0m\n\u001b[0;32m----> 1\u001b[0m \u001b[43mdb\u001b[49m\u001b[43m[\u001b[49m\u001b[38;5;124;43m\"\u001b[39;49m\u001b[38;5;124;43mTrees\u001b[39;49m\u001b[38;5;124;43m\"\u001b[39;49m\u001b[43m]\u001b[49m\u001b[38;5;241;43m.\u001b[39;49m\u001b[43mextract\u001b[49m\u001b[43m(\u001b[49m\u001b[38;5;124;43m\"\u001b[39;49m\u001b[38;5;124;43mSpecies\u001b[39;49m\u001b[38;5;124;43m\"\u001b[39;49m\u001b[43m,\u001b[49m\u001b[43m \u001b[49m\u001b[43mtable\u001b[49m\u001b[38;5;241;43m=\u001b[39;49m\u001b[38;5;124;43m\"\u001b[39;49m\u001b[38;5;124;43mtree_species\u001b[39;49m\u001b[38;5;124;43m\"\u001b[39;49m\u001b[43m,\u001b[49m\u001b[43m \u001b[49m\u001b[43mfk_column\u001b[49m\u001b[38;5;241;43m=\u001b[39;49m\u001b[38;5;124;43m\"\u001b[39;49m\u001b[38;5;124;43mtree_species_id\u001b[39;49m\u001b[38;5;124;43m\"\u001b[39;49m\u001b[43m)\u001b[49m\n",
      "File \u001b[0;32m~/code/sqlite-utils/sqlite_utils/db.py:1822\u001b[0m, in \u001b[0;36mTable.extract\u001b[0;34m(self, columns, table, fk_column, rename)\u001b[0m\n\u001b[1;32m   1815\u001b[0m \u001b[38;5;28mself\u001b[39m\u001b[38;5;241m.\u001b[39mtransform(\n\u001b[1;32m   1816\u001b[0m     drop\u001b[38;5;241m=\u001b[39m\u001b[38;5;28mset\u001b[39m(columns),\n\u001b[1;32m   1817\u001b[0m     rename\u001b[38;5;241m=\u001b[39m{magic_lookup_column: fk_column},\n\u001b[1;32m   1818\u001b[0m     column_order\u001b[38;5;241m=\u001b[39mcolumn_order,\n\u001b[1;32m   1819\u001b[0m )\n\u001b[1;32m   1821\u001b[0m \u001b[38;5;66;03m# And add the foreign key constraint\u001b[39;00m\n\u001b[0;32m-> 1822\u001b[0m \u001b[38;5;28;43mself\u001b[39;49m\u001b[38;5;241;43m.\u001b[39;49m\u001b[43madd_foreign_key\u001b[49m\u001b[43m(\u001b[49m\u001b[43mfk_column\u001b[49m\u001b[43m,\u001b[49m\u001b[43m \u001b[49m\u001b[43mtable\u001b[49m\u001b[43m,\u001b[49m\u001b[43m \u001b[49m\u001b[38;5;124;43m\"\u001b[39;49m\u001b[38;5;124;43mid\u001b[39;49m\u001b[38;5;124;43m\"\u001b[39;49m\u001b[43m)\u001b[49m\n\u001b[1;32m   1823\u001b[0m \u001b[38;5;28;01mreturn\u001b[39;00m \u001b[38;5;28mself\u001b[39m\n",
      "File \u001b[0;32m~/code/sqlite-utils/sqlite_utils/db.py:2055\u001b[0m, in \u001b[0;36mTable.add_foreign_key\u001b[0;34m(self, column, other_table, other_column, ignore)\u001b[0m\n\u001b[1;32m   2049\u001b[0m     \u001b[38;5;28;01melse\u001b[39;00m:\n\u001b[1;32m   2050\u001b[0m         \u001b[38;5;28;01mraise\u001b[39;00m AlterError(\n\u001b[1;32m   2051\u001b[0m             \u001b[38;5;124m\"\u001b[39m\u001b[38;5;124mForeign key already exists for \u001b[39m\u001b[38;5;132;01m{}\u001b[39;00m\u001b[38;5;124m => \u001b[39m\u001b[38;5;132;01m{}\u001b[39;00m\u001b[38;5;124m.\u001b[39m\u001b[38;5;132;01m{}\u001b[39;00m\u001b[38;5;124m\"\u001b[39m\u001b[38;5;241m.\u001b[39mformat(\n\u001b[1;32m   2052\u001b[0m                 column, other_table, other_column\n\u001b[1;32m   2053\u001b[0m             )\n\u001b[1;32m   2054\u001b[0m         )\n\u001b[0;32m-> 2055\u001b[0m \u001b[38;5;28;43mself\u001b[39;49m\u001b[38;5;241;43m.\u001b[39;49m\u001b[43mdb\u001b[49m\u001b[38;5;241;43m.\u001b[39;49m\u001b[43madd_foreign_keys\u001b[49m\u001b[43m(\u001b[49m\u001b[43m[\u001b[49m\u001b[43m(\u001b[49m\u001b[38;5;28;43mself\u001b[39;49m\u001b[38;5;241;43m.\u001b[39;49m\u001b[43mname\u001b[49m\u001b[43m,\u001b[49m\u001b[43m \u001b[49m\u001b[43mcolumn\u001b[49m\u001b[43m,\u001b[49m\u001b[43m \u001b[49m\u001b[43mother_table\u001b[49m\u001b[43m,\u001b[49m\u001b[43m \u001b[49m\u001b[43mother_column\u001b[49m\u001b[43m)\u001b[49m\u001b[43m]\u001b[49m\u001b[43m)\u001b[49m\n\u001b[1;32m   2056\u001b[0m \u001b[38;5;28;01mreturn\u001b[39;00m \u001b[38;5;28mself\u001b[39m\n",
      "File \u001b[0;32m~/code/sqlite-utils/sqlite_utils/db.py:1031\u001b[0m, in \u001b[0;36mDatabase.add_foreign_keys\u001b[0;34m(self, foreign_keys)\u001b[0m\n\u001b[1;32m   1029\u001b[0m cursor\u001b[38;5;241m.\u001b[39mexecute(\u001b[38;5;124m\"\u001b[39m\u001b[38;5;124mPRAGMA writable_schema = 1\u001b[39m\u001b[38;5;124m\"\u001b[39m)\n\u001b[1;32m   1030\u001b[0m \u001b[38;5;28;01mfor\u001b[39;00m table_name, new_sql \u001b[38;5;129;01min\u001b[39;00m table_sql\u001b[38;5;241m.\u001b[39mitems():\n\u001b[0;32m-> 1031\u001b[0m     \u001b[43mcursor\u001b[49m\u001b[38;5;241;43m.\u001b[39;49m\u001b[43mexecute\u001b[49m\u001b[43m(\u001b[49m\n\u001b[1;32m   1032\u001b[0m \u001b[43m        \u001b[49m\u001b[38;5;124;43m\"\u001b[39;49m\u001b[38;5;124;43mUPDATE sqlite_master SET sql = ? WHERE name = ?\u001b[39;49m\u001b[38;5;124;43m\"\u001b[39;49m\u001b[43m,\u001b[49m\n\u001b[1;32m   1033\u001b[0m \u001b[43m        \u001b[49m\u001b[43m(\u001b[49m\u001b[43mnew_sql\u001b[49m\u001b[43m,\u001b[49m\u001b[43m \u001b[49m\u001b[43mtable_name\u001b[49m\u001b[43m)\u001b[49m\u001b[43m,\u001b[49m\n\u001b[1;32m   1034\u001b[0m \u001b[43m    \u001b[49m\u001b[43m)\u001b[49m\n\u001b[1;32m   1035\u001b[0m cursor\u001b[38;5;241m.\u001b[39mexecute(\u001b[38;5;124m\"\u001b[39m\u001b[38;5;124mPRAGMA schema_version = \u001b[39m\u001b[38;5;132;01m%d\u001b[39;00m\u001b[38;5;124m\"\u001b[39m \u001b[38;5;241m%\u001b[39m (schema_version \u001b[38;5;241m+\u001b[39m \u001b[38;5;241m1\u001b[39m))\n\u001b[1;32m   1036\u001b[0m cursor\u001b[38;5;241m.\u001b[39mexecute(\u001b[38;5;124m\"\u001b[39m\u001b[38;5;124mPRAGMA writable_schema = 0\u001b[39m\u001b[38;5;124m\"\u001b[39m)\n",
      "\u001b[0;31mOperationalError\u001b[0m: table sqlite_master may not be modified"
     ]
    }
   ],
   "source": [
    "db[\"Trees\"].extract(\"Species\", table=\"tree_species\", fk_column=\"tree_species_id\")"
   ]
  },
  {
   "cell_type": "markdown",
   "metadata": {},
   "source": [
    "The resulting schema looks like this:"
   ]
  },
  {
   "cell_type": "code",
   "execution_count": null,
   "metadata": {},
   "outputs": [
    {
     "name": "stdout",
     "output_type": "stream",
     "text": [
      "CREATE TABLE \"Trees\" (\n",
      "   [id] INTEGER PRIMARY KEY,\n",
      "   [TreeAddress] TEXT,\n",
      "   [tree_species_id] INTEGER\n",
      ")\n"
     ]
    }
   ],
   "source": [
    "print(db[\"Trees\"].schema)"
   ]
  },
  {
   "cell_type": "code",
   "execution_count": null,
   "metadata": {},
   "outputs": [],
   "source": [
    "#|hide\n",
    "# CREATE TABLE \"Trees\" (\n",
    "#     [id] INTEGER PRIMARY KEY,\n",
    "#     [TreeAddress] TEXT,\n",
    "#     [tree_species_id] INTEGER,\n",
    "#     FOREIGN KEY(tree_species_id) REFERENCES tree_species(id)\n",
    "# )\n",
    "\n",
    "# CREATE TABLE [tree_species] (\n",
    "#     [id] INTEGER PRIMARY KEY,\n",
    "#     [Species] TEXT\n",
    "# )"
   ]
  },
  {
   "cell_type": "markdown",
   "metadata": {},
   "source": [
    "You can also extract multiple columns into the same external table. Say for example you have a table like this:"
   ]
  },
  {
   "cell_type": "code",
   "execution_count": null,
   "metadata": {},
   "outputs": [],
   "source": [
    "#|hide\n",
    "def create_trees_db_with_latinname():\n",
    "    db = create_trees_db()\n",
    "    db[\"Trees\"].transform(rename={\"Species\": \"CommonName\"})\n",
    "    db[\"Trees\"].upsert_all(\n",
    "        [{\"id\": i, \"LatinName\": \"Quercus\" if i == 2 else \"Arecaceae\"} for i in range(1, 5)],\n",
    "        pk=\"id\",\n",
    "        alter=True)\n",
    "    return db\n",
    "db = create_trees_db_with_latinname()"
   ]
  },
  {
   "cell_type": "code",
   "execution_count": null,
   "metadata": {},
   "outputs": [
    {
     "data": {
      "text/html": [
       "<table><thead><tr><th>id</th><th>TreeAddress</th><th>CommonName</th><th>LatinName</th></tr></thead><tbody><tr><td>1</td><td>52 Vine St</td><td>Palm</td><td>Arecaceae</td></tr><tr><td>2</td><td>12 Draft St</td><td>Oak</td><td>Quercus</td></tr><tr><td>3</td><td>51 Dark Ave</td><td>Palm</td><td>Arecaceae</td></tr><tr><td>4</td><td>1252 Left St</td><td>Palm</td><td>Arecaceae</td></tr></tbody></table>"
      ],
      "text/plain": [
       "<IPython.core.display.HTML object>"
      ]
     },
     "execution_count": null,
     "metadata": {},
     "output_type": "execute_result"
    }
   ],
   "source": [
    "show_table(db[\"Trees\"].rows)"
   ]
  },
  {
   "cell_type": "markdown",
   "metadata": {},
   "source": [
    "You can pass `[\"CommonName\", \"LatinName\"]` to `.extract()` to extract both of those columns:"
   ]
  },
  {
   "cell_type": "code",
   "execution_count": null,
   "metadata": {},
   "outputs": [
    {
     "ename": "OperationalError",
     "evalue": "table sqlite_master may not be modified",
     "output_type": "error",
     "traceback": [
      "\u001b[0;31m---------------------------------------------------------------------------\u001b[0m",
      "\u001b[0;31mOperationalError\u001b[0m                          Traceback (most recent call last)",
      "Input \u001b[0;32mIn [426]\u001b[0m, in \u001b[0;36m<cell line: 1>\u001b[0;34m()\u001b[0m\n\u001b[0;32m----> 1\u001b[0m \u001b[43mdb\u001b[49m\u001b[43m[\u001b[49m\u001b[38;5;124;43m\"\u001b[39;49m\u001b[38;5;124;43mTrees\u001b[39;49m\u001b[38;5;124;43m\"\u001b[39;49m\u001b[43m]\u001b[49m\u001b[38;5;241;43m.\u001b[39;49m\u001b[43mextract\u001b[49m\u001b[43m(\u001b[49m\u001b[43m[\u001b[49m\u001b[38;5;124;43m\"\u001b[39;49m\u001b[38;5;124;43mCommonName\u001b[39;49m\u001b[38;5;124;43m\"\u001b[39;49m\u001b[43m,\u001b[49m\u001b[43m \u001b[49m\u001b[38;5;124;43m\"\u001b[39;49m\u001b[38;5;124;43mLatinName\u001b[39;49m\u001b[38;5;124;43m\"\u001b[39;49m\u001b[43m]\u001b[49m\u001b[43m)\u001b[49m\n",
      "File \u001b[0;32m~/code/sqlite-utils/sqlite_utils/db.py:1822\u001b[0m, in \u001b[0;36mTable.extract\u001b[0;34m(self, columns, table, fk_column, rename)\u001b[0m\n\u001b[1;32m   1815\u001b[0m \u001b[38;5;28mself\u001b[39m\u001b[38;5;241m.\u001b[39mtransform(\n\u001b[1;32m   1816\u001b[0m     drop\u001b[38;5;241m=\u001b[39m\u001b[38;5;28mset\u001b[39m(columns),\n\u001b[1;32m   1817\u001b[0m     rename\u001b[38;5;241m=\u001b[39m{magic_lookup_column: fk_column},\n\u001b[1;32m   1818\u001b[0m     column_order\u001b[38;5;241m=\u001b[39mcolumn_order,\n\u001b[1;32m   1819\u001b[0m )\n\u001b[1;32m   1821\u001b[0m \u001b[38;5;66;03m# And add the foreign key constraint\u001b[39;00m\n\u001b[0;32m-> 1822\u001b[0m \u001b[38;5;28;43mself\u001b[39;49m\u001b[38;5;241;43m.\u001b[39;49m\u001b[43madd_foreign_key\u001b[49m\u001b[43m(\u001b[49m\u001b[43mfk_column\u001b[49m\u001b[43m,\u001b[49m\u001b[43m \u001b[49m\u001b[43mtable\u001b[49m\u001b[43m,\u001b[49m\u001b[43m \u001b[49m\u001b[38;5;124;43m\"\u001b[39;49m\u001b[38;5;124;43mid\u001b[39;49m\u001b[38;5;124;43m\"\u001b[39;49m\u001b[43m)\u001b[49m\n\u001b[1;32m   1823\u001b[0m \u001b[38;5;28;01mreturn\u001b[39;00m \u001b[38;5;28mself\u001b[39m\n",
      "File \u001b[0;32m~/code/sqlite-utils/sqlite_utils/db.py:2055\u001b[0m, in \u001b[0;36mTable.add_foreign_key\u001b[0;34m(self, column, other_table, other_column, ignore)\u001b[0m\n\u001b[1;32m   2049\u001b[0m     \u001b[38;5;28;01melse\u001b[39;00m:\n\u001b[1;32m   2050\u001b[0m         \u001b[38;5;28;01mraise\u001b[39;00m AlterError(\n\u001b[1;32m   2051\u001b[0m             \u001b[38;5;124m\"\u001b[39m\u001b[38;5;124mForeign key already exists for \u001b[39m\u001b[38;5;132;01m{}\u001b[39;00m\u001b[38;5;124m => \u001b[39m\u001b[38;5;132;01m{}\u001b[39;00m\u001b[38;5;124m.\u001b[39m\u001b[38;5;132;01m{}\u001b[39;00m\u001b[38;5;124m\"\u001b[39m\u001b[38;5;241m.\u001b[39mformat(\n\u001b[1;32m   2052\u001b[0m                 column, other_table, other_column\n\u001b[1;32m   2053\u001b[0m             )\n\u001b[1;32m   2054\u001b[0m         )\n\u001b[0;32m-> 2055\u001b[0m \u001b[38;5;28;43mself\u001b[39;49m\u001b[38;5;241;43m.\u001b[39;49m\u001b[43mdb\u001b[49m\u001b[38;5;241;43m.\u001b[39;49m\u001b[43madd_foreign_keys\u001b[49m\u001b[43m(\u001b[49m\u001b[43m[\u001b[49m\u001b[43m(\u001b[49m\u001b[38;5;28;43mself\u001b[39;49m\u001b[38;5;241;43m.\u001b[39;49m\u001b[43mname\u001b[49m\u001b[43m,\u001b[49m\u001b[43m \u001b[49m\u001b[43mcolumn\u001b[49m\u001b[43m,\u001b[49m\u001b[43m \u001b[49m\u001b[43mother_table\u001b[49m\u001b[43m,\u001b[49m\u001b[43m \u001b[49m\u001b[43mother_column\u001b[49m\u001b[43m)\u001b[49m\u001b[43m]\u001b[49m\u001b[43m)\u001b[49m\n\u001b[1;32m   2056\u001b[0m \u001b[38;5;28;01mreturn\u001b[39;00m \u001b[38;5;28mself\u001b[39m\n",
      "File \u001b[0;32m~/code/sqlite-utils/sqlite_utils/db.py:1031\u001b[0m, in \u001b[0;36mDatabase.add_foreign_keys\u001b[0;34m(self, foreign_keys)\u001b[0m\n\u001b[1;32m   1029\u001b[0m cursor\u001b[38;5;241m.\u001b[39mexecute(\u001b[38;5;124m\"\u001b[39m\u001b[38;5;124mPRAGMA writable_schema = 1\u001b[39m\u001b[38;5;124m\"\u001b[39m)\n\u001b[1;32m   1030\u001b[0m \u001b[38;5;28;01mfor\u001b[39;00m table_name, new_sql \u001b[38;5;129;01min\u001b[39;00m table_sql\u001b[38;5;241m.\u001b[39mitems():\n\u001b[0;32m-> 1031\u001b[0m     \u001b[43mcursor\u001b[49m\u001b[38;5;241;43m.\u001b[39;49m\u001b[43mexecute\u001b[49m\u001b[43m(\u001b[49m\n\u001b[1;32m   1032\u001b[0m \u001b[43m        \u001b[49m\u001b[38;5;124;43m\"\u001b[39;49m\u001b[38;5;124;43mUPDATE sqlite_master SET sql = ? WHERE name = ?\u001b[39;49m\u001b[38;5;124;43m\"\u001b[39;49m\u001b[43m,\u001b[49m\n\u001b[1;32m   1033\u001b[0m \u001b[43m        \u001b[49m\u001b[43m(\u001b[49m\u001b[43mnew_sql\u001b[49m\u001b[43m,\u001b[49m\u001b[43m \u001b[49m\u001b[43mtable_name\u001b[49m\u001b[43m)\u001b[49m\u001b[43m,\u001b[49m\n\u001b[1;32m   1034\u001b[0m \u001b[43m    \u001b[49m\u001b[43m)\u001b[49m\n\u001b[1;32m   1035\u001b[0m cursor\u001b[38;5;241m.\u001b[39mexecute(\u001b[38;5;124m\"\u001b[39m\u001b[38;5;124mPRAGMA schema_version = \u001b[39m\u001b[38;5;132;01m%d\u001b[39;00m\u001b[38;5;124m\"\u001b[39m \u001b[38;5;241m%\u001b[39m (schema_version \u001b[38;5;241m+\u001b[39m \u001b[38;5;241m1\u001b[39m))\n\u001b[1;32m   1036\u001b[0m cursor\u001b[38;5;241m.\u001b[39mexecute(\u001b[38;5;124m\"\u001b[39m\u001b[38;5;124mPRAGMA writable_schema = 0\u001b[39m\u001b[38;5;124m\"\u001b[39m)\n",
      "\u001b[0;31mOperationalError\u001b[0m: table sqlite_master may not be modified"
     ]
    }
   ],
   "source": [
    "db[\"Trees\"].extract([\"CommonName\", \"LatinName\"])"
   ]
  },
  {
   "cell_type": "markdown",
   "metadata": {},
   "source": [
    "This produces the following schema:"
   ]
  },
  {
   "cell_type": "code",
   "execution_count": null,
   "metadata": {},
   "outputs": [
    {
     "name": "stdout",
     "output_type": "stream",
     "text": [
      "CREATE TABLE [CommonName_LatinName] (\n",
      "   [id] INTEGER PRIMARY KEY,\n",
      "   [CommonName] TEXT,\n",
      "   [LatinName] TEXT\n",
      ");\n",
      "CREATE UNIQUE INDEX [idx_CommonName_LatinName_CommonName_LatinName]\n",
      "    ON [CommonName_LatinName] ([CommonName], [LatinName]);\n",
      "CREATE TABLE \"Trees\" (\n",
      "   [id] INTEGER PRIMARY KEY,\n",
      "   [TreeAddress] TEXT,\n",
      "   [CommonName_LatinName_id] INTEGER\n",
      ");\n"
     ]
    }
   ],
   "source": [
    "print(db.schema)"
   ]
  },
  {
   "cell_type": "code",
   "execution_count": null,
   "metadata": {},
   "outputs": [],
   "source": [
    "#|hide\n",
    "# CREATE TABLE \"Trees\" (\n",
    "#     [id] INTEGER PRIMARY KEY,\n",
    "#     [TreeAddress] TEXT,\n",
    "#     [CommonName_LatinName_id] INTEGER,\n",
    "#     FOREIGN KEY(CommonName_LatinName_id) REFERENCES CommonName_LatinName(id)\n",
    "# )\n",
    "# CREATE TABLE [CommonName_LatinName] (\n",
    "#     [id] INTEGER PRIMARY KEY,\n",
    "#     [CommonName] TEXT,\n",
    "#     [LatinName] TEXT\n",
    "# )"
   ]
  },
  {
   "cell_type": "markdown",
   "metadata": {},
   "source": [
    "The table name `CommonName_LatinName` is derived from the extract columns. You can use `table=` and `fk_column=` to specify custom names like this:"
   ]
  },
  {
   "cell_type": "code",
   "execution_count": null,
   "metadata": {},
   "outputs": [],
   "source": [
    "#|hide\n",
    "db = create_trees_db_with_latinname()"
   ]
  },
  {
   "cell_type": "code",
   "execution_count": null,
   "metadata": {},
   "outputs": [
    {
     "ename": "OperationalError",
     "evalue": "table sqlite_master may not be modified",
     "output_type": "error",
     "traceback": [
      "\u001b[0;31m---------------------------------------------------------------------------\u001b[0m",
      "\u001b[0;31mOperationalError\u001b[0m                          Traceback (most recent call last)",
      "Input \u001b[0;32mIn [433]\u001b[0m, in \u001b[0;36m<cell line: 1>\u001b[0;34m()\u001b[0m\n\u001b[0;32m----> 1\u001b[0m \u001b[43mdb\u001b[49m\u001b[43m[\u001b[49m\u001b[38;5;124;43m\"\u001b[39;49m\u001b[38;5;124;43mTrees\u001b[39;49m\u001b[38;5;124;43m\"\u001b[39;49m\u001b[43m]\u001b[49m\u001b[38;5;241;43m.\u001b[39;49m\u001b[43mextract\u001b[49m\u001b[43m(\u001b[49m\u001b[43m[\u001b[49m\u001b[38;5;124;43m\"\u001b[39;49m\u001b[38;5;124;43mCommonName\u001b[39;49m\u001b[38;5;124;43m\"\u001b[39;49m\u001b[43m,\u001b[49m\u001b[43m \u001b[49m\u001b[38;5;124;43m\"\u001b[39;49m\u001b[38;5;124;43mLatinName\u001b[39;49m\u001b[38;5;124;43m\"\u001b[39;49m\u001b[43m]\u001b[49m\u001b[43m,\u001b[49m\u001b[43m \u001b[49m\u001b[43mtable\u001b[49m\u001b[38;5;241;43m=\u001b[39;49m\u001b[38;5;124;43m\"\u001b[39;49m\u001b[38;5;124;43mSpecies\u001b[39;49m\u001b[38;5;124;43m\"\u001b[39;49m\u001b[43m,\u001b[49m\u001b[43m \u001b[49m\u001b[43mfk_column\u001b[49m\u001b[38;5;241;43m=\u001b[39;49m\u001b[38;5;124;43m\"\u001b[39;49m\u001b[38;5;124;43mspecies_id\u001b[39;49m\u001b[38;5;124;43m\"\u001b[39;49m\u001b[43m)\u001b[49m\n",
      "File \u001b[0;32m~/code/sqlite-utils/sqlite_utils/db.py:1822\u001b[0m, in \u001b[0;36mTable.extract\u001b[0;34m(self, columns, table, fk_column, rename)\u001b[0m\n\u001b[1;32m   1815\u001b[0m \u001b[38;5;28mself\u001b[39m\u001b[38;5;241m.\u001b[39mtransform(\n\u001b[1;32m   1816\u001b[0m     drop\u001b[38;5;241m=\u001b[39m\u001b[38;5;28mset\u001b[39m(columns),\n\u001b[1;32m   1817\u001b[0m     rename\u001b[38;5;241m=\u001b[39m{magic_lookup_column: fk_column},\n\u001b[1;32m   1818\u001b[0m     column_order\u001b[38;5;241m=\u001b[39mcolumn_order,\n\u001b[1;32m   1819\u001b[0m )\n\u001b[1;32m   1821\u001b[0m \u001b[38;5;66;03m# And add the foreign key constraint\u001b[39;00m\n\u001b[0;32m-> 1822\u001b[0m \u001b[38;5;28;43mself\u001b[39;49m\u001b[38;5;241;43m.\u001b[39;49m\u001b[43madd_foreign_key\u001b[49m\u001b[43m(\u001b[49m\u001b[43mfk_column\u001b[49m\u001b[43m,\u001b[49m\u001b[43m \u001b[49m\u001b[43mtable\u001b[49m\u001b[43m,\u001b[49m\u001b[43m \u001b[49m\u001b[38;5;124;43m\"\u001b[39;49m\u001b[38;5;124;43mid\u001b[39;49m\u001b[38;5;124;43m\"\u001b[39;49m\u001b[43m)\u001b[49m\n\u001b[1;32m   1823\u001b[0m \u001b[38;5;28;01mreturn\u001b[39;00m \u001b[38;5;28mself\u001b[39m\n",
      "File \u001b[0;32m~/code/sqlite-utils/sqlite_utils/db.py:2055\u001b[0m, in \u001b[0;36mTable.add_foreign_key\u001b[0;34m(self, column, other_table, other_column, ignore)\u001b[0m\n\u001b[1;32m   2049\u001b[0m     \u001b[38;5;28;01melse\u001b[39;00m:\n\u001b[1;32m   2050\u001b[0m         \u001b[38;5;28;01mraise\u001b[39;00m AlterError(\n\u001b[1;32m   2051\u001b[0m             \u001b[38;5;124m\"\u001b[39m\u001b[38;5;124mForeign key already exists for \u001b[39m\u001b[38;5;132;01m{}\u001b[39;00m\u001b[38;5;124m => \u001b[39m\u001b[38;5;132;01m{}\u001b[39;00m\u001b[38;5;124m.\u001b[39m\u001b[38;5;132;01m{}\u001b[39;00m\u001b[38;5;124m\"\u001b[39m\u001b[38;5;241m.\u001b[39mformat(\n\u001b[1;32m   2052\u001b[0m                 column, other_table, other_column\n\u001b[1;32m   2053\u001b[0m             )\n\u001b[1;32m   2054\u001b[0m         )\n\u001b[0;32m-> 2055\u001b[0m \u001b[38;5;28;43mself\u001b[39;49m\u001b[38;5;241;43m.\u001b[39;49m\u001b[43mdb\u001b[49m\u001b[38;5;241;43m.\u001b[39;49m\u001b[43madd_foreign_keys\u001b[49m\u001b[43m(\u001b[49m\u001b[43m[\u001b[49m\u001b[43m(\u001b[49m\u001b[38;5;28;43mself\u001b[39;49m\u001b[38;5;241;43m.\u001b[39;49m\u001b[43mname\u001b[49m\u001b[43m,\u001b[49m\u001b[43m \u001b[49m\u001b[43mcolumn\u001b[49m\u001b[43m,\u001b[49m\u001b[43m \u001b[49m\u001b[43mother_table\u001b[49m\u001b[43m,\u001b[49m\u001b[43m \u001b[49m\u001b[43mother_column\u001b[49m\u001b[43m)\u001b[49m\u001b[43m]\u001b[49m\u001b[43m)\u001b[49m\n\u001b[1;32m   2056\u001b[0m \u001b[38;5;28;01mreturn\u001b[39;00m \u001b[38;5;28mself\u001b[39m\n",
      "File \u001b[0;32m~/code/sqlite-utils/sqlite_utils/db.py:1031\u001b[0m, in \u001b[0;36mDatabase.add_foreign_keys\u001b[0;34m(self, foreign_keys)\u001b[0m\n\u001b[1;32m   1029\u001b[0m cursor\u001b[38;5;241m.\u001b[39mexecute(\u001b[38;5;124m\"\u001b[39m\u001b[38;5;124mPRAGMA writable_schema = 1\u001b[39m\u001b[38;5;124m\"\u001b[39m)\n\u001b[1;32m   1030\u001b[0m \u001b[38;5;28;01mfor\u001b[39;00m table_name, new_sql \u001b[38;5;129;01min\u001b[39;00m table_sql\u001b[38;5;241m.\u001b[39mitems():\n\u001b[0;32m-> 1031\u001b[0m     \u001b[43mcursor\u001b[49m\u001b[38;5;241;43m.\u001b[39;49m\u001b[43mexecute\u001b[49m\u001b[43m(\u001b[49m\n\u001b[1;32m   1032\u001b[0m \u001b[43m        \u001b[49m\u001b[38;5;124;43m\"\u001b[39;49m\u001b[38;5;124;43mUPDATE sqlite_master SET sql = ? WHERE name = ?\u001b[39;49m\u001b[38;5;124;43m\"\u001b[39;49m\u001b[43m,\u001b[49m\n\u001b[1;32m   1033\u001b[0m \u001b[43m        \u001b[49m\u001b[43m(\u001b[49m\u001b[43mnew_sql\u001b[49m\u001b[43m,\u001b[49m\u001b[43m \u001b[49m\u001b[43mtable_name\u001b[49m\u001b[43m)\u001b[49m\u001b[43m,\u001b[49m\n\u001b[1;32m   1034\u001b[0m \u001b[43m    \u001b[49m\u001b[43m)\u001b[49m\n\u001b[1;32m   1035\u001b[0m cursor\u001b[38;5;241m.\u001b[39mexecute(\u001b[38;5;124m\"\u001b[39m\u001b[38;5;124mPRAGMA schema_version = \u001b[39m\u001b[38;5;132;01m%d\u001b[39;00m\u001b[38;5;124m\"\u001b[39m \u001b[38;5;241m%\u001b[39m (schema_version \u001b[38;5;241m+\u001b[39m \u001b[38;5;241m1\u001b[39m))\n\u001b[1;32m   1036\u001b[0m cursor\u001b[38;5;241m.\u001b[39mexecute(\u001b[38;5;124m\"\u001b[39m\u001b[38;5;124mPRAGMA writable_schema = 0\u001b[39m\u001b[38;5;124m\"\u001b[39m)\n",
      "\u001b[0;31mOperationalError\u001b[0m: table sqlite_master may not be modified"
     ]
    }
   ],
   "source": [
    "db[\"Trees\"].extract([\"CommonName\", \"LatinName\"], table=\"Species\", fk_column=\"species_id\")"
   ]
  },
  {
   "cell_type": "markdown",
   "metadata": {},
   "source": [
    "This produces the following schema:"
   ]
  },
  {
   "cell_type": "code",
   "execution_count": null,
   "metadata": {},
   "outputs": [
    {
     "name": "stdout",
     "output_type": "stream",
     "text": [
      "CREATE TABLE [Species] (\n",
      "   [id] INTEGER PRIMARY KEY,\n",
      "   [CommonName] TEXT,\n",
      "   [LatinName] TEXT\n",
      ");\n",
      "CREATE UNIQUE INDEX [idx_Species_CommonName_LatinName]\n",
      "    ON [Species] ([CommonName], [LatinName]);\n",
      "CREATE TABLE \"Trees\" (\n",
      "   [id] INTEGER PRIMARY KEY,\n",
      "   [TreeAddress] TEXT,\n",
      "   [species_id] INTEGER\n",
      ");\n"
     ]
    }
   ],
   "source": [
    "print(db.schema)"
   ]
  },
  {
   "cell_type": "code",
   "execution_count": null,
   "metadata": {},
   "outputs": [],
   "source": [
    "#|hide\n",
    "# CREATE TABLE \"Trees\" (\n",
    "#     [id] INTEGER PRIMARY KEY,\n",
    "#     [TreeAddress] TEXT,\n",
    "#     [species_id] INTEGER,\n",
    "#     FOREIGN KEY(species_id) REFERENCES Species(id)\n",
    "# )\n",
    "# CREATE TABLE [Species] (\n",
    "#     [id] INTEGER PRIMARY KEY,\n",
    "#     [CommonName] TEXT,\n",
    "#     [LatinName] TEXT\n",
    "# )"
   ]
  },
  {
   "cell_type": "markdown",
   "metadata": {},
   "source": [
    "You can use the `rename=` argument to rename columns in the lookup table. To create a `Species` table with columns called `name` and `latin` you can do this:"
   ]
  },
  {
   "cell_type": "code",
   "execution_count": null,
   "metadata": {},
   "outputs": [],
   "source": [
    "#|hide\n",
    "db = create_trees_db_with_latinname()"
   ]
  },
  {
   "cell_type": "code",
   "execution_count": null,
   "metadata": {},
   "outputs": [
    {
     "ename": "OperationalError",
     "evalue": "table sqlite_master may not be modified",
     "output_type": "error",
     "traceback": [
      "\u001b[0;31m---------------------------------------------------------------------------\u001b[0m",
      "\u001b[0;31mOperationalError\u001b[0m                          Traceback (most recent call last)",
      "Input \u001b[0;32mIn [437]\u001b[0m, in \u001b[0;36m<cell line: 1>\u001b[0;34m()\u001b[0m\n\u001b[0;32m----> 1\u001b[0m \u001b[43mdb\u001b[49m\u001b[43m[\u001b[49m\u001b[38;5;124;43m\"\u001b[39;49m\u001b[38;5;124;43mTrees\u001b[39;49m\u001b[38;5;124;43m\"\u001b[39;49m\u001b[43m]\u001b[49m\u001b[38;5;241;43m.\u001b[39;49m\u001b[43mextract\u001b[49m\u001b[43m(\u001b[49m\n\u001b[1;32m      2\u001b[0m \u001b[43m    \u001b[49m\u001b[43m[\u001b[49m\u001b[38;5;124;43m\"\u001b[39;49m\u001b[38;5;124;43mCommonName\u001b[39;49m\u001b[38;5;124;43m\"\u001b[39;49m\u001b[43m,\u001b[49m\u001b[43m \u001b[49m\u001b[38;5;124;43m\"\u001b[39;49m\u001b[38;5;124;43mLatinName\u001b[39;49m\u001b[38;5;124;43m\"\u001b[39;49m\u001b[43m]\u001b[49m\u001b[43m,\u001b[49m\n\u001b[1;32m      3\u001b[0m \u001b[43m    \u001b[49m\u001b[43mtable\u001b[49m\u001b[38;5;241;43m=\u001b[39;49m\u001b[38;5;124;43m\"\u001b[39;49m\u001b[38;5;124;43mSpecies\u001b[39;49m\u001b[38;5;124;43m\"\u001b[39;49m\u001b[43m,\u001b[49m\n\u001b[1;32m      4\u001b[0m \u001b[43m    \u001b[49m\u001b[43mfk_column\u001b[49m\u001b[38;5;241;43m=\u001b[39;49m\u001b[38;5;124;43m\"\u001b[39;49m\u001b[38;5;124;43mspecies_id\u001b[39;49m\u001b[38;5;124;43m\"\u001b[39;49m\u001b[43m,\u001b[49m\n\u001b[1;32m      5\u001b[0m \u001b[43m    \u001b[49m\u001b[43mrename\u001b[49m\u001b[38;5;241;43m=\u001b[39;49m\u001b[43m{\u001b[49m\u001b[38;5;124;43m\"\u001b[39;49m\u001b[38;5;124;43mCommonName\u001b[39;49m\u001b[38;5;124;43m\"\u001b[39;49m\u001b[43m:\u001b[49m\u001b[43m \u001b[49m\u001b[38;5;124;43m\"\u001b[39;49m\u001b[38;5;124;43mname\u001b[39;49m\u001b[38;5;124;43m\"\u001b[39;49m\u001b[43m,\u001b[49m\u001b[43m \u001b[49m\u001b[38;5;124;43m\"\u001b[39;49m\u001b[38;5;124;43mLatinName\u001b[39;49m\u001b[38;5;124;43m\"\u001b[39;49m\u001b[43m:\u001b[49m\u001b[43m \u001b[49m\u001b[38;5;124;43m\"\u001b[39;49m\u001b[38;5;124;43mlatin\u001b[39;49m\u001b[38;5;124;43m\"\u001b[39;49m\u001b[43m}\u001b[49m\n\u001b[1;32m      6\u001b[0m \u001b[43m)\u001b[49m\n",
      "File \u001b[0;32m~/code/sqlite-utils/sqlite_utils/db.py:1822\u001b[0m, in \u001b[0;36mTable.extract\u001b[0;34m(self, columns, table, fk_column, rename)\u001b[0m\n\u001b[1;32m   1815\u001b[0m \u001b[38;5;28mself\u001b[39m\u001b[38;5;241m.\u001b[39mtransform(\n\u001b[1;32m   1816\u001b[0m     drop\u001b[38;5;241m=\u001b[39m\u001b[38;5;28mset\u001b[39m(columns),\n\u001b[1;32m   1817\u001b[0m     rename\u001b[38;5;241m=\u001b[39m{magic_lookup_column: fk_column},\n\u001b[1;32m   1818\u001b[0m     column_order\u001b[38;5;241m=\u001b[39mcolumn_order,\n\u001b[1;32m   1819\u001b[0m )\n\u001b[1;32m   1821\u001b[0m \u001b[38;5;66;03m# And add the foreign key constraint\u001b[39;00m\n\u001b[0;32m-> 1822\u001b[0m \u001b[38;5;28;43mself\u001b[39;49m\u001b[38;5;241;43m.\u001b[39;49m\u001b[43madd_foreign_key\u001b[49m\u001b[43m(\u001b[49m\u001b[43mfk_column\u001b[49m\u001b[43m,\u001b[49m\u001b[43m \u001b[49m\u001b[43mtable\u001b[49m\u001b[43m,\u001b[49m\u001b[43m \u001b[49m\u001b[38;5;124;43m\"\u001b[39;49m\u001b[38;5;124;43mid\u001b[39;49m\u001b[38;5;124;43m\"\u001b[39;49m\u001b[43m)\u001b[49m\n\u001b[1;32m   1823\u001b[0m \u001b[38;5;28;01mreturn\u001b[39;00m \u001b[38;5;28mself\u001b[39m\n",
      "File \u001b[0;32m~/code/sqlite-utils/sqlite_utils/db.py:2055\u001b[0m, in \u001b[0;36mTable.add_foreign_key\u001b[0;34m(self, column, other_table, other_column, ignore)\u001b[0m\n\u001b[1;32m   2049\u001b[0m     \u001b[38;5;28;01melse\u001b[39;00m:\n\u001b[1;32m   2050\u001b[0m         \u001b[38;5;28;01mraise\u001b[39;00m AlterError(\n\u001b[1;32m   2051\u001b[0m             \u001b[38;5;124m\"\u001b[39m\u001b[38;5;124mForeign key already exists for \u001b[39m\u001b[38;5;132;01m{}\u001b[39;00m\u001b[38;5;124m => \u001b[39m\u001b[38;5;132;01m{}\u001b[39;00m\u001b[38;5;124m.\u001b[39m\u001b[38;5;132;01m{}\u001b[39;00m\u001b[38;5;124m\"\u001b[39m\u001b[38;5;241m.\u001b[39mformat(\n\u001b[1;32m   2052\u001b[0m                 column, other_table, other_column\n\u001b[1;32m   2053\u001b[0m             )\n\u001b[1;32m   2054\u001b[0m         )\n\u001b[0;32m-> 2055\u001b[0m \u001b[38;5;28;43mself\u001b[39;49m\u001b[38;5;241;43m.\u001b[39;49m\u001b[43mdb\u001b[49m\u001b[38;5;241;43m.\u001b[39;49m\u001b[43madd_foreign_keys\u001b[49m\u001b[43m(\u001b[49m\u001b[43m[\u001b[49m\u001b[43m(\u001b[49m\u001b[38;5;28;43mself\u001b[39;49m\u001b[38;5;241;43m.\u001b[39;49m\u001b[43mname\u001b[49m\u001b[43m,\u001b[49m\u001b[43m \u001b[49m\u001b[43mcolumn\u001b[49m\u001b[43m,\u001b[49m\u001b[43m \u001b[49m\u001b[43mother_table\u001b[49m\u001b[43m,\u001b[49m\u001b[43m \u001b[49m\u001b[43mother_column\u001b[49m\u001b[43m)\u001b[49m\u001b[43m]\u001b[49m\u001b[43m)\u001b[49m\n\u001b[1;32m   2056\u001b[0m \u001b[38;5;28;01mreturn\u001b[39;00m \u001b[38;5;28mself\u001b[39m\n",
      "File \u001b[0;32m~/code/sqlite-utils/sqlite_utils/db.py:1031\u001b[0m, in \u001b[0;36mDatabase.add_foreign_keys\u001b[0;34m(self, foreign_keys)\u001b[0m\n\u001b[1;32m   1029\u001b[0m cursor\u001b[38;5;241m.\u001b[39mexecute(\u001b[38;5;124m\"\u001b[39m\u001b[38;5;124mPRAGMA writable_schema = 1\u001b[39m\u001b[38;5;124m\"\u001b[39m)\n\u001b[1;32m   1030\u001b[0m \u001b[38;5;28;01mfor\u001b[39;00m table_name, new_sql \u001b[38;5;129;01min\u001b[39;00m table_sql\u001b[38;5;241m.\u001b[39mitems():\n\u001b[0;32m-> 1031\u001b[0m     \u001b[43mcursor\u001b[49m\u001b[38;5;241;43m.\u001b[39;49m\u001b[43mexecute\u001b[49m\u001b[43m(\u001b[49m\n\u001b[1;32m   1032\u001b[0m \u001b[43m        \u001b[49m\u001b[38;5;124;43m\"\u001b[39;49m\u001b[38;5;124;43mUPDATE sqlite_master SET sql = ? WHERE name = ?\u001b[39;49m\u001b[38;5;124;43m\"\u001b[39;49m\u001b[43m,\u001b[49m\n\u001b[1;32m   1033\u001b[0m \u001b[43m        \u001b[49m\u001b[43m(\u001b[49m\u001b[43mnew_sql\u001b[49m\u001b[43m,\u001b[49m\u001b[43m \u001b[49m\u001b[43mtable_name\u001b[49m\u001b[43m)\u001b[49m\u001b[43m,\u001b[49m\n\u001b[1;32m   1034\u001b[0m \u001b[43m    \u001b[49m\u001b[43m)\u001b[49m\n\u001b[1;32m   1035\u001b[0m cursor\u001b[38;5;241m.\u001b[39mexecute(\u001b[38;5;124m\"\u001b[39m\u001b[38;5;124mPRAGMA schema_version = \u001b[39m\u001b[38;5;132;01m%d\u001b[39;00m\u001b[38;5;124m\"\u001b[39m \u001b[38;5;241m%\u001b[39m (schema_version \u001b[38;5;241m+\u001b[39m \u001b[38;5;241m1\u001b[39m))\n\u001b[1;32m   1036\u001b[0m cursor\u001b[38;5;241m.\u001b[39mexecute(\u001b[38;5;124m\"\u001b[39m\u001b[38;5;124mPRAGMA writable_schema = 0\u001b[39m\u001b[38;5;124m\"\u001b[39m)\n",
      "\u001b[0;31mOperationalError\u001b[0m: table sqlite_master may not be modified"
     ]
    }
   ],
   "source": [
    "db[\"Trees\"].extract(\n",
    "    [\"CommonName\", \"LatinName\"],\n",
    "    table=\"Species\",\n",
    "    fk_column=\"species_id\",\n",
    "    rename={\"CommonName\": \"name\", \"LatinName\": \"latin\"}\n",
    ")"
   ]
  },
  {
   "cell_type": "markdown",
   "metadata": {},
   "source": [
    "This produces a lookup table like so:"
   ]
  },
  {
   "cell_type": "code",
   "execution_count": null,
   "metadata": {},
   "outputs": [
    {
     "name": "stdout",
     "output_type": "stream",
     "text": [
      "CREATE TABLE [Species] (\n",
      "   [id] INTEGER PRIMARY KEY,\n",
      "   [name] TEXT,\n",
      "   [latin] TEXT\n",
      ")\n"
     ]
    }
   ],
   "source": [
    "print(db[\"Species\"].schema)"
   ]
  },
  {
   "cell_type": "markdown",
   "metadata": {},
   "source": [
    "## Setting an ID based on the hash of the row contents"
   ]
  },
  {
   "cell_type": "markdown",
   "metadata": {},
   "source": [
    "Sometimes you will find yourself working with a dataset that includes rows that do not have a provided obvious ID, but where you would like to assign one so that you can later upsert into that table without creating duplicate records."
   ]
  },
  {
   "cell_type": "markdown",
   "metadata": {},
   "source": [
    "In these cases, a useful technique is to create an ID that is derived from the sha1 hash of the row contents."
   ]
  },
  {
   "cell_type": "markdown",
   "metadata": {},
   "source": [
    "`sqlite-utils` can do this for you using the `hash_id=` option. For example:"
   ]
  },
  {
   "cell_type": "code",
   "execution_count": null,
   "metadata": {},
   "outputs": [
    {
     "name": "stdout",
     "output_type": "stream",
     "text": [
      "[{'id': 'f501265970505d9825d8d9f590bfab3519fb20b1', 'name': 'Cleo', 'twitter': 'cleopaws'}]\n"
     ]
    }
   ],
   "source": [
    "db = Database(memory=True)\n",
    "dogs = db[\"dogs\"].upsert({\"name\": \"Cleo\", \"twitter\": \"cleopaws\"}, hash_id=\"id\")\n",
    "print(list(db[\"dogs\"].rows))"
   ]
  },
  {
   "cell_type": "markdown",
   "metadata": {},
   "source": [
    "If you are going to use that ID straight away, you can access it using `last_pk`:"
   ]
  },
  {
   "cell_type": "code",
   "execution_count": null,
   "metadata": {},
   "outputs": [
    {
     "data": {
      "text/plain": [
       "'f501265970505d9825d8d9f590bfab3519fb20b1'"
      ]
     },
     "execution_count": null,
     "metadata": {},
     "output_type": "execute_result"
    }
   ],
   "source": [
    "dogs.last_pk"
   ]
  },
  {
   "cell_type": "markdown",
   "metadata": {},
   "source": [
    "The hash will be created using all of the column values. To create a hash using a subset of the columns, pass the `hash_id_columns=` parameter:"
   ]
  },
  {
   "cell_type": "code",
   "execution_count": null,
   "metadata": {},
   "outputs": [],
   "source": [
    "db = Database(memory=True)\n",
    "db[\"dogs\"].upsert(\n",
    "    {\"name\": \"Cleo\", \"twitter\": \"cleopaws\", \"age\": 7},\n",
    "    hash_id_columns=(\"name\", \"twitter\")\n",
    ");"
   ]
  },
  {
   "cell_type": "markdown",
   "metadata": {},
   "source": [
    "The `hash_id=` parameter is optional if you specify `hash_id_columns=` - it will default to putting the hash in a column called `id`."
   ]
  },
  {
   "cell_type": "markdown",
   "metadata": {},
   "source": [
    "You can manually calculate these hashes using the `hash_record(record,` utility function."
   ]
  },
  {
   "cell_type": "markdown",
   "metadata": {},
   "source": [
    "## Creating views"
   ]
  },
  {
   "cell_type": "markdown",
   "metadata": {},
   "source": [
    "The `.create_view()` method on the database class can be used to create a view:"
   ]
  },
  {
   "cell_type": "code",
   "execution_count": null,
   "metadata": {},
   "outputs": [],
   "source": [
    "db = Database(memory=True)\n",
    "db.create_view(\"good_dogs\", \"\"\"\n",
    "    select * from dogs where is_good_dog = 1\n",
    "\"\"\");"
   ]
  },
  {
   "cell_type": "markdown",
   "metadata": {},
   "source": [
    "This will raise a `sqlite_utils.utils.OperationalError` if a view with that name already exists."
   ]
  },
  {
   "cell_type": "markdown",
   "metadata": {},
   "source": [
    "You can pass `ignore=True` to silently ignore an existing view and do nothing, or `replace=True` to replace an existing view with a new definition if your select statement differs from the current view:"
   ]
  },
  {
   "cell_type": "code",
   "execution_count": null,
   "metadata": {},
   "outputs": [],
   "source": [
    "db.create_view(\"good_dogs\", \"\"\"\n",
    "    select * from dogs where is_good_dog = 1\n",
    "\"\"\", replace=True);"
   ]
  },
  {
   "cell_type": "markdown",
   "metadata": {},
   "source": [
    "## Storing JSON"
   ]
  },
  {
   "cell_type": "markdown",
   "metadata": {},
   "source": [
    "SQLite has `excellent JSON support`<target ids=\"['excellent-json-support']\" names=\"['excellent json support']\" refuri=\"https://www.sqlite.org/json1.html\"/>, and `sqlite-utils` can help you take advantage of this: if you attempt to insert a value that can be represented as a JSON list or dictionary, `sqlite-utils` will create TEXT column and store your data as serialized JSON. This means you can quickly store even complex data structures in SQLite and query them using JSON features."
   ]
  },
  {
   "cell_type": "markdown",
   "metadata": {},
   "source": [
    "For example:"
   ]
  },
  {
   "cell_type": "code",
   "execution_count": null,
   "metadata": {},
   "outputs": [
    {
     "data": {
      "text/plain": [
       "[('Felton, CA',)]"
      ]
     },
     "execution_count": null,
     "metadata": {},
     "output_type": "execute_result"
    }
   ],
   "source": [
    "db = Database(memory=True)\n",
    "db[\"niche_museums\"].insert({\n",
    "    \"name\": \"The Bigfoot Discovery Museum\",\n",
    "    \"url\": \"http://bigfootdiscoveryproject.com/\",\n",
    "    \"hours\": {\n",
    "        \"Monday\": [11, 18],\n",
    "        \"Wednesday\": [11, 18],\n",
    "        \"Thursday\": [11, 18],\n",
    "        \"Friday\": [11, 18],\n",
    "        \"Saturday\": [11, 18],\n",
    "        \"Sunday\": [11, 18]\n",
    "    },\n",
    "    \"address\": {\n",
    "        \"streetAddress\": \"5497 Highway 9\",\n",
    "        \"addressLocality\": \"Felton, CA\",\n",
    "        \"postalCode\": \"95018\"\n",
    "    }\n",
    "})\n",
    "db.execute(\"\"\"\n",
    "    select json_extract(address, '$.addressLocality')\n",
    "    from niche_museums\n",
    "\"\"\").fetchall()"
   ]
  },
  {
   "cell_type": "markdown",
   "metadata": {},
   "source": [
    "## Converting column values using SQL functions"
   ]
  },
  {
   "cell_type": "markdown",
   "metadata": {},
   "source": [
    "Sometimes it can be useful to run values through a SQL function prior to inserting them. A simple example might be converting a value to upper case while it is being inserted."
   ]
  },
  {
   "cell_type": "markdown",
   "metadata": {},
   "source": [
    "The `conversions={...}` parameter can be used to specify custom SQL to be used as part of a `INSERT` or `UPDATE` SQL statement."
   ]
  },
  {
   "cell_type": "markdown",
   "metadata": {},
   "source": [
    "You can specify an upper case conversion for a specific column like so:"
   ]
  },
  {
   "cell_type": "code",
   "execution_count": null,
   "metadata": {},
   "outputs": [
    {
     "data": {
      "text/plain": [
       "[{'name': 'THE BIGFOOT DISCOVERY MUSEUM'}]"
      ]
     },
     "execution_count": null,
     "metadata": {},
     "output_type": "execute_result"
    }
   ],
   "source": [
    "db = Database(memory=True)\n",
    "db[\"example\"].insert({\n",
    "    \"name\": \"The Bigfoot Discovery Museum\"\n",
    "}, conversions={\"name\": \"upper(?)\"})\n",
    "list(db[\"example\"].rows)"
   ]
  },
  {
   "cell_type": "markdown",
   "metadata": {},
   "source": [
    "The dictionary key is the column name to be converted. The value is the SQL fragment to use, with a `?` placeholder for the original value."
   ]
  },
  {
   "cell_type": "markdown",
   "metadata": {},
   "source": [
    "A more useful example: if you are working with `SpatiaLite` you may find yourself wanting to create geometry values from a WKT value. Code to do that could look like this:"
   ]
  },
  {
   "cell_type": "code",
   "execution_count": null,
   "metadata": {},
   "outputs": [],
   "source": [
    "from shapely.geometry import shape\n",
    "import httpx"
   ]
  },
  {
   "cell_type": "code",
   "execution_count": null,
   "metadata": {},
   "outputs": [
    {
     "ename": "AttributeError",
     "evalue": "'sqlite3.Connection' object has no attribute 'enable_load_extension'",
     "output_type": "error",
     "traceback": [
      "\u001b[0;31m---------------------------------------------------------------------------\u001b[0m",
      "\u001b[0;31mAttributeError\u001b[0m                            Traceback (most recent call last)",
      "Input \u001b[0;32mIn [467]\u001b[0m, in \u001b[0;36m<cell line: 3>\u001b[0;34m()\u001b[0m\n\u001b[1;32m      1\u001b[0m db \u001b[38;5;241m=\u001b[39m Database(\u001b[38;5;124m\"\u001b[39m\u001b[38;5;124mplaces.db\u001b[39m\u001b[38;5;124m\"\u001b[39m)\n\u001b[1;32m      2\u001b[0m \u001b[38;5;66;03m# Initialize SpatiaLite\u001b[39;00m\n\u001b[0;32m----> 3\u001b[0m \u001b[43mdb\u001b[49m\u001b[38;5;241;43m.\u001b[39;49m\u001b[43minit_spatialite\u001b[49m\u001b[43m(\u001b[49m\u001b[43m)\u001b[49m\n\u001b[1;32m      4\u001b[0m \u001b[38;5;66;03m# Use sqlite-utils to create a places table\u001b[39;00m\n\u001b[1;32m      5\u001b[0m places \u001b[38;5;241m=\u001b[39m db[\u001b[38;5;124m\"\u001b[39m\u001b[38;5;124mplaces\u001b[39m\u001b[38;5;124m\"\u001b[39m]\u001b[38;5;241m.\u001b[39mcreate({\u001b[38;5;124m\"\u001b[39m\u001b[38;5;124mid\u001b[39m\u001b[38;5;124m\"\u001b[39m: \u001b[38;5;28mint\u001b[39m, \u001b[38;5;124m\"\u001b[39m\u001b[38;5;124mname\u001b[39m\u001b[38;5;124m\"\u001b[39m: \u001b[38;5;28mstr\u001b[39m})\n",
      "File \u001b[0;32m~/code/sqlite-utils/sqlite_utils/db.py:1099\u001b[0m, in \u001b[0;36mDatabase.init_spatialite\u001b[0;34m(self, path)\u001b[0m\n\u001b[1;32m   1096\u001b[0m \u001b[38;5;28;01mif\u001b[39;00m path \u001b[38;5;129;01mis\u001b[39;00m \u001b[38;5;28;01mNone\u001b[39;00m:\n\u001b[1;32m   1097\u001b[0m     path \u001b[38;5;241m=\u001b[39m find_spatialite()\n\u001b[0;32m-> 1099\u001b[0m \u001b[38;5;28;43mself\u001b[39;49m\u001b[38;5;241;43m.\u001b[39;49m\u001b[43mconn\u001b[49m\u001b[38;5;241;43m.\u001b[39;49m\u001b[43menable_load_extension\u001b[49m(\u001b[38;5;28;01mTrue\u001b[39;00m)\n\u001b[1;32m   1100\u001b[0m \u001b[38;5;28mself\u001b[39m\u001b[38;5;241m.\u001b[39mconn\u001b[38;5;241m.\u001b[39mload_extension(path)\n\u001b[1;32m   1101\u001b[0m \u001b[38;5;66;03m# Initialize SpatiaLite if not yet initialized\u001b[39;00m\n",
      "\u001b[0;31mAttributeError\u001b[0m: 'sqlite3.Connection' object has no attribute 'enable_load_extension'"
     ]
    }
   ],
   "source": [
    "db = Database(\"places.db\")\n",
    "# Initialize SpatiaLite\n",
    "db.init_spatialite()\n",
    "# Use sqlite-utils to create a places table\n",
    "places = db[\"places\"].create({\"id\": int, \"name\": str})\n",
    "\n",
    "# Add a SpatiaLite 'geometry' column\n",
    "places.add_geometry_column(\"geometry\", \"MULTIPOLYGON\")\n",
    "\n",
    "# Fetch some GeoJSON from Who's On First:\n",
    "geojson = httpx.get(\n",
    "    \"https://raw.githubusercontent.com/whosonfirst-data/\"\n",
    "    \"whosonfirst-data-admin-gb/master/data/404/227/475/404227475.geojson\"\n",
    ").json()\n",
    "\n",
    "# Convert to \"Well Known Text\" format using shapely\n",
    "wkt = shape(geojson[\"geometry\"]).wkt\n",
    "\n",
    "# Insert the record, converting the WKT to a SpatiaLite geometry:\n",
    "db[\"places\"].insert(\n",
    "    {\"name\": \"Wales\", \"geometry\": wkt},\n",
    "    conversions={\"geometry\": \"GeomFromText(?, 4326)\"},\n",
    ")"
   ]
  },
  {
   "cell_type": "markdown",
   "metadata": {},
   "source": [
    "This example uses gographical data from [Who's On First](`https://whosonfirst.org/`) and depends on the [Shapely](`https://shapely.readthedocs.io/en/stable/manual.html`) and [HTTPX](`https://www.python-httpx.org/`) Python libraries."
   ]
  },
  {
   "cell_type": "markdown",
   "metadata": {},
   "source": [
    "## Checking the SQLite version"
   ]
  },
  {
   "cell_type": "markdown",
   "metadata": {},
   "source": [
    "The `db.sqlite_version` property returns a tuple of integers representing the version of SQLite used for that database object:"
   ]
  },
  {
   "cell_type": "code",
   "execution_count": null,
   "metadata": {},
   "outputs": [
    {
     "data": {
      "text/plain": [
       "(3, 37, 0)"
      ]
     },
     "execution_count": null,
     "metadata": {},
     "output_type": "execute_result"
    }
   ],
   "source": [
    "db.sqlite_version"
   ]
  },
  {
   "cell_type": "markdown",
   "metadata": {},
   "source": [
    "## Introspecting tables and views"
   ]
  },
  {
   "cell_type": "markdown",
   "metadata": {},
   "source": [
    "If you have loaded an existing table or view, you can use introspection to find out more about it:"
   ]
  },
  {
   "cell_type": "code",
   "execution_count": null,
   "metadata": {},
   "outputs": [],
   "source": [
    "#|hide\n",
    "db = create_trees_db_with_latinname()"
   ]
  },
  {
   "cell_type": "code",
   "execution_count": null,
   "metadata": {},
   "outputs": [
    {
     "data": {
      "text/plain": [
       "<Table Trees (id, TreeAddress, CommonName, LatinName)>"
      ]
     },
     "execution_count": null,
     "metadata": {},
     "output_type": "execute_result"
    }
   ],
   "source": [
    "db[\"Trees\"]"
   ]
  },
  {
   "cell_type": "markdown",
   "metadata": {},
   "source": [
    "### .exists()"
   ]
  },
  {
   "cell_type": "markdown",
   "metadata": {},
   "source": [
    "The `.exists()` method can be used to find out if a table exists or not:"
   ]
  },
  {
   "cell_type": "code",
   "execution_count": null,
   "metadata": {},
   "outputs": [
    {
     "data": {
      "text/plain": [
       "True"
      ]
     },
     "execution_count": null,
     "metadata": {},
     "output_type": "execute_result"
    }
   ],
   "source": [
    "db[\"Trees\"].exists()"
   ]
  },
  {
   "cell_type": "code",
   "execution_count": null,
   "metadata": {},
   "outputs": [
    {
     "data": {
      "text/plain": [
       "False"
      ]
     },
     "execution_count": null,
     "metadata": {},
     "output_type": "execute_result"
    }
   ],
   "source": [
    "db[\"Trees2\"].exists()"
   ]
  },
  {
   "cell_type": "markdown",
   "metadata": {},
   "source": [
    "### .count"
   ]
  },
  {
   "cell_type": "markdown",
   "metadata": {},
   "source": [
    "The `.count` property shows the current number of rows (`select count(*) from table`):"
   ]
  },
  {
   "cell_type": "code",
   "execution_count": null,
   "metadata": {},
   "outputs": [
    {
     "data": {
      "text/plain": [
       "4"
      ]
     },
     "execution_count": null,
     "metadata": {},
     "output_type": "execute_result"
    }
   ],
   "source": [
    "db[\"Trees\"].count"
   ]
  },
  {
   "cell_type": "markdown",
   "metadata": {},
   "source": [
    "This property will take advantage of `python_api_cached_table_counts` if the `use_counts_table` property is set on the database. You can avoid that optimization entirely by calling `table.count_where()` instead of accessing the property."
   ]
  },
  {
   "cell_type": "markdown",
   "metadata": {},
   "source": [
    "### .columns"
   ]
  },
  {
   "cell_type": "markdown",
   "metadata": {},
   "source": [
    "The `.columns` property shows the columns in the table or view. It returns a list of `Column(cid, name, type, notnull, default_value, is_pk)` named tuples."
   ]
  },
  {
   "cell_type": "code",
   "execution_count": null,
   "metadata": {},
   "outputs": [
    {
     "data": {
      "text/plain": [
       "[Column(cid=0, name='id', type='INTEGER', notnull=0, default_value=None, is_pk=1),\n",
       " Column(cid=1, name='TreeAddress', type='TEXT', notnull=0, default_value=None, is_pk=0),\n",
       " Column(cid=2, name='CommonName', type='TEXT', notnull=0, default_value=None, is_pk=0),\n",
       " Column(cid=3, name='LatinName', type='TEXT', notnull=0, default_value=None, is_pk=0)]"
      ]
     },
     "execution_count": null,
     "metadata": {},
     "output_type": "execute_result"
    }
   ],
   "source": [
    "db[\"Trees\"].columns"
   ]
  },
  {
   "cell_type": "markdown",
   "metadata": {},
   "source": [
    "### .columns_dict"
   ]
  },
  {
   "cell_type": "markdown",
   "metadata": {},
   "source": [
    "The `.columns_dict` property returns a dictionary version of the columns with just the names and Python types:"
   ]
  },
  {
   "cell_type": "code",
   "execution_count": null,
   "metadata": {},
   "outputs": [
    {
     "data": {
      "text/plain": [
       "{'id': int, 'TreeAddress': str, 'CommonName': str, 'LatinName': str}"
      ]
     },
     "execution_count": null,
     "metadata": {},
     "output_type": "execute_result"
    }
   ],
   "source": [
    "db[\"Trees\"].columns_dict"
   ]
  },
  {
   "cell_type": "markdown",
   "metadata": {},
   "source": [
    "### .pks"
   ]
  },
  {
   "cell_type": "markdown",
   "metadata": {},
   "source": [
    "The `.pks` property returns a list of strings naming the primary key columns for the table:"
   ]
  },
  {
   "cell_type": "code",
   "execution_count": null,
   "metadata": {},
   "outputs": [
    {
     "data": {
      "text/plain": [
       "['id']"
      ]
     },
     "execution_count": null,
     "metadata": {},
     "output_type": "execute_result"
    }
   ],
   "source": [
    "db[\"Trees\"].pks"
   ]
  },
  {
   "cell_type": "markdown",
   "metadata": {},
   "source": [
    "If a table has no primary keys but is a `rowid table`, this property will return `['rowid']`."
   ]
  },
  {
   "cell_type": "markdown",
   "metadata": {},
   "source": [
    "### .use_rowid"
   ]
  },
  {
   "cell_type": "markdown",
   "metadata": {},
   "source": [
    "Almost all SQLite tables have a `rowid` column, but a table with no explicitly defined primary keys must use that `rowid` as the primary key for identifying individual rows. The `.use_rowid` property checks to see if a table needs to use the `rowid` in this way - it returns `True` if the table has no explicitly defined primary keys and `False` otherwise."
   ]
  },
  {
   "cell_type": "markdown",
   "metadata": {},
   "source": [
    "### .foreign_keys"
   ]
  },
  {
   "cell_type": "markdown",
   "metadata": {},
   "source": [
    "The `.foreign_keys` property returns any foreign key relationships for the table, as a list of `ForeignKey(table, column, other_table, other_column)` named tuples. It is not available on views."
   ]
  },
  {
   "cell_type": "code",
   "execution_count": null,
   "metadata": {},
   "outputs": [
    {
     "data": {
      "text/plain": [
       "[]"
      ]
     },
     "execution_count": null,
     "metadata": {},
     "output_type": "execute_result"
    }
   ],
   "source": [
    "db[\"Trees\"].foreign_keys"
   ]
  },
  {
   "cell_type": "code",
   "execution_count": null,
   "metadata": {},
   "outputs": [],
   "source": [
    "#|hide\n",
    "# >>> db[\"Street_Tree_List\"].foreign_keys\n",
    "# [ForeignKey(table='Street_Tree_List', column='qLegalStatus', other_table='qLegalStatus', other_column='id'),\n",
    "#  ForeignKey(table='Street_Tree_List', column='qCareAssistant', other_table='qCareAssistant', other_column='id'),\n",
    "#  ForeignKey(table='Street_Tree_List', column='qSiteInfo', other_table='qSiteInfo', other_column='id'),\n",
    "#  ForeignKey(table='Street_Tree_List', column='qSpecies', other_table='qSpecies', other_column='id'),\n",
    "#  ForeignKey(table='Street_Tree_List', column='qCaretaker', other_table='qCaretaker', other_column='id'),\n",
    "#  ForeignKey(table='Street_Tree_List', column='PlantType', other_table='PlantType', other_column='id')]"
   ]
  },
  {
   "cell_type": "markdown",
   "metadata": {},
   "source": [
    "### .schema"
   ]
  },
  {
   "cell_type": "markdown",
   "metadata": {},
   "source": [
    "The `.schema` property outputs the table's schema as a SQL string:"
   ]
  },
  {
   "cell_type": "code",
   "execution_count": null,
   "metadata": {},
   "outputs": [
    {
     "name": "stdout",
     "output_type": "stream",
     "text": [
      "CREATE TABLE \"Trees\" (\n",
      "   [id] INTEGER PRIMARY KEY,\n",
      "   [TreeAddress] TEXT,\n",
      "   [CommonName] TEXT\n",
      ", [LatinName] TEXT)\n"
     ]
    }
   ],
   "source": [
    "print(db[\"Trees\"].schema)"
   ]
  },
  {
   "cell_type": "code",
   "execution_count": null,
   "metadata": {},
   "outputs": [],
   "source": [
    "#|hide\n",
    "# >>> print(db[\"Street_Tree_List\"].schema)\n",
    "# CREATE TABLE \"Street_Tree_List\" (\n",
    "# \"TreeID\" INTEGER,\n",
    "#   \"qLegalStatus\" INTEGER,\n",
    "#   \"qSpecies\" INTEGER,\n",
    "#   \"qAddress\" TEXT,\n",
    "#   \"SiteOrder\" INTEGER,\n",
    "#   \"qSiteInfo\" INTEGER,\n",
    "#   \"PlantType\" INTEGER,\n",
    "#   \"qCaretaker\" INTEGER,\n",
    "#   \"qCareAssistant\" INTEGER,\n",
    "#   \"PlantDate\" TEXT,\n",
    "#   \"DBH\" INTEGER,\n",
    "#   \"PlotSize\" TEXT,\n",
    "#   \"PermitNotes\" TEXT,\n",
    "#   \"XCoord\" REAL,\n",
    "#   \"YCoord\" REAL,\n",
    "#   \"Latitude\" REAL,\n",
    "#   \"Longitude\" REAL,\n",
    "#   \"Location\" TEXT\n",
    "# ,\n",
    "# FOREIGN KEY (\"PlantType\") REFERENCES [PlantType](id),\n",
    "#     FOREIGN KEY (\"qCaretaker\") REFERENCES [qCaretaker](id),\n",
    "#     FOREIGN KEY (\"qSpecies\") REFERENCES [qSpecies](id),\n",
    "#     FOREIGN KEY (\"qSiteInfo\") REFERENCES [qSiteInfo](id),\n",
    "#     FOREIGN KEY (\"qCareAssistant\") REFERENCES [qCareAssistant](id),\n",
    "#     FOREIGN KEY (\"qLegalStatus\") REFERENCES [qLegalStatus](id))"
   ]
  },
  {
   "cell_type": "markdown",
   "metadata": {},
   "source": [
    "### .strict"
   ]
  },
  {
   "cell_type": "markdown",
   "metadata": {},
   "source": [
    "The `.strict` property identifies if the table is a `SQLite STRICT table`."
   ]
  },
  {
   "cell_type": "code",
   "execution_count": null,
   "metadata": {},
   "outputs": [
    {
     "data": {
      "text/plain": [
       "False"
      ]
     },
     "execution_count": null,
     "metadata": {},
     "output_type": "execute_result"
    }
   ],
   "source": [
    "db[\"Trees\"].strict"
   ]
  },
  {
   "cell_type": "markdown",
   "metadata": {},
   "source": [
    "### .indexes"
   ]
  },
  {
   "cell_type": "markdown",
   "metadata": {},
   "source": [
    "The `.indexes` property returns all indexes created for a table, as a list of `Index(seq, name, unique, origin, partial, columns)` named tuples. It is not available on views."
   ]
  },
  {
   "cell_type": "code",
   "execution_count": null,
   "metadata": {},
   "outputs": [
    {
     "data": {
      "text/plain": [
       "[]"
      ]
     },
     "execution_count": null,
     "metadata": {},
     "output_type": "execute_result"
    }
   ],
   "source": [
    "db[\"Trees\"].indexes"
   ]
  },
  {
   "cell_type": "code",
   "execution_count": null,
   "metadata": {},
   "outputs": [],
   "source": [
    "#|hide\n",
    "# >>> db[\"Street_Tree_List\"].indexes\n",
    "# [Index(seq=0, name='\"Street_Tree_List_qLegalStatus\"', unique=0, origin='c', partial=0, columns=['qLegalStatus']),\n",
    "#  Index(seq=1, name='\"Street_Tree_List_qCareAssistant\"', unique=0, origin='c', partial=0, columns=['qCareAssistant']),\n",
    "#  Index(seq=2, name='\"Street_Tree_List_qSiteInfo\"', unique=0, origin='c', partial=0, columns=['qSiteInfo']),\n",
    "#  Index(seq=3, name='\"Street_Tree_List_qSpecies\"', unique=0, origin='c', partial=0, columns=['qSpecies']),\n",
    "#  Index(seq=4, name='\"Street_Tree_List_qCaretaker\"', unique=0, origin='c', partial=0, columns=['qCaretaker']),\n",
    "#  Index(seq=5, name='\"Street_Tree_List_PlantType\"', unique=0, origin='c', partial=0, columns=['PlantType'])]"
   ]
  },
  {
   "cell_type": "markdown",
   "metadata": {},
   "source": [
    "### .xindexes"
   ]
  },
  {
   "cell_type": "markdown",
   "metadata": {},
   "source": [
    "The `.xindexes` property returns more detailed information about the indexes on the table, using the SQLite `PRAGMA index_xinfo()` mechanism. It returns a list of `XIndex(name, columns)` named tuples, where `columns` is a list of `XIndexColumn(seqno, cid, name, desc, coll, key)` named tuples."
   ]
  },
  {
   "cell_type": "code",
   "execution_count": null,
   "metadata": {},
   "outputs": [
    {
     "data": {
      "text/plain": [
       "[]"
      ]
     },
     "execution_count": null,
     "metadata": {},
     "output_type": "execute_result"
    }
   ],
   "source": [
    "db[\"Trees\"].xindexes"
   ]
  },
  {
   "cell_type": "code",
   "execution_count": null,
   "metadata": {},
   "outputs": [],
   "source": [
    "#|hide\n",
    "# >>> db[\"ny_times_us_counties\"].xindexes\n",
    "# [\n",
    "#     XIndex(\n",
    "#         name='idx_ny_times_us_counties_date',\n",
    "#         columns=[\n",
    "#             XIndexColumn(seqno=0, cid=0, name='date', desc=1, coll='BINARY', key=1),\n",
    "#             XIndexColumn(seqno=1, cid=-1, name=None, desc=0, coll='BINARY', key=0)\n",
    "#         ]\n",
    "#     ),\n",
    "#     XIndex(\n",
    "#         name='idx_ny_times_us_counties_fips',\n",
    "#         columns=[\n",
    "#             XIndexColumn(seqno=0, cid=3, name='fips', desc=0, coll='BINARY', key=1),\n",
    "#             XIndexColumn(seqno=1, cid=-1, name=None, desc=0, coll='BINARY', key=0)\n",
    "#         ]\n",
    "#     )\n",
    "# ]"
   ]
  },
  {
   "cell_type": "markdown",
   "metadata": {},
   "source": [
    "### .triggers"
   ]
  },
  {
   "cell_type": "markdown",
   "metadata": {},
   "source": [
    "The `.triggers` property lists database triggers. It can be used on both database and table objects. It returns a list of `Trigger(name, table, sql)` named tuples."
   ]
  },
  {
   "cell_type": "code",
   "execution_count": null,
   "metadata": {},
   "outputs": [
    {
     "data": {
      "text/plain": [
       "[]"
      ]
     },
     "execution_count": null,
     "metadata": {},
     "output_type": "execute_result"
    }
   ],
   "source": [
    "db[\"Trees\"].triggers"
   ]
  },
  {
   "cell_type": "code",
   "execution_count": null,
   "metadata": {},
   "outputs": [],
   "source": [
    "#|hide\n",
    "# >>> db[\"authors\"].triggers\n",
    "# [Trigger(name='authors_ai', table='authors', sql='CREATE TRIGGER [authors_ai] AFTER INSERT...'),\n",
    "#  Trigger(name='authors_ad', table='authors', sql=\"CREATE TRIGGER [authors_ad] AFTER DELETE...\"),\n",
    "#  Trigger(name='authors_au', table='authors', sql=\"CREATE TRIGGER [authors_au] AFTER UPDATE\")]\n",
    "# >>> db.triggers\n",
    "# ... similar output to db[\"authors\"].triggers"
   ]
  },
  {
   "cell_type": "markdown",
   "metadata": {},
   "source": [
    "### .triggers_dict"
   ]
  },
  {
   "cell_type": "markdown",
   "metadata": {},
   "source": [
    "The `.triggers_dict` property returns the triggers for that table as a dictionary mapping their names to their SQL definitions."
   ]
  },
  {
   "cell_type": "code",
   "execution_count": null,
   "metadata": {},
   "outputs": [],
   "source": [
    "#|hide\n",
    "db = create_trees_db_with_latinname()"
   ]
  },
  {
   "cell_type": "code",
   "execution_count": null,
   "metadata": {},
   "outputs": [
    {
     "data": {
      "text/plain": [
       "{'Trees_counts_insert': \"CREATE TRIGGER [Trees_counts_insert] AFTER INSERT ON [Trees]\\nBEGIN\\n    INSERT OR REPLACE INTO [_counts]\\n    VALUES (\\n        'Trees',\\n        COALESCE(\\n            (SELECT count FROM [_counts] WHERE [table] = 'Trees'),\\n        0\\n        ) + 1\\n    );\\nEND\",\n",
       " 'Trees_counts_delete': \"CREATE TRIGGER [Trees_counts_delete] AFTER DELETE ON [Trees]\\nBEGIN\\n    INSERT OR REPLACE INTO [_counts]\\n    VALUES (\\n        'Trees',\\n        COALESCE(\\n            (SELECT count FROM [_counts] WHERE [table] = 'Trees'),\\n        0\\n        ) - 1\\n    );\\nEND\"}"
      ]
     },
     "execution_count": null,
     "metadata": {},
     "output_type": "execute_result"
    }
   ],
   "source": [
    "db[\"Trees\"].enable_counts()\n",
    "db[\"Trees\"].triggers_dict"
   ]
  },
  {
   "cell_type": "markdown",
   "metadata": {},
   "source": [
    "The same property exists on the database, and will return all triggers across all tables:"
   ]
  },
  {
   "cell_type": "code",
   "execution_count": null,
   "metadata": {},
   "outputs": [
    {
     "data": {
      "text/plain": [
       "{'Trees_counts_insert': \"CREATE TRIGGER [Trees_counts_insert] AFTER INSERT ON [Trees]\\nBEGIN\\n    INSERT OR REPLACE INTO [_counts]\\n    VALUES (\\n        'Trees',\\n        COALESCE(\\n            (SELECT count FROM [_counts] WHERE [table] = 'Trees'),\\n        0\\n        ) + 1\\n    );\\nEND\",\n",
       " 'Trees_counts_delete': \"CREATE TRIGGER [Trees_counts_delete] AFTER DELETE ON [Trees]\\nBEGIN\\n    INSERT OR REPLACE INTO [_counts]\\n    VALUES (\\n        'Trees',\\n        COALESCE(\\n            (SELECT count FROM [_counts] WHERE [table] = 'Trees'),\\n        0\\n        ) - 1\\n    );\\nEND\"}"
      ]
     },
     "execution_count": null,
     "metadata": {},
     "output_type": "execute_result"
    }
   ],
   "source": [
    "db.triggers_dict"
   ]
  },
  {
   "cell_type": "code",
   "execution_count": null,
   "metadata": {},
   "outputs": [],
   "source": [
    "#|hide\n",
    "# >>> db.triggers_dict\n",
    "# {'authors_ai': 'CREATE TRIGGER [authors_ai] AFTER INSERT...',\n",
    "#  'authors_ad': 'CREATE TRIGGER [authors_ad] AFTER DELETE...',\n",
    "#  'authors_au': 'CREATE TRIGGER [authors_au] AFTER UPDATE'}"
   ]
  },
  {
   "cell_type": "markdown",
   "metadata": {},
   "source": [
    "### .detect_fts()"
   ]
  },
  {
   "cell_type": "markdown",
   "metadata": {},
   "source": [
    "The `detect_fts()` method returns the associated SQLite FTS table name, if one exists for this table. If the table has not been configured for full-text search it returns `None`."
   ]
  },
  {
   "cell_type": "code",
   "execution_count": null,
   "metadata": {},
   "outputs": [],
   "source": [
    "#|hide\n",
    "db = create_trees_db_with_latinname()\n",
    "db[\"Trees\"].enable_fts([\"TreeAddress\"]);"
   ]
  },
  {
   "cell_type": "code",
   "execution_count": null,
   "metadata": {},
   "outputs": [
    {
     "data": {
      "text/plain": [
       "'Trees_fts'"
      ]
     },
     "execution_count": null,
     "metadata": {},
     "output_type": "execute_result"
    }
   ],
   "source": [
    "db[\"Trees\"].detect_fts()"
   ]
  },
  {
   "cell_type": "markdown",
   "metadata": {},
   "source": [
    "### .virtual_table_using"
   ]
  },
  {
   "cell_type": "markdown",
   "metadata": {},
   "source": [
    "The `.virtual_table_using` property reveals if a table is a virtual table. It returns `None` for regular tables and the upper case version of the type of virtual table otherwise. For example:"
   ]
  },
  {
   "cell_type": "code",
   "execution_count": null,
   "metadata": {},
   "outputs": [],
   "source": [
    "#|hide\n",
    "db = create_trees_db_with_latinname()"
   ]
  },
  {
   "cell_type": "code",
   "execution_count": null,
   "metadata": {},
   "outputs": [
    {
     "data": {
      "text/plain": [
       "'FTS5'"
      ]
     },
     "execution_count": null,
     "metadata": {},
     "output_type": "execute_result"
    }
   ],
   "source": [
    "db[\"Trees\"].enable_fts([\"TreeAddress\"])\n",
    "db[\"Trees_fts\"].virtual_table_using"
   ]
  },
  {
   "cell_type": "markdown",
   "metadata": {},
   "source": [
    "### .has_counts_triggers"
   ]
  },
  {
   "cell_type": "markdown",
   "metadata": {},
   "source": [
    "The `.has_counts_triggers` property shows if a table has been configured with triggers for updating a `_counts` table, as described in `python_api_cached_table_counts`."
   ]
  },
  {
   "cell_type": "code",
   "execution_count": null,
   "metadata": {},
   "outputs": [
    {
     "data": {
      "text/plain": [
       "False"
      ]
     },
     "execution_count": null,
     "metadata": {},
     "output_type": "execute_result"
    }
   ],
   "source": [
    "db[\"Trees\"].has_counts_triggers"
   ]
  },
  {
   "cell_type": "code",
   "execution_count": null,
   "metadata": {},
   "outputs": [
    {
     "data": {
      "text/plain": [
       "True"
      ]
     },
     "execution_count": null,
     "metadata": {},
     "output_type": "execute_result"
    }
   ],
   "source": [
    "db[\"Trees\"].enable_counts()\n",
    "db[\"Trees\"].has_counts_triggers"
   ]
  },
  {
   "cell_type": "markdown",
   "metadata": {},
   "source": [
    "## Full-text search"
   ]
  },
  {
   "cell_type": "markdown",
   "metadata": {},
   "source": [
    "SQLite includes bundled extensions that implement `powerful full-text search`."
   ]
  },
  {
   "cell_type": "markdown",
   "metadata": {},
   "source": [
    "### Enabling full-text search for a table"
   ]
  },
  {
   "cell_type": "markdown",
   "metadata": {},
   "source": [
    "You can enable full-text search on a table using `.enable_fts(columns)`:"
   ]
  },
  {
   "cell_type": "code",
   "execution_count": null,
   "metadata": {},
   "outputs": [],
   "source": [
    "#|hide\n",
    "recreate_dogs_db()\n",
    "db = Database(\"dogs.db\")\n",
    "db[\"dogs\"].add_column(\"twitter\", str)\n",
    "db[\"dogs\"].add_column(\"is_good_dog\", bool);"
   ]
  },
  {
   "cell_type": "code",
   "execution_count": null,
   "metadata": {},
   "outputs": [],
   "source": [
    "db[\"dogs\"].enable_fts([\"name\", \"twitter\"]);"
   ]
  },
  {
   "cell_type": "markdown",
   "metadata": {},
   "source": [
    "You can then run searches using the `.search()` method:"
   ]
  },
  {
   "cell_type": "code",
   "execution_count": null,
   "metadata": {},
   "outputs": [],
   "source": [
    "rows = list(db[\"dogs\"].search(\"cleo\"))"
   ]
  },
  {
   "cell_type": "markdown",
   "metadata": {},
   "source": [
    "This method returns a generator that can be looped over to get dictionaries for each row, similar to `python_api_rows`."
   ]
  },
  {
   "cell_type": "markdown",
   "metadata": {},
   "source": [
    "If you insert additional records into the table you will need to refresh the search index using `populate_fts()`:"
   ]
  },
  {
   "cell_type": "code",
   "execution_count": null,
   "metadata": {},
   "outputs": [
    {
     "data": {
      "text/plain": [
       "<Table dogs (id, age, name, twitter, is_good_dog)>"
      ]
     },
     "execution_count": null,
     "metadata": {},
     "output_type": "execute_result"
    }
   ],
   "source": [
    "db[\"dogs\"].insert({\n",
    "    \"id\": 2,\n",
    "    \"name\": \"Marnie\",\n",
    "    \"twitter\": \"MarnieTheDog\",\n",
    "    \"age\": 16,\n",
    "    \"is_good_dog\": True,\n",
    "}, pk=\"id\")\n",
    "db[\"dogs\"].populate_fts([\"name\", \"twitter\"]);"
   ]
  },
  {
   "cell_type": "markdown",
   "metadata": {},
   "source": [
    "A better solution is to use database triggers. You can set up database triggers to automatically update the full-text index using `create_triggers=True`:"
   ]
  },
  {
   "cell_type": "code",
   "execution_count": null,
   "metadata": {},
   "outputs": [
    {
     "ename": "OperationalError",
     "evalue": "table [dogs_fts] already exists",
     "output_type": "error",
     "traceback": [
      "\u001b[0;31m---------------------------------------------------------------------------\u001b[0m",
      "\u001b[0;31mOperationalError\u001b[0m                          Traceback (most recent call last)",
      "Input \u001b[0;32mIn [543]\u001b[0m, in \u001b[0;36m<cell line: 1>\u001b[0;34m()\u001b[0m\n\u001b[0;32m----> 1\u001b[0m \u001b[43mdb\u001b[49m\u001b[43m[\u001b[49m\u001b[38;5;124;43m\"\u001b[39;49m\u001b[38;5;124;43mdogs\u001b[39;49m\u001b[38;5;124;43m\"\u001b[39;49m\u001b[43m]\u001b[49m\u001b[38;5;241;43m.\u001b[39;49m\u001b[43menable_fts\u001b[49m\u001b[43m(\u001b[49m\u001b[43m[\u001b[49m\u001b[38;5;124;43m\"\u001b[39;49m\u001b[38;5;124;43mname\u001b[39;49m\u001b[38;5;124;43m\"\u001b[39;49m\u001b[43m,\u001b[49m\u001b[43m \u001b[49m\u001b[38;5;124;43m\"\u001b[39;49m\u001b[38;5;124;43mtwitter\u001b[39;49m\u001b[38;5;124;43m\"\u001b[39;49m\u001b[43m]\u001b[49m\u001b[43m,\u001b[49m\u001b[43m \u001b[49m\u001b[43mcreate_triggers\u001b[49m\u001b[38;5;241;43m=\u001b[39;49m\u001b[38;5;28;43;01mTrue\u001b[39;49;00m\u001b[43m)\u001b[49m\n",
      "File \u001b[0;32m~/code/sqlite-utils/sqlite_utils/db.py:2172\u001b[0m, in \u001b[0;36mTable.enable_fts\u001b[0;34m(self, columns, fts_version, create_triggers, tokenize, replace)\u001b[0m\n\u001b[1;32m   2169\u001b[0m \u001b[38;5;28;01mif\u001b[39;00m should_recreate:\n\u001b[1;32m   2170\u001b[0m     \u001b[38;5;28mself\u001b[39m\u001b[38;5;241m.\u001b[39mdisable_fts()\n\u001b[0;32m-> 2172\u001b[0m \u001b[38;5;28;43mself\u001b[39;49m\u001b[38;5;241;43m.\u001b[39;49m\u001b[43mdb\u001b[49m\u001b[38;5;241;43m.\u001b[39;49m\u001b[43mexecutescript\u001b[49m\u001b[43m(\u001b[49m\u001b[43mcreate_fts_sql\u001b[49m\u001b[43m)\u001b[49m\n\u001b[1;32m   2173\u001b[0m \u001b[38;5;28mself\u001b[39m\u001b[38;5;241m.\u001b[39mpopulate_fts(columns)\n\u001b[1;32m   2175\u001b[0m \u001b[38;5;28;01mif\u001b[39;00m create_triggers:\n",
      "File \u001b[0;32m~/code/sqlite-utils/sqlite_utils/db.py:485\u001b[0m, in \u001b[0;36mDatabase.executescript\u001b[0;34m(self, sql)\u001b[0m\n\u001b[1;32m    483\u001b[0m \u001b[38;5;28;01mif\u001b[39;00m \u001b[38;5;28mself\u001b[39m\u001b[38;5;241m.\u001b[39m_tracer:\n\u001b[1;32m    484\u001b[0m     \u001b[38;5;28mself\u001b[39m\u001b[38;5;241m.\u001b[39m_tracer(sql, \u001b[38;5;28;01mNone\u001b[39;00m)\n\u001b[0;32m--> 485\u001b[0m \u001b[38;5;28;01mreturn\u001b[39;00m \u001b[38;5;28;43mself\u001b[39;49m\u001b[38;5;241;43m.\u001b[39;49m\u001b[43mconn\u001b[49m\u001b[38;5;241;43m.\u001b[39;49m\u001b[43mexecutescript\u001b[49m\u001b[43m(\u001b[49m\u001b[43msql\u001b[49m\u001b[43m)\u001b[49m\n",
      "\u001b[0;31mOperationalError\u001b[0m: table [dogs_fts] already exists"
     ]
    }
   ],
   "source": [
    "db[\"dogs\"].enable_fts([\"name\", \"twitter\"], create_triggers=True)"
   ]
  },
  {
   "cell_type": "markdown",
   "metadata": {},
   "source": [
    "`.enable_fts()` defaults to using `FTS5`. If you wish to use `FTS4` instead, use the following:"
   ]
  },
  {
   "cell_type": "code",
   "execution_count": null,
   "metadata": {},
   "outputs": [],
   "source": [
    "db[\"dogs\"].enable_fts([\"name\", \"twitter\"], fts_version=\"FTS4\")"
   ]
  },
  {
   "cell_type": "markdown",
   "metadata": {},
   "source": [
    "You can customize the tokenizer configured for the table using the `tokenize=` parameter. For example, to enable Porter stemming, where English words like \"running\" will match stemmed alternatives such as \"run\", use `tokenize=\"porter\"`:"
   ]
  },
  {
   "cell_type": "code",
   "execution_count": null,
   "metadata": {},
   "outputs": [],
   "source": [
    "db[\"articles\"].enable_fts([\"headline\", \"body\"], tokenize=\"porter\")"
   ]
  },
  {
   "cell_type": "markdown",
   "metadata": {},
   "source": [
    "The SQLite documentation has more on `FTS5 tokenizers` and `FTS4 tokenizers`. `porter` is a valid option for both."
   ]
  },
  {
   "cell_type": "markdown",
   "metadata": {},
   "source": [
    "If you attempt to configure a FTS table where one already exists, a `sqlite3.OperationalError` exception will be raised."
   ]
  },
  {
   "cell_type": "markdown",
   "metadata": {},
   "source": [
    "You can replace the existing table with a new configuration using `replace=True`:"
   ]
  },
  {
   "cell_type": "code",
   "execution_count": null,
   "metadata": {},
   "outputs": [],
   "source": [
    "db[\"articles\"].enable_fts([\"headline\"], tokenize=\"porter\", replace=True)"
   ]
  },
  {
   "cell_type": "markdown",
   "metadata": {},
   "source": [
    "This will have no effect if the FTS table already exists, otherwise it will drop and recreate the table with the new settings. This takes into consideration the columns, the tokenizer, the FTS version used and whether or not the table has triggers."
   ]
  },
  {
   "cell_type": "markdown",
   "metadata": {},
   "source": [
    "To remove the FTS tables and triggers you created, use the `disable_fts()` table method:"
   ]
  },
  {
   "cell_type": "code",
   "execution_count": null,
   "metadata": {},
   "outputs": [],
   "source": [
    "db[\"dogs\"].disable_fts()"
   ]
  },
  {
   "cell_type": "markdown",
   "metadata": {},
   "source": [
    "### Quoting characters for use in search"
   ]
  },
  {
   "cell_type": "markdown",
   "metadata": {},
   "source": [
    "SQLite supports `advanced search query syntax`. In some situations you may wish to disable this, since characters such as `.` may have special meaning that causes errors when searching for strings provided by your users."
   ]
  },
  {
   "cell_type": "markdown",
   "metadata": {},
   "source": [
    "The `db.quote_fts(query)` method returns the query with SQLite full-text search quoting applied such that the query should be safe to use in a search:"
   ]
  },
  {
   "cell_type": "code",
   "execution_count": null,
   "metadata": {},
   "outputs": [
    {
     "data": {
      "text/plain": [
       "'\"Search\" \"term.\"'"
      ]
     },
     "execution_count": null,
     "metadata": {},
     "output_type": "execute_result"
    }
   ],
   "source": [
    "db.quote_fts(\"Search term.\")\n",
    "# Returns: '\"Search\" \"term.\"'"
   ]
  },
  {
   "cell_type": "markdown",
   "metadata": {},
   "source": [
    "### Searching with table.search()"
   ]
  },
  {
   "cell_type": "markdown",
   "metadata": {},
   "source": [
    "The `table.search(q)` method returns a generator over Python dictionaries representing rows that match the search phrase `q`, ordered by relevance with the most relevant results first."
   ]
  },
  {
   "cell_type": "code",
   "execution_count": null,
   "metadata": {},
   "outputs": [],
   "source": [
    "for article in db[\"articles\"].search(\"jquery\"):\n",
    "    print(article)"
   ]
  },
  {
   "cell_type": "markdown",
   "metadata": {},
   "source": [
    "The `.search()` method also accepts the following optional parameters:"
   ]
  },
  {
   "cell_type": "markdown",
   "metadata": {},
   "source": [
    "The column to sort by. Defaults to relevance score. Can optionally include a `desc`, e.g. `rowid desc`."
   ]
  },
  {
   "cell_type": "markdown",
   "metadata": {},
   "source": [
    "Columns to return. Defaults to all columns."
   ]
  },
  {
   "cell_type": "markdown",
   "metadata": {},
   "source": [
    "Number of results to return. Defaults to all results."
   ]
  },
  {
   "cell_type": "markdown",
   "metadata": {},
   "source": [
    "Offset to use along side the limit parameter."
   ]
  },
  {
   "cell_type": "markdown",
   "metadata": {},
   "source": [
    "Extra SQL fragment for the WHERE clause"
   ]
  },
  {
   "cell_type": "markdown",
   "metadata": {},
   "source": [
    "Arguments to use for `:param` placeholders in the extra WHERE clause"
   ]
  },
  {
   "cell_type": "markdown",
   "metadata": {},
   "source": [
    "Apply `FTS` to the search query, disabling advanced query syntax in a way that avoids surprising errors."
   ]
  },
  {
   "cell_type": "markdown",
   "metadata": {},
   "source": [
    "To return just the title and published columns for three matches for `\"dog\"` where the `id` is greater than 10 ordered by `published` with the most recent first, use the following:"
   ]
  },
  {
   "cell_type": "code",
   "execution_count": null,
   "metadata": {},
   "outputs": [],
   "source": [
    "for article in db[\"articles\"].search(\n",
    "    \"dog\",\n",
    "    order_by=\"published desc\",\n",
    "    limit=3,\n",
    "    where=\"id > :min_id\",\n",
    "    where_args={\"min_id\": 10},\n",
    "    columns=[\"title\", \"published\"]\n",
    "):\n",
    "    print(article)"
   ]
  },
  {
   "cell_type": "markdown",
   "metadata": {},
   "source": [
    "### Building SQL queries with table.search_sql()"
   ]
  },
  {
   "cell_type": "markdown",
   "metadata": {},
   "source": [
    "You can generate the SQL query that would be used for a search using the `table.search_sql()` method. It takes the same arguments as `table.search()`, with the exception of the search query and the `where_args` parameter, since those should be provided when the returned SQL is executed."
   ]
  },
  {
   "cell_type": "code",
   "execution_count": null,
   "metadata": {},
   "outputs": [
    {
     "ename": "AssertionError",
     "evalue": "Full-text search is not configured for table 'articles'",
     "output_type": "error",
     "traceback": [
      "\u001b[0;31m---------------------------------------------------------------------------\u001b[0m",
      "\u001b[0;31mAssertionError\u001b[0m                            Traceback (most recent call last)",
      "Input \u001b[0;32mIn [284]\u001b[0m, in \u001b[0;36m<cell line: 1>\u001b[0;34m()\u001b[0m\n\u001b[0;32m----> 1\u001b[0m \u001b[38;5;28mprint\u001b[39m(\u001b[43mdb\u001b[49m\u001b[43m[\u001b[49m\u001b[38;5;124;43m\"\u001b[39;49m\u001b[38;5;124;43marticles\u001b[39;49m\u001b[38;5;124;43m\"\u001b[39;49m\u001b[43m]\u001b[49m\u001b[38;5;241;43m.\u001b[39;49m\u001b[43msearch_sql\u001b[49m\u001b[43m(\u001b[49m\u001b[43mcolumns\u001b[49m\u001b[38;5;241;43m=\u001b[39;49m\u001b[43m[\u001b[49m\u001b[38;5;124;43m\"\u001b[39;49m\u001b[38;5;124;43mtitle\u001b[39;49m\u001b[38;5;124;43m\"\u001b[39;49m\u001b[43m,\u001b[49m\u001b[43m \u001b[49m\u001b[38;5;124;43m\"\u001b[39;49m\u001b[38;5;124;43mauthor\u001b[39;49m\u001b[38;5;124;43m\"\u001b[39;49m\u001b[43m]\u001b[49m\u001b[43m)\u001b[49m)\n",
      "File \u001b[0;32m~/code/sqlite-utils/sqlite_utils/db.py:2331\u001b[0m, in \u001b[0;36mTable.search_sql\u001b[0;34m(self, columns, order_by, limit, offset, where)\u001b[0m\n\u001b[1;32m   2327\u001b[0m     columns_with_prefix_sql \u001b[38;5;241m=\u001b[39m \u001b[38;5;124m\"\u001b[39m\u001b[38;5;124m,\u001b[39m\u001b[38;5;130;01m\\n\u001b[39;00m\u001b[38;5;124m    \u001b[39m\u001b[38;5;124m\"\u001b[39m\u001b[38;5;241m.\u001b[39mjoin(\n\u001b[1;32m   2328\u001b[0m         \u001b[38;5;124m\"\u001b[39m\u001b[38;5;124m[\u001b[39m\u001b[38;5;132;01m{}\u001b[39;00m\u001b[38;5;124m].[\u001b[39m\u001b[38;5;132;01m{}\u001b[39;00m\u001b[38;5;124m]\u001b[39m\u001b[38;5;124m\"\u001b[39m\u001b[38;5;241m.\u001b[39mformat(original, c) \u001b[38;5;28;01mfor\u001b[39;00m c \u001b[38;5;129;01min\u001b[39;00m columns\n\u001b[1;32m   2329\u001b[0m     )\n\u001b[1;32m   2330\u001b[0m fts_table \u001b[38;5;241m=\u001b[39m \u001b[38;5;28mself\u001b[39m\u001b[38;5;241m.\u001b[39mdetect_fts()\n\u001b[0;32m-> 2331\u001b[0m \u001b[38;5;28;01massert\u001b[39;00m fts_table, \u001b[38;5;124m\"\u001b[39m\u001b[38;5;124mFull-text search is not configured for table \u001b[39m\u001b[38;5;124m'\u001b[39m\u001b[38;5;132;01m{}\u001b[39;00m\u001b[38;5;124m'\u001b[39m\u001b[38;5;124m\"\u001b[39m\u001b[38;5;241m.\u001b[39mformat(\n\u001b[1;32m   2332\u001b[0m     \u001b[38;5;28mself\u001b[39m\u001b[38;5;241m.\u001b[39mname\n\u001b[1;32m   2333\u001b[0m )\n\u001b[1;32m   2334\u001b[0m virtual_table_using \u001b[38;5;241m=\u001b[39m \u001b[38;5;28mself\u001b[39m\u001b[38;5;241m.\u001b[39mdb[fts_table]\u001b[38;5;241m.\u001b[39mvirtual_table_using\n\u001b[1;32m   2335\u001b[0m sql \u001b[38;5;241m=\u001b[39m textwrap\u001b[38;5;241m.\u001b[39mdedent(\n\u001b[1;32m   2336\u001b[0m     \u001b[38;5;124;03m\"\"\"\u001b[39;00m\n\u001b[1;32m   2337\u001b[0m \u001b[38;5;124;03mwith {original} as (\u001b[39;00m\n\u001b[0;32m   (...)\u001b[0m\n\u001b[1;32m   2353\u001b[0m \u001b[38;5;124;03m\"\"\"\u001b[39;00m\n\u001b[1;32m   2354\u001b[0m )\u001b[38;5;241m.\u001b[39mstrip()\n",
      "\u001b[0;31mAssertionError\u001b[0m: Full-text search is not configured for table 'articles'"
     ]
    }
   ],
   "source": [
    "print(db[\"articles\"].search_sql(columns=[\"title\", \"author\"]))"
   ]
  },
  {
   "cell_type": "markdown",
   "metadata": {},
   "source": [
    "Outputs:"
   ]
  },
  {
   "cell_type": "code",
   "execution_count": null,
   "metadata": {},
   "outputs": [],
   "source": [
    "with original as (\n",
    "    select\n",
    "        rowid,\n",
    "        [title],\n",
    "        [author]\n",
    "    from [articles]\n",
    ")\n",
    "select\n",
    "    [original].[title],\n",
    "    [original].[author]\n",
    "from\n",
    "    [original]\n",
    "    join [articles_fts] on [original].rowid = [articles_fts].rowid\n",
    "where\n",
    "    [articles_fts] match :query\n",
    "order by\n",
    "    [articles_fts].rank"
   ]
  },
  {
   "cell_type": "markdown",
   "metadata": {},
   "source": [
    "This method detects if a SQLite table uses FTS4 or FTS5, and outputs the correct SQL for ordering by relevance depending on the search type."
   ]
  },
  {
   "cell_type": "markdown",
   "metadata": {},
   "source": [
    "The FTS4 output looks something like this:"
   ]
  },
  {
   "cell_type": "code",
   "execution_count": null,
   "metadata": {},
   "outputs": [],
   "source": [
    "with original as (\n",
    "    select\n",
    "        rowid,\n",
    "        [title],\n",
    "        [author]\n",
    "    from [articles]\n",
    ")\n",
    "select\n",
    "    [original].[title],\n",
    "    [original].[author]\n",
    "from\n",
    "    [original]\n",
    "    join [articles_fts] on [original].rowid = [articles_fts].rowid\n",
    "where\n",
    "    [articles_fts] match :query\n",
    "order by\n",
    "    rank_bm25(matchinfo([articles_fts], 'pcnalx'))"
   ]
  },
  {
   "cell_type": "markdown",
   "metadata": {},
   "source": [
    "This uses the `rank_bm25()` custom SQL function from `sqlite-fts4`. You can register that custom function against a `Database` connection using this method:"
   ]
  },
  {
   "cell_type": "code",
   "execution_count": null,
   "metadata": {},
   "outputs": [],
   "source": [
    "db.register_fts4_bm25()"
   ]
  },
  {
   "cell_type": "markdown",
   "metadata": {},
   "source": [
    "## Rebuilding a full-text search table"
   ]
  },
  {
   "cell_type": "markdown",
   "metadata": {},
   "source": [
    "You can rebuild a table using the `table.rebuild_fts()` method. This is useful for if the table configuration changes or the indexed data has become corrupted in some way."
   ]
  },
  {
   "cell_type": "code",
   "execution_count": null,
   "metadata": {},
   "outputs": [],
   "source": [
    "db[\"dogs\"].rebuild_fts()"
   ]
  },
  {
   "cell_type": "markdown",
   "metadata": {},
   "source": [
    "This method can be called on a table that has been configured for full-text search - `dogs` in this instance -  or directly on a `_fts` table:"
   ]
  },
  {
   "cell_type": "code",
   "execution_count": null,
   "metadata": {},
   "outputs": [],
   "source": [
    "db[\"dogs_fts\"].rebuild_fts()"
   ]
  },
  {
   "cell_type": "markdown",
   "metadata": {},
   "source": [
    "This runs the following SQL:"
   ]
  },
  {
   "cell_type": "code",
   "execution_count": null,
   "metadata": {},
   "outputs": [
    {
     "ename": "SyntaxError",
     "evalue": "invalid syntax (1718660990.py, line 1)",
     "output_type": "error",
     "traceback": [
      "\u001b[0;36m  Input \u001b[0;32mIn [285]\u001b[0;36m\u001b[0m\n\u001b[0;31m    INSERT INTO dogs_fts (dogs_fts) VALUES (\"rebuild\");\u001b[0m\n\u001b[0m           ^\u001b[0m\n\u001b[0;31mSyntaxError\u001b[0m\u001b[0;31m:\u001b[0m invalid syntax\n"
     ]
    }
   ],
   "source": [
    "INSERT INTO dogs_fts (dogs_fts) VALUES (\"rebuild\");"
   ]
  },
  {
   "cell_type": "markdown",
   "metadata": {},
   "source": [
    "## Optimizing a full-text search table"
   ]
  },
  {
   "cell_type": "markdown",
   "metadata": {},
   "source": [
    "Once you have populated a FTS table you can optimize it to dramatically reduce its size like so:"
   ]
  },
  {
   "cell_type": "code",
   "execution_count": null,
   "metadata": {},
   "outputs": [],
   "source": [
    "db[\"dogs\"].optimize();"
   ]
  },
  {
   "cell_type": "markdown",
   "metadata": {},
   "source": [
    "This runs the following SQL:"
   ]
  },
  {
   "cell_type": "markdown",
   "metadata": {},
   "source": [
    "```sql\n",
    "INSERT INTO dogs_fts (dogs_fts) VALUES (\"optimize\");\n",
    "```"
   ]
  },
  {
   "cell_type": "markdown",
   "metadata": {},
   "source": [
    "## Cached table counts using triggers"
   ]
  },
  {
   "cell_type": "markdown",
   "metadata": {},
   "source": [
    "The `select count(*)` query in SQLite requires a full scan of the primary key index, and can take an increasingly long time as the table grows larger."
   ]
  },
  {
   "cell_type": "markdown",
   "metadata": {},
   "source": [
    "The `table.enable_counts()` method can be used to configure triggers to continuously update a record in a `_counts` table. This value can then be used to quickly retrieve the count of rows in the associated table."
   ]
  },
  {
   "cell_type": "code",
   "execution_count": null,
   "metadata": {},
   "outputs": [],
   "source": [
    "#|hide\n",
    "recreate_dogs_db()\n",
    "db = Database(\"dogs.db\")"
   ]
  },
  {
   "cell_type": "code",
   "execution_count": null,
   "metadata": {},
   "outputs": [],
   "source": [
    "db[\"dogs\"].enable_counts()"
   ]
  },
  {
   "cell_type": "markdown",
   "metadata": {},
   "source": [
    "This will create the `_counts` table if it does not already exist, with the following schema:"
   ]
  },
  {
   "cell_type": "code",
   "execution_count": null,
   "metadata": {},
   "outputs": [
    {
     "name": "stdout",
     "output_type": "stream",
     "text": [
      "CREATE TABLE [_counts](\n",
      "   [table] TEXT PRIMARY KEY,\n",
      "   count INTEGER DEFAULT 0\n",
      ")\n"
     ]
    }
   ],
   "source": [
    "print(db[\"_counts\"].schema)"
   ]
  },
  {
   "cell_type": "markdown",
   "metadata": {},
   "source": [
    "You can enable cached counts for every table in a database (except for virtual tables and the `_counts` table itself) using the database `enable_counts()` method:"
   ]
  },
  {
   "cell_type": "code",
   "execution_count": null,
   "metadata": {},
   "outputs": [],
   "source": [
    "db.enable_counts()"
   ]
  },
  {
   "cell_type": "markdown",
   "metadata": {},
   "source": [
    "Once enabled, table counts will be stored in the `_counts` table. The count records will be automatically kept up-to-date by the triggers when rows are added or deleted to the table."
   ]
  },
  {
   "cell_type": "markdown",
   "metadata": {},
   "source": [
    "To access these counts you can query the `_counts` table directly or you can use the `db.cached_counts()` method. This method returns a dictionary mapping tables to their counts:"
   ]
  },
  {
   "cell_type": "code",
   "execution_count": null,
   "metadata": {},
   "outputs": [
    {
     "data": {
      "text/plain": [
       "{'dogs': 2, 'compound_dogs': 1}"
      ]
     },
     "execution_count": null,
     "metadata": {},
     "output_type": "execute_result"
    }
   ],
   "source": [
    "db.cached_counts()"
   ]
  },
  {
   "cell_type": "markdown",
   "metadata": {},
   "source": [
    "You can pass a list of table names to this method to retrieve just those counts:"
   ]
  },
  {
   "cell_type": "code",
   "execution_count": null,
   "metadata": {},
   "outputs": [
    {
     "data": {
      "text/plain": [
       "{'dogs': 2}"
      ]
     },
     "execution_count": null,
     "metadata": {},
     "output_type": "execute_result"
    }
   ],
   "source": [
    "db.cached_counts([\"dogs\"])"
   ]
  },
  {
   "cell_type": "markdown",
   "metadata": {},
   "source": [
    "The `table.count` property executes a `select count(*)` query by default, unless the `db.use_counts_table` property is set to `True`."
   ]
  },
  {
   "cell_type": "markdown",
   "metadata": {},
   "source": [
    "You can set `use_counts_table` to `True` when you instantiate the database object:"
   ]
  },
  {
   "cell_type": "code",
   "execution_count": null,
   "metadata": {},
   "outputs": [],
   "source": [
    "db = Database(\"dogs.db\", use_counts_table=True)"
   ]
  },
  {
   "cell_type": "markdown",
   "metadata": {},
   "source": [
    "If the property is `True` any calls to the `table.count` property will first attempt to find the cached count in the `_counts` table, and fall back on a `count(*)` query if the value is not available or the table is missing."
   ]
  },
  {
   "cell_type": "markdown",
   "metadata": {},
   "source": [
    "Calling the `.enable_counts()` method on a database or table object will set `use_counts_table` to `True` for the lifetime of that database object."
   ]
  },
  {
   "cell_type": "markdown",
   "metadata": {},
   "source": [
    "If the `_counts` table ever becomes out-of-sync with the actual table counts you can repair it using the `.reset_counts()` method:"
   ]
  },
  {
   "cell_type": "code",
   "execution_count": null,
   "metadata": {},
   "outputs": [],
   "source": [
    "db.reset_counts()"
   ]
  },
  {
   "cell_type": "markdown",
   "metadata": {},
   "source": [
    "## Creating indexes"
   ]
  },
  {
   "cell_type": "markdown",
   "metadata": {},
   "source": [
    "You can create an index on a table using the `.create_index(columns)` method. The method takes a list of columns:"
   ]
  },
  {
   "cell_type": "code",
   "execution_count": null,
   "metadata": {},
   "outputs": [],
   "source": [
    "#|hide\n",
    "recreate_dogs_db()\n",
    "db = Database(\"dogs.db\")\n",
    "db[\"dogs\"].add_column(\"is_good_dog\", bool);"
   ]
  },
  {
   "cell_type": "code",
   "execution_count": null,
   "metadata": {},
   "outputs": [],
   "source": [
    "db[\"dogs\"].create_index([\"is_good_dog\"]);"
   ]
  },
  {
   "cell_type": "markdown",
   "metadata": {},
   "source": [
    "By default the index will be named `idx_{table-name}_{columns}`. If you pass `find_unique_name=True` and the automatically derived name already exists, an available name will be found by incrementing a suffix number, for example `idx_items_title_2`."
   ]
  },
  {
   "cell_type": "markdown",
   "metadata": {},
   "source": [
    "You can customize the name of the created index by passing the `index_name` parameter:"
   ]
  },
  {
   "cell_type": "code",
   "execution_count": null,
   "metadata": {},
   "outputs": [],
   "source": [
    "db[\"dogs\"].create_index(\n",
    "    [\"is_good_dog\", \"age\"],\n",
    "    index_name=\"good_dogs_by_age\"\n",
    ");"
   ]
  },
  {
   "cell_type": "markdown",
   "metadata": {},
   "source": [
    "To create an index in descending order for a column, wrap the column name in `db.DescIndex()` like this:"
   ]
  },
  {
   "cell_type": "code",
   "execution_count": null,
   "metadata": {},
   "outputs": [],
   "source": [
    "from sqlite_utils.db import DescIndex"
   ]
  },
  {
   "cell_type": "code",
   "execution_count": null,
   "metadata": {},
   "outputs": [],
   "source": [
    "#|hide\n",
    "recreate_dogs_db()\n",
    "db = Database(\"dogs.db\")\n",
    "db[\"dogs\"].add_column(\"is_good_dog\", bool);"
   ]
  },
  {
   "cell_type": "code",
   "execution_count": null,
   "metadata": {},
   "outputs": [],
   "source": [
    "db[\"dogs\"].create_index(\n",
    "    [\"is_good_dog\", DescIndex(\"age\")],\n",
    "    index_name=\"good_dogs_by_age\"\n",
    ");"
   ]
  },
  {
   "cell_type": "markdown",
   "metadata": {},
   "source": [
    "You can create a unique index by passing `unique=True`:"
   ]
  },
  {
   "cell_type": "code",
   "execution_count": null,
   "metadata": {},
   "outputs": [],
   "source": [
    "db[\"dogs\"].create_index([\"name\"], unique=True);"
   ]
  },
  {
   "cell_type": "markdown",
   "metadata": {},
   "source": [
    "Use `if_not_exists=True` to do nothing if an index with that name already exists."
   ]
  },
  {
   "cell_type": "markdown",
   "metadata": {},
   "source": [
    "Pass `analyze=True` to run `ANALYZE` against the new index after creating it."
   ]
  },
  {
   "cell_type": "markdown",
   "metadata": {},
   "source": [
    "## Optimizing index usage with ANALYZE"
   ]
  },
  {
   "cell_type": "markdown",
   "metadata": {},
   "source": [
    "The `SQLite ANALYZE command` builds a table of statistics which the query planner can use to make better decisions about which indexes to use for a given query."
   ]
  },
  {
   "cell_type": "markdown",
   "metadata": {},
   "source": [
    "You should run `ANALYZE` if your database is large and you do not think your indexes are being efficiently used."
   ]
  },
  {
   "cell_type": "markdown",
   "metadata": {},
   "source": [
    "To run `ANALYZE` against every index in a database, use this:"
   ]
  },
  {
   "cell_type": "code",
   "execution_count": null,
   "metadata": {},
   "outputs": [],
   "source": [
    "db.analyze()"
   ]
  },
  {
   "cell_type": "markdown",
   "metadata": {},
   "source": [
    "To run it just against a specific named index, pass the name of the index to that method:"
   ]
  },
  {
   "cell_type": "code",
   "execution_count": null,
   "metadata": {},
   "outputs": [],
   "source": [
    "db.analyze(\"idx_dogs_name\")"
   ]
  },
  {
   "cell_type": "markdown",
   "metadata": {},
   "source": [
    "To run against all indexes attached to a specific table, you can either pass the table name to `db.analyze(...)` or you can call the method directly on the table, like this:"
   ]
  },
  {
   "cell_type": "code",
   "execution_count": null,
   "metadata": {},
   "outputs": [],
   "source": [
    "db[\"dogs\"].analyze()"
   ]
  },
  {
   "cell_type": "markdown",
   "metadata": {},
   "source": [
    "## Vacuum"
   ]
  },
  {
   "cell_type": "markdown",
   "metadata": {},
   "source": [
    "You can optimize your database by running VACUUM against it like so:"
   ]
  },
  {
   "cell_type": "code",
   "execution_count": null,
   "metadata": {},
   "outputs": [],
   "source": [
    "Database(\"my_database.db\").vacuum()"
   ]
  },
  {
   "cell_type": "markdown",
   "metadata": {},
   "source": [
    "## WAL mode"
   ]
  },
  {
   "cell_type": "markdown",
   "metadata": {},
   "source": [
    "You can enable `Write-Ahead Logging` for a database with `.enable_wal()`:"
   ]
  },
  {
   "cell_type": "code",
   "execution_count": null,
   "metadata": {},
   "outputs": [],
   "source": [
    "Database(\"my_database.db\").enable_wal()"
   ]
  },
  {
   "cell_type": "markdown",
   "metadata": {},
   "source": [
    "You can disable WAL mode using `.disable_wal()`:"
   ]
  },
  {
   "cell_type": "code",
   "execution_count": null,
   "metadata": {},
   "outputs": [],
   "source": [
    "Database(\"my_database.db\").disable_wal()"
   ]
  },
  {
   "cell_type": "markdown",
   "metadata": {},
   "source": [
    "You can check the current journal mode for a database using the `journal_mode` property:"
   ]
  },
  {
   "cell_type": "code",
   "execution_count": null,
   "metadata": {},
   "outputs": [],
   "source": [
    "journal_mode = Database(\"my_database.db\").journal_mode"
   ]
  },
  {
   "cell_type": "markdown",
   "metadata": {},
   "source": [
    "This will usually be `wal` or `delete` (meaning WAL is disabled), but can have other values - see the `PRAGMA journal_mode` documentation."
   ]
  },
  {
   "cell_type": "markdown",
   "metadata": {},
   "source": [
    "## Suggesting column types"
   ]
  },
  {
   "cell_type": "markdown",
   "metadata": {},
   "source": [
    "When you create a new table for a list of inserted or upserted Python dictionaries, those methods detect the correct types for the database columns based on the data you pass in."
   ]
  },
  {
   "cell_type": "markdown",
   "metadata": {},
   "source": [
    "In some situations you may need to intervene in this process, to customize the columns that are being created in some way - see `python_api_explicit_create`."
   ]
  },
  {
   "cell_type": "markdown",
   "metadata": {},
   "source": [
    "That table `.create()` method takes a dictionary mapping column names to the Python type they should store:"
   ]
  },
  {
   "cell_type": "code",
   "execution_count": null,
   "metadata": {},
   "outputs": [],
   "source": [
    "db = Database(memory=True)\n",
    "db[\"cats\"].create({\n",
    "    \"id\": int,\n",
    "    \"name\": str,\n",
    "    \"weight\": float,\n",
    "});"
   ]
  },
  {
   "cell_type": "markdown",
   "metadata": {},
   "source": [
    "You can use the `suggest_column_types()` helper function to derive a dictionary of column names and types from a list of records, suitable to be passed to `table.create()`."
   ]
  },
  {
   "cell_type": "markdown",
   "metadata": {},
   "source": [
    "For example:"
   ]
  },
  {
   "cell_type": "code",
   "execution_count": null,
   "metadata": {},
   "outputs": [],
   "source": [
    "from sqlite_utils import suggest_column_types"
   ]
  },
  {
   "cell_type": "code",
   "execution_count": null,
   "metadata": {},
   "outputs": [
    {
     "data": {
      "text/plain": [
       "{'id': int, 'name': str, 'age': int}"
      ]
     },
     "execution_count": null,
     "metadata": {},
     "output_type": "execute_result"
    }
   ],
   "source": [
    "cats = [{\n",
    "    \"id\": 1,\n",
    "    \"name\": \"Snowflake\"\n",
    "}, {\n",
    "    \"id\": 2,\n",
    "    \"name\": \"Crabtree\",\n",
    "    \"age\": 4\n",
    "}]\n",
    "types = suggest_column_types(cats)\n",
    "types"
   ]
  },
  {
   "cell_type": "markdown",
   "metadata": {},
   "source": [
    "Manually add an extra field:"
   ]
  },
  {
   "cell_type": "code",
   "execution_count": null,
   "metadata": {},
   "outputs": [
    {
     "data": {
      "text/plain": [
       "{'id': int, 'name': str, 'age': int, 'thumbnail': bytes}"
      ]
     },
     "execution_count": null,
     "metadata": {},
     "output_type": "execute_result"
    }
   ],
   "source": [
    "types[\"thumbnail\"] = bytes\n",
    "types"
   ]
  },
  {
   "cell_type": "markdown",
   "metadata": {},
   "source": [
    "Create the table:"
   ]
  },
  {
   "cell_type": "code",
   "execution_count": null,
   "metadata": {},
   "outputs": [
    {
     "data": {
      "text/plain": [
       "<Table cats (id, name, age, thumbnail)>"
      ]
     },
     "execution_count": null,
     "metadata": {},
     "output_type": "execute_result"
    }
   ],
   "source": [
    "db = Database(memory=True)\n",
    "db[\"cats\"].create(types, pk=\"id\")"
   ]
  },
  {
   "cell_type": "markdown",
   "metadata": {},
   "source": [
    "Insert the records:"
   ]
  },
  {
   "cell_type": "code",
   "execution_count": null,
   "metadata": {},
   "outputs": [
    {
     "data": {
      "text/plain": [
       "[{'id': 1, 'name': 'Snowflake', 'age': None, 'thumbnail': None},\n",
       " {'id': 2, 'name': 'Crabtree', 'age': 4, 'thumbnail': None}]"
      ]
     },
     "execution_count": null,
     "metadata": {},
     "output_type": "execute_result"
    }
   ],
   "source": [
    "db[\"cats\"].insert_all(cats)\n",
    "list(db[\"cats\"].rows)"
   ]
  },
  {
   "cell_type": "markdown",
   "metadata": {},
   "source": [
    "The table schema looks like this:"
   ]
  },
  {
   "cell_type": "code",
   "execution_count": null,
   "metadata": {},
   "outputs": [
    {
     "name": "stdout",
     "output_type": "stream",
     "text": [
      "CREATE TABLE [cats] (\n",
      "   [id] INTEGER PRIMARY KEY,\n",
      "   [name] TEXT,\n",
      "   [age] INTEGER,\n",
      "   [thumbnail] BLOB\n",
      ")\n"
     ]
    }
   ],
   "source": [
    "print(db[\"cats\"].schema)"
   ]
  },
  {
   "cell_type": "markdown",
   "metadata": {},
   "source": [
    "## Registering custom SQL functions"
   ]
  },
  {
   "cell_type": "markdown",
   "metadata": {},
   "source": [
    "SQLite supports registering custom SQL functions written in Python. The `db.register_function()` method lets you register these functions, and keeps track of functions that have already been registered."
   ]
  },
  {
   "cell_type": "markdown",
   "metadata": {},
   "source": [
    "If you use it as a method it will automatically detect the name and number of arguments needed by the function:"
   ]
  },
  {
   "cell_type": "code",
   "execution_count": null,
   "metadata": {},
   "outputs": [
    {
     "name": "stdout",
     "output_type": "stream",
     "text": [
      "olleh\n"
     ]
    }
   ],
   "source": [
    "db = Database(memory=True)\n",
    "\n",
    "def reverse_string(s):\n",
    "    return \"\".join(reversed(list(s)))\n",
    "\n",
    "db.register_function(reverse_string)\n",
    "print(db.execute('select reverse_string(\"hello\")').fetchone()[0])"
   ]
  },
  {
   "cell_type": "markdown",
   "metadata": {},
   "source": [
    "You can also use the method as a function decorator like so:"
   ]
  },
  {
   "cell_type": "code",
   "execution_count": null,
   "metadata": {},
   "outputs": [
    {
     "name": "stdout",
     "output_type": "stream",
     "text": [
      "olleh\n"
     ]
    }
   ],
   "source": [
    "@db.register_function\n",
    "def reverse_string(s):\n",
    "    return \"\".join(reversed(list(s)))\n",
    "\n",
    "print(db.execute('select reverse_string(\"hello\")').fetchone()[0])"
   ]
  },
  {
   "cell_type": "markdown",
   "metadata": {},
   "source": [
    "By default, the name of the Python function will be used as the name of the SQL function. You can customize this with the `name=` keyword argument:"
   ]
  },
  {
   "cell_type": "code",
   "execution_count": null,
   "metadata": {},
   "outputs": [
    {
     "name": "stdout",
     "output_type": "stream",
     "text": [
      "olleh\n"
     ]
    }
   ],
   "source": [
    "@db.register_function(name=\"rev\")\n",
    "def reverse_string(s):\n",
    "    return \"\".join(reversed(list(s)))\n",
    "\n",
    "print(db.execute('select rev(\"hello\")').fetchone()[0])"
   ]
  },
  {
   "cell_type": "markdown",
   "metadata": {},
   "source": [
    "Python 3.8 added the ability to register `deterministic SQLite functions`, allowing you to indicate that a function will return the exact same result for any given inputs and hence allowing SQLite to apply some performance optimizations. You can mark a function as deterministic using `deterministic=True`, like this:"
   ]
  },
  {
   "cell_type": "code",
   "execution_count": null,
   "metadata": {},
   "outputs": [],
   "source": [
    "@db.register_function(deterministic=True)\n",
    "def reverse_string(s):\n",
    "    return \"\".join(reversed(list(s)))"
   ]
  },
  {
   "cell_type": "markdown",
   "metadata": {},
   "source": [
    "If you run this on a version of Python prior to 3.8 your code will still work, but the `deterministic=True` parameter will be ignored."
   ]
  },
  {
   "cell_type": "markdown",
   "metadata": {},
   "source": [
    "By default registering a function with the same name and number of arguments will have no effect - the `Database` instance keeps track of functions that have already been registered and skips registering them if `@db.register_function` is called a second time."
   ]
  },
  {
   "cell_type": "markdown",
   "metadata": {},
   "source": [
    "If you want to deliberately replace the registered function with a new implementation, use the `replace=True` argument:"
   ]
  },
  {
   "cell_type": "code",
   "execution_count": null,
   "metadata": {},
   "outputs": [],
   "source": [
    "@db.register_function(deterministic=True, replace=True)\n",
    "def reverse_string(s):\n",
    "    return s[::-1]"
   ]
  },
  {
   "cell_type": "markdown",
   "metadata": {},
   "source": [
    "Exceptions that occur inside a user-defined function default to returning the following error:"
   ]
  },
  {
   "cell_type": "markdown",
   "metadata": {},
   "source": [
    "```\n",
    "Unexpected error: user-defined function raised exception\n",
    "```"
   ]
  },
  {
   "cell_type": "markdown",
   "metadata": {},
   "source": [
    "You can cause `sqlite3` to return more useful errors, including the traceback from the custom function, by executing the following before your custom functions are executed:"
   ]
  },
  {
   "cell_type": "code",
   "execution_count": null,
   "metadata": {},
   "outputs": [],
   "source": [
    "sqlite3.enable_callback_tracebacks(True)"
   ]
  },
  {
   "cell_type": "markdown",
   "metadata": {},
   "source": [
    "## Quoting strings for use in SQL"
   ]
  },
  {
   "cell_type": "markdown",
   "metadata": {},
   "source": [
    "In almost all cases you should pass values to your SQL queries using the optional `parameters` argument to `db.query()`, as described in `python_api_parameters`."
   ]
  },
  {
   "cell_type": "markdown",
   "metadata": {},
   "source": [
    "If that option isn't relevant to your use-case you can to quote a string for use with SQLite using the `db.quote()` method, like so:"
   ]
  },
  {
   "cell_type": "code",
   "execution_count": null,
   "metadata": {},
   "outputs": [
    {
     "data": {
      "text/plain": [
       "\"'hello'\""
      ]
     },
     "execution_count": null,
     "metadata": {},
     "output_type": "execute_result"
    }
   ],
   "source": [
    "db = Database(memory=True)\n",
    "db.quote(\"hello\")"
   ]
  },
  {
   "cell_type": "code",
   "execution_count": null,
   "metadata": {},
   "outputs": [
    {
     "data": {
      "text/plain": [
       "\"'hello''this''has''quotes'\""
      ]
     },
     "execution_count": null,
     "metadata": {},
     "output_type": "execute_result"
    }
   ],
   "source": [
    "db.quote(\"hello'this'has'quotes\")"
   ]
  },
  {
   "cell_type": "markdown",
   "metadata": {},
   "source": [
    "## Reading rows from a file"
   ]
  },
  {
   "cell_type": "markdown",
   "metadata": {},
   "source": [
    "The `sqlite_utils.utils.rows_from_file()` helper function can read rows (a sequence of dictionaries) from CSV, TSV, JSON or newline-delimited JSON files."
   ]
  },
  {
   "cell_type": "markdown",
   "metadata": {},
   "source": [
    "_Note: removed `autofunction:: sqlite_utils.utils.rows_from_file` here. We would use `show_doc`._"
   ]
  },
  {
   "cell_type": "markdown",
   "metadata": {},
   "source": [
    "## Setting the maximum CSV field size limit"
   ]
  },
  {
   "cell_type": "markdown",
   "metadata": {},
   "source": [
    "Sometimes when working with CSV files that include extremely long fields you may see an error that looks like this:"
   ]
  },
  {
   "cell_type": "markdown",
   "metadata": {},
   "source": [
    "```\n",
    "_csv.Error: field larger than field limit (131072)\n",
    "```"
   ]
  },
  {
   "cell_type": "markdown",
   "metadata": {},
   "source": [
    "The Python standard library `csv` module enforces a field size limit. You can increase that limit using the `csv.field_size_limit(new_limit)` method (`documented here`) but if you don't want to pick a new level you may instead want to increase it to the maximum possible."
   ]
  },
  {
   "cell_type": "markdown",
   "metadata": {},
   "source": [
    "The maximum possible value for this is not documented, and varies between systems."
   ]
  },
  {
   "cell_type": "markdown",
   "metadata": {},
   "source": [
    "Calling `sqlite_utils.utils.maximize_csv_field_size_limit()` will set the value to the highest possible for the current system:"
   ]
  },
  {
   "cell_type": "code",
   "execution_count": null,
   "metadata": {},
   "outputs": [],
   "source": [
    "from sqlite_utils.utils import maximize_csv_field_size_limit"
   ]
  },
  {
   "cell_type": "code",
   "execution_count": null,
   "metadata": {},
   "outputs": [],
   "source": [
    "maximize_csv_field_size_limit()"
   ]
  },
  {
   "cell_type": "markdown",
   "metadata": {},
   "source": [
    "If you need to reset to the original value after calling this function you can do so like this:"
   ]
  },
  {
   "cell_type": "code",
   "execution_count": null,
   "metadata": {},
   "outputs": [],
   "source": [
    "from sqlite_utils.utils import ORIGINAL_CSV_FIELD_SIZE_LIMIT\n",
    "import csv"
   ]
  },
  {
   "cell_type": "code",
   "execution_count": null,
   "metadata": {},
   "outputs": [
    {
     "data": {
      "text/plain": [
       "9223372036854775807"
      ]
     },
     "execution_count": null,
     "metadata": {},
     "output_type": "execute_result"
    }
   ],
   "source": [
    "csv.field_size_limit(ORIGINAL_CSV_FIELD_SIZE_LIMIT)"
   ]
  },
  {
   "cell_type": "markdown",
   "metadata": {},
   "source": [
    "## Detecting column types using TypeTracker"
   ]
  },
  {
   "cell_type": "markdown",
   "metadata": {},
   "source": [
    "Sometimes you may find yourself working with data that lacks type information - data from a CSV file for example."
   ]
  },
  {
   "cell_type": "markdown",
   "metadata": {},
   "source": [
    "The `TypeTracker` class can be used to try to automatically identify the most likely types for data that is initially represented as strings."
   ]
  },
  {
   "cell_type": "markdown",
   "metadata": {},
   "source": [
    "Consider this example:"
   ]
  },
  {
   "cell_type": "code",
   "execution_count": null,
   "metadata": {},
   "outputs": [],
   "source": [
    "import csv, io"
   ]
  },
  {
   "cell_type": "code",
   "execution_count": null,
   "metadata": {},
   "outputs": [
    {
     "data": {
      "text/plain": [
       "[{'id': '1', 'name': 'Cleo'}, {'id': '2', 'name': 'Cardi'}]"
      ]
     },
     "execution_count": null,
     "metadata": {},
     "output_type": "execute_result"
    }
   ],
   "source": [
    "csv_file = io.StringIO(\"id,name\\n1,Cleo\\n2,Cardi\")\n",
    "rows = list(csv.DictReader(csv_file))\n",
    "rows"
   ]
  },
  {
   "cell_type": "markdown",
   "metadata": {},
   "source": [
    "If we insert this data directly into a table we will get a schema that is entirely `TEXT` columns:"
   ]
  },
  {
   "cell_type": "code",
   "execution_count": null,
   "metadata": {},
   "outputs": [
    {
     "name": "stdout",
     "output_type": "stream",
     "text": [
      "CREATE TABLE [creatures] (\n",
      "   [id] TEXT,\n",
      "   [name] TEXT\n",
      ");\n"
     ]
    }
   ],
   "source": [
    "db = Database(memory=True)\n",
    "db[\"creatures\"].insert_all(rows)\n",
    "print(db.schema)"
   ]
  },
  {
   "cell_type": "markdown",
   "metadata": {},
   "source": [
    "We can detect the best column types using a `TypeTracker` instance:"
   ]
  },
  {
   "cell_type": "code",
   "execution_count": null,
   "metadata": {},
   "outputs": [],
   "source": [
    "from sqlite_utils.utils import TypeTracker"
   ]
  },
  {
   "cell_type": "code",
   "execution_count": null,
   "metadata": {},
   "outputs": [
    {
     "name": "stdout",
     "output_type": "stream",
     "text": [
      "{'id': 'integer', 'name': 'text'}\n"
     ]
    }
   ],
   "source": [
    "tracker = TypeTracker()\n",
    "db[\"creatures2\"].insert_all(tracker.wrap(rows))\n",
    "print(tracker.types)"
   ]
  },
  {
   "cell_type": "markdown",
   "metadata": {},
   "source": [
    "We can then apply those types to our new table using the `table.transform()` method:"
   ]
  },
  {
   "cell_type": "code",
   "execution_count": null,
   "metadata": {},
   "outputs": [
    {
     "name": "stdout",
     "output_type": "stream",
     "text": [
      "CREATE TABLE \"creatures2\" (\n",
      "   [id] INTEGER,\n",
      "   [name] TEXT\n",
      ")\n"
     ]
    }
   ],
   "source": [
    "db[\"creatures2\"].transform(types=tracker.types)\n",
    "print(db[\"creatures2\"].schema)"
   ]
  },
  {
   "cell_type": "markdown",
   "metadata": {},
   "source": [
    "## SpatiaLite helpers"
   ]
  },
  {
   "cell_type": "markdown",
   "metadata": {},
   "source": [
    "`SpatiaLite` is a geographic extension to SQLite (similar to PostgreSQL + PostGIS). Using requires finding, loading and initializing the extension, adding geometry columns to existing tables and optionally creating spatial indexes. The utilities here help streamline that setup."
   ]
  },
  {
   "cell_type": "markdown",
   "metadata": {},
   "source": [
    "### Initialize SpatiaLite"
   ]
  },
  {
   "cell_type": "markdown",
   "metadata": {},
   "source": [
    "_Note: removed `automethod:: sqlite_utils.db.Database.init_spatialite` here. We would use `show_doc`._"
   ]
  },
  {
   "cell_type": "markdown",
   "metadata": {},
   "source": [
    "### Finding SpatiaLite"
   ]
  },
  {
   "cell_type": "markdown",
   "metadata": {},
   "source": [
    "_Note: removed `autofunction:: sqlite_utils.utils.find_spatialite` here. We would use `show_doc`._"
   ]
  },
  {
   "cell_type": "markdown",
   "metadata": {},
   "source": [
    "### Adding geometry columns"
   ]
  },
  {
   "cell_type": "markdown",
   "metadata": {},
   "source": [
    "_Note: removed `autofunction:: sqlite_utils.db.Table.add_geometry_column` here. We would use `show_doc`._"
   ]
  },
  {
   "cell_type": "markdown",
   "metadata": {},
   "source": [
    "### Creating a spatial index"
   ]
  },
  {
   "cell_type": "markdown",
   "metadata": {},
   "source": [
    "_Note: removed `autofunction:: sqlite_utils.db.Table.create_spatial_index` here. We would use `show_doc`._"
   ]
  }
 ],
 "metadata": {
  "kernelspec": {
   "display_name": "Python 3 (ipykernel)",
   "language": "python",
   "name": "python3"
  }
 },
 "nbformat": 4,
 "nbformat_minor": 4
}
