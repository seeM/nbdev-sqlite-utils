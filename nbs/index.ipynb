{
 "cells": [
  {
   "cell_type": "markdown",
   "metadata": {},
   "source": [
    "# nbdev-sqlite-utils\n",
    "\n",
    "> An experiment in porting sqlite-utils to nbdev"
   ]
  },
  {
   "cell_type": "markdown",
   "metadata": {},
   "source": [
    "All content in this repo (except `rst2ipynb`) is originally from the [sqlite-utils](https://github.com/simonw/sqlite-utils) package, which is originally the work of Simon Willison."
   ]
  },
  {
   "cell_type": "markdown",
   "metadata": {},
   "source": [
    "Note that `rst2ipynb` was written for demonstration purposes and has the following known issues:\n",
    "\n",
    "- does not convert all links correctly\n",
    "- does not convert numbered lists correctly\n",
    "- does not convert tables correctly\n",
    "- does not understand certain sphinx directives"
   ]
  }
 ],
 "metadata": {
  "kernelspec": {
   "display_name": "Python 3 (ipykernel)",
   "language": "python",
   "name": "python3"
  }
 },
 "nbformat": 4,
 "nbformat_minor": 4
}
