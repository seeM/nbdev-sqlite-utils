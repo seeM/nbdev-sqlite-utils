{
 "cells": [
  {
   "cell_type": "markdown",
   "id": "d818e0fc",
   "metadata": {},
   "source": [
    "# rst2ipynb\n",
    "\n",
    "> Minimal .rst to .ipynb converter"
   ]
  },
  {
   "cell_type": "code",
   "execution_count": null,
   "id": "4dede505",
   "metadata": {},
   "outputs": [],
   "source": [
    "#|default_exp rst2ipynb"
   ]
  },
  {
   "cell_type": "code",
   "execution_count": null,
   "id": "27d89fe5",
   "metadata": {},
   "outputs": [],
   "source": [
    "#|export\n",
    "import json\n",
    "from docutils import nodes\n",
    "from docutils.parsers.rst.roles import register_local_role\n",
    "from docutils.parsers.rst import Parser\n",
    "from docutils.frontend import OptionParser\n",
    "from docutils.utils import new_document\n",
    "\n",
    "from fastcore.script import *\n",
    "from fastcore.utils import *\n",
    "from execnb.nbio import *"
   ]
  },
  {
   "cell_type": "code",
   "execution_count": null,
   "id": "a4d81ffa",
   "metadata": {},
   "outputs": [],
   "source": [
    "#|export\n",
    "def ref_role(name, rawtext, text, lineno, inliner, options=None, content=None):\n",
    "    \"Custom `ref` role.\"\n",
    "    node = nodes.reference(rawtext, text.split(' ')[0])\n",
    "    return [node], []"
   ]
  },
  {
   "cell_type": "code",
   "execution_count": null,
   "id": "3184261b",
   "metadata": {},
   "outputs": [],
   "source": [
    "#|export\n",
    "register_local_role('ref', ref_role)"
   ]
  },
  {
   "cell_type": "code",
   "execution_count": null,
   "id": "93af067b",
   "metadata": {},
   "outputs": [],
   "source": [
    "#|export\n",
    "def parse_rst(fname):\n",
    "    \"Parse a .rst file.\"\n",
    "    text = Path(fname).read_text()\n",
    "    parser = Parser()\n",
    "    components = (Parser,)\n",
    "    settings = OptionParser(components=components).get_default_values()\n",
    "    document = new_document('<rst-doc>', settings=settings)\n",
    "    parser.parse(text, document)\n",
    "    return document"
   ]
  },
  {
   "cell_type": "code",
   "execution_count": null,
   "id": "55a5dd1d",
   "metadata": {},
   "outputs": [],
   "source": [
    "#|hide\n",
    "# doc = parse_rst('/Users/seem/code/nbdev-sqlite-utils-bak/python-api.rst')"
   ]
  },
  {
   "cell_type": "code",
   "execution_count": null,
   "id": "f1b9b167",
   "metadata": {},
   "outputs": [],
   "source": [
    "#|export\n",
    "class NotebookVisitor(nodes.NodeVisitor):\n",
    "    \"Convert an rst document into notebook cells.\"\n",
    "    def __init__(self, *args, **kwargs):\n",
    "        self.cells = []\n",
    "        self._lvl = 0\n",
    "        super().__init__(*args, **kwargs)\n",
    "        \n",
    "    def _cell(self, d):\n",
    "        d['source'] = d['source'].splitlines(True)\n",
    "        self.cells.append(d)\n",
    "    def _markdown(self, s): self._cell({'cell_type':'markdown','metadata':{},'source':s})\n",
    "    def _code(self, s): self._cell({'cell_type':'code','execution_count':None,'metadata':{},'outputs':[],'source':s})\n",
    "\n",
    "    def visit_section(self, node): self._lvl += 1\n",
    "    def depart_section(self, node): self._lvl -= 1\n",
    "\n",
    "    def visit_title(self, node):\n",
    "        s = '#'*self._lvl + ' ' + node.astext()\n",
    "        self._markdown(s)\n",
    "\n",
    "    def visit_paragraph(self, node):\n",
    "        s = ''\n",
    "        for n in node:\n",
    "            if isinstance(n, (nodes.literal,nodes.reference,nodes.title_reference)): s += f'`{n.astext()}`'\n",
    "            else: s += str(n)\n",
    "        self._markdown(s)\n",
    "\n",
    "    def visit_literal_block(self, node):\n",
    "        self._code(node.astext())\n",
    "\n",
    "    def unknown_visit(self, node): pass\n",
    "    def unknown_departure(self, node): pass"
   ]
  },
  {
   "cell_type": "code",
   "execution_count": null,
   "id": "24897e5d",
   "metadata": {},
   "outputs": [],
   "source": [
    "#|export\n",
    "def _nb(cells): return {'cells': cells, 'nbformat': 4, 'nbformat_minor': 4, 'metadata': {}}"
   ]
  },
  {
   "cell_type": "code",
   "execution_count": null,
   "id": "8210b54c",
   "metadata": {},
   "outputs": [],
   "source": [
    "#|export\n",
    "@call_parse\n",
    "def rst2ipynb(fname:str): # Path to .rst file\n",
    "    \"Convert a .rst file to .ipynb.\"\n",
    "    doc = parse_rst(fname)\n",
    "    vis = NotebookVisitor(doc)\n",
    "    doc.walkabout(vis)\n",
    "    nb = _nb(vis.cells)\n",
    "    out = Path(fname).with_suffix('.ipynb')\n",
    "    write_nb(nb, out)"
   ]
  },
  {
   "cell_type": "code",
   "execution_count": null,
   "id": "6120f5a2",
   "metadata": {},
   "outputs": [],
   "source": [
    "#|hide\n",
    "import nbdev; nbdev.nbdev_export()"
   ]
  },
  {
   "cell_type": "code",
   "execution_count": null,
   "id": "0ba3e1b6",
   "metadata": {},
   "outputs": [],
   "source": []
  }
 ],
 "metadata": {
  "kernelspec": {
   "display_name": "Python 3 (ipykernel)",
   "language": "python",
   "name": "python3"
  }
 },
 "nbformat": 4,
 "nbformat_minor": 5
}
